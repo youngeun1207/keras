{
 "cells": [
  {
   "cell_type": "markdown",
   "id": "856a6719",
   "metadata": {},
   "source": [
    "# Convnet의 학습 시각화하기\n",
    "convnet의 표현은 시각적인 개념을 학습한 것이기 때문에 시각화할 수 있다!\n",
    "\n",
    "## Convnet 시각화 기법 개요\n",
    "1. Convnet **중간 층의 출력**을 시각화\n",
    "    * 연속된 컨브넷 층이 입력을 어떻게 변형시킬까?\n",
    "    * 개별적인 컨브넷 필터의 의미 파악하기\n",
    "    \n",
    "\n",
    "2. Convnet **필터** 시각화\n",
    "    * 컨브넷 필터가 찾으려는 시각적인 패턴와 개념을 이해하기\n",
    "    \n",
    "\n",
    "3. 클래스 활성화에 대한 **heatmap**을 이미지에 시각화\n",
    "    * 이미지의 어떤 부분이 주어진 클래스에 속하는 데 기여했을까?\n",
    "    * 이미지에서 객체 위치를 추정(localization)하기\n",
    "---"
   ]
  },
  {
   "cell_type": "code",
   "execution_count": null,
   "id": "d70843f7",
   "metadata": {},
   "outputs": [],
   "source": []
  }
 ],
 "metadata": {
  "kernelspec": {
   "display_name": "Python 3 (ipykernel)",
   "language": "python",
   "name": "python3"
  },
  "language_info": {
   "codemirror_mode": {
    "name": "ipython",
    "version": 3
   },
   "file_extension": ".py",
   "mimetype": "text/x-python",
   "name": "python",
   "nbconvert_exporter": "python",
   "pygments_lexer": "ipython3",
   "version": "3.8.12"
  }
 },
 "nbformat": 4,
 "nbformat_minor": 5
}
