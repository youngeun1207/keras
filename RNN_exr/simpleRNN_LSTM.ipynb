{
  "cells": [
    {
      "cell_type": "markdown",
      "metadata": {
        "id": "yzhuj7YdFrS8"
      },
      "source": [
        "# RNN으로 IMDB 영화리뷰 감정 분류하기\n",
        "## simpleRNN\n",
        "### 순환 신경망 RNN\n",
        "* 시퀀스의 원소를 순회하면서 지금까지 처리한 정보를 **상태(state)**에 저장\n",
        "* 내부에 loop를 가진 신경망"
      ]
    },
    {
      "cell_type": "markdown",
      "metadata": {
        "id": "Wiz6bUbRFrS_"
      },
      "source": [
        "### numpy로 구현한 간단한 RNN\n",
        "> RNN 정방향 계산 구현\n",
        "* input: 크기 (timesteps, input_feature)인 2D 텐서로 인코딩 된 벡터의 시퀀스\n",
        "    * 시퀀스는 timestep을 따라서 반복됨\n",
        "    * 각 timestep t에서 현재 상태와 입력을 연결하여 출력으로 계산 -> 출력을 다음 스텝의 상태로 설정\n",
        "    * 1번째 timestep은 초기상태(0 벡터)로 상태 초기화"
      ]
    },
    {
      "cell_type": "code",
      "execution_count": 6,
      "metadata": {
        "id": "Kw4RjfwLFrS_"
      },
      "outputs": [],
      "source": [
        "import numpy as np\n",
        "\n",
        "timesteps = 100 # 입력시퀀스에 있는 타임스텝 수\n",
        "input_features = 32 \n",
        "output_features = 64\n",
        "\n",
        "inputs = np.random.random((timesteps, input_features)) # 입력 데이터: 예제를 위해 생성한 난수\n",
        "\n",
        "state_t = np.zeros((output_features)) # 초기상태: 모두 0인 벡터\n",
        "\n",
        "W = np.random.random((output_features, input_features)) \n",
        "U = np.random.random((output_features, output_features)) \n",
        "b = np.random.random((output_features,)) \n",
        "\n",
        "successive_outputs = []\n",
        "for input_t in inputs:\n",
        "    # 입력과 현재 상태(이전 출력)를 연결하여 현재 출력 얻기\n",
        "    output_t = np.tanh(np.dot(W, input_t) + np.dot(U, state_t) + b)\n",
        "    # 출력을 리스트에 저장\n",
        "    successive_outputs.append(output_t)\n",
        "    # 다음 타임스텝을 위해 네트워크 상태 업데이트\n",
        "    state_t = output_t\n",
        "# 최종 출력    \n",
        "final_output_sequence = np.stack(successive_outputs, axis=0)"
      ]
    },
    {
      "cell_type": "markdown",
      "metadata": {
        "id": "GRuJcQ1WFrTB"
      },
      "source": [
        "---\n",
        "## simple RNN으로 영화리뷰 이진분류\n",
        "### IMDB 데이터 전처리"
      ]
    },
    {
      "cell_type": "code",
      "execution_count": 7,
      "metadata": {
        "colab": {
          "base_uri": "https://localhost:8080/"
        },
        "id": "kjWEe-uIvbX5",
        "outputId": "ac502292-1afb-4989-f953-901814fee804"
      },
      "outputs": [
        {
          "output_type": "stream",
          "name": "stdout",
          "text": [
            "데이터 로딩...\n",
            "25000 훈련 시퀀스\n",
            "25000 테스트 시퀀스\n",
            "시퀀스 패딩 (samples x time)\n",
            "input_train 크기: (25000, 500)\n",
            "input_test 크기: (25000, 500)\n"
          ]
        }
      ],
      "source": [
        "from keras.datasets import imdb\n",
        "from keras.preprocessing import sequence\n",
        "\n",
        "max_features = 10000  # 특성으로 사용할 단어의 수\n",
        "maxlen = 500  # 사용할 텍스트의 길이(가장 빈번한 max_features 개의 단어만 사용)\n",
        "batch_size = 32\n",
        "\n",
        "print('데이터 로딩...')\n",
        "(input_train, y_train), (input_test, y_test) = imdb.load_data(num_words=max_features)\n",
        "print(len(input_train), '훈련 시퀀스')\n",
        "print(len(input_test), '테스트 시퀀스')\n",
        "\n",
        "print('시퀀스 패딩 (samples x time)')\n",
        "input_train = sequence.pad_sequences(input_train, maxlen=maxlen)\n",
        "input_test = sequence.pad_sequences(input_test, maxlen=maxlen)\n",
        "print('input_train 크기:', input_train.shape)\n",
        "print('input_test 크기:', input_test.shape)"
      ]
    },
    {
      "cell_type": "markdown",
      "metadata": {
        "id": "7_CxD_bjFrTC"
      },
      "source": [
        "### 임베딩 층과 SimpleRNN층을 사용한 모델 훈련"
      ]
    },
    {
      "cell_type": "code",
      "execution_count": 8,
      "metadata": {
        "colab": {
          "base_uri": "https://localhost:8080/"
        },
        "id": "Yru9cPePvmJZ",
        "outputId": "eaf246a6-b4b9-47e3-be14-de87bbc8af9b"
      },
      "outputs": [
        {
          "output_type": "stream",
          "name": "stdout",
          "text": [
            "Epoch 1/10\n",
            "157/157 [==============================] - 105s 662ms/step - loss: 0.6186 - acc: 0.6349 - val_loss: 0.4533 - val_acc: 0.7992\n",
            "Epoch 2/10\n",
            "157/157 [==============================] - 100s 637ms/step - loss: 0.3864 - acc: 0.8330 - val_loss: 0.4631 - val_acc: 0.7972\n",
            "Epoch 3/10\n",
            "157/157 [==============================] - 104s 660ms/step - loss: 0.2879 - acc: 0.8869 - val_loss: 0.4773 - val_acc: 0.7688\n",
            "Epoch 4/10\n",
            "157/157 [==============================] - 99s 633ms/step - loss: 0.2300 - acc: 0.9111 - val_loss: 0.4157 - val_acc: 0.8182\n",
            "Epoch 5/10\n",
            "157/157 [==============================] - 100s 640ms/step - loss: 0.1700 - acc: 0.9362 - val_loss: 0.4308 - val_acc: 0.8136\n",
            "Epoch 6/10\n",
            "157/157 [==============================] - 99s 631ms/step - loss: 0.1202 - acc: 0.9561 - val_loss: 0.4555 - val_acc: 0.8356\n",
            "Epoch 7/10\n",
            "157/157 [==============================] - 99s 628ms/step - loss: 0.0803 - acc: 0.9743 - val_loss: 0.4940 - val_acc: 0.8394\n",
            "Epoch 8/10\n",
            "157/157 [==============================] - 97s 621ms/step - loss: 0.0451 - acc: 0.9866 - val_loss: 0.6032 - val_acc: 0.8406\n",
            "Epoch 9/10\n",
            "157/157 [==============================] - 98s 627ms/step - loss: 0.0302 - acc: 0.9913 - val_loss: 0.6173 - val_acc: 0.8166\n",
            "Epoch 10/10\n",
            "157/157 [==============================] - 100s 639ms/step - loss: 0.0198 - acc: 0.9947 - val_loss: 0.7088 - val_acc: 0.7866\n"
          ]
        }
      ],
      "source": [
        "from keras.models import Sequential\n",
        "from keras.layers import Dense, Embedding, SimpleRNN\n",
        "\n",
        "model = Sequential()\n",
        "model.add(Embedding(max_features, 32))\n",
        "model.add(SimpleRNN(32))\n",
        "model.add(Dense(1, activation='sigmoid'))\n",
        "\n",
        "model.compile(optimizer='rmsprop', loss='binary_crossentropy', metrics=['acc'])\n",
        "history = model.fit(input_train, y_train,\n",
        "                    epochs=10,\n",
        "                    batch_size=128,\n",
        "                    validation_split=0.2)\n",
        "model.save_weights('simpleRNN.h5')"
      ]
    },
    {
      "cell_type": "markdown",
      "metadata": {
        "id": "ByxSqTJGFrTD"
      },
      "source": [
        "### simpleRNN 결과 그래프"
      ]
    },
    {
      "cell_type": "code",
      "execution_count": 10,
      "metadata": {
        "colab": {
          "base_uri": "https://localhost:8080/",
          "height": 545
        },
        "id": "fVS-boYWwu63",
        "outputId": "68d66897-6112-4775-d631-3cbc38466a51"
      },
      "outputs": [
        {
          "output_type": "display_data",
          "data": {
            "text/plain": [
              "<Figure size 432x288 with 1 Axes>"
            ],
            "image/png": "[encoded data removed]"
          },
          "metadata": {
            "needs_background": "light"
          }
        },
        {
          "output_type": "display_data",
          "data": {
            "text/plain": [
              "<Figure size 432x288 with 1 Axes>"
            ],
            "image/png": "[encoded data removed]"
          },
          "metadata": {
            "needs_background": "light"
          }
        }
      ],
      "source": [
        "import matplotlib.pyplot as plt\n",
        "\n",
        "acc = history.history['acc']\n",
        "val_acc = history.history['val_acc']\n",
        "loss = history.history['loss']\n",
        "val_loss = history.history['val_loss']\n",
        "\n",
        "epochs = range(1, len(acc) + 1)\n",
        "\n",
        "plt.plot(epochs, acc, 'bo', label='Training acc')\n",
        "plt.plot(epochs, val_acc, 'b', label='Validation acc')\n",
        "plt.title('Training and validation accuracy')\n",
        "plt.legend()\n",
        "\n",
        "plt.figure()\n",
        "\n",
        "plt.plot(epochs, loss, 'bo', label='Training loss')\n",
        "plt.plot(epochs, val_loss, 'b', label='Validation loss')\n",
        "plt.title('Training and validation loss')\n",
        "plt.legend()\n",
        "\n",
        "plt.show()"
      ]
    },
    {
      "cell_type": "markdown",
      "source": [
        "### simple RNN 테스트 결과"
      ],
      "metadata": {
        "id": "zdl0ovfGMgOQ"
      }
    },
    {
      "cell_type": "code",
      "source": [
        "score = model.evaluate(input_test, y_test, verbose=1)\n",
        "print(\"test acc: %.2f\"%(score[1]))"
      ],
      "metadata": {
        "colab": {
          "base_uri": "https://localhost:8080/"
        },
        "id": "2m-PaXbzJMzK",
        "outputId": "f61fb016-7eb8-4584-8e36-ddef3b73df44"
      },
      "execution_count": 9,
      "outputs": [
        {
          "output_type": "stream",
          "name": "stdout",
          "text": [
            "782/782 [==============================] - 41s 52ms/step - loss: 0.6992 - acc: 0.7869\n",
            "test acc: 0.79\n"
          ]
        }
      ]
    },
    {
      "cell_type": "markdown",
      "metadata": {
        "id": "biavtmPYFrTE"
      },
      "source": [
        "---\n",
        "## LSTM으로 영화리뷰 이진분류\n",
        "### LSTM을 사용한 모델 훈련"
      ]
    },
    {
      "cell_type": "code",
      "execution_count": 11,
      "metadata": {
        "colab": {
          "base_uri": "https://localhost:8080/"
        },
        "id": "W2aGsEdpw7IU",
        "outputId": "e60ad490-e1ab-4828-b29b-4f0999b38f1e"
      },
      "outputs": [
        {
          "output_type": "stream",
          "name": "stdout",
          "text": [
            "Epoch 1/10\n",
            "157/157 [==============================] - 18s 89ms/step - loss: 0.5391 - acc: 0.7456 - val_loss: 0.3875 - val_acc: 0.8492\n",
            "Epoch 2/10\n",
            "157/157 [==============================] - 13s 84ms/step - loss: 0.3094 - acc: 0.8797 - val_loss: 0.2895 - val_acc: 0.8808\n",
            "Epoch 3/10\n",
            "157/157 [==============================] - 13s 83ms/step - loss: 0.2377 - acc: 0.9089 - val_loss: 0.3021 - val_acc: 0.8810\n",
            "Epoch 4/10\n",
            "157/157 [==============================] - 13s 81ms/step - loss: 0.2039 - acc: 0.9235 - val_loss: 0.3174 - val_acc: 0.8810\n",
            "Epoch 5/10\n",
            "157/157 [==============================] - 13s 81ms/step - loss: 0.1787 - acc: 0.9344 - val_loss: 0.3425 - val_acc: 0.8832\n",
            "Epoch 6/10\n",
            "157/157 [==============================] - 13s 81ms/step - loss: 0.1636 - acc: 0.9413 - val_loss: 0.3584 - val_acc: 0.8698\n",
            "Epoch 7/10\n",
            "157/157 [==============================] - 13s 81ms/step - loss: 0.1462 - acc: 0.9488 - val_loss: 0.3022 - val_acc: 0.8888\n",
            "Epoch 8/10\n",
            "157/157 [==============================] - 13s 81ms/step - loss: 0.1377 - acc: 0.9531 - val_loss: 0.3604 - val_acc: 0.8598\n",
            "Epoch 9/10\n",
            "157/157 [==============================] - 13s 82ms/step - loss: 0.1224 - acc: 0.9568 - val_loss: 0.3610 - val_acc: 0.8800\n",
            "Epoch 10/10\n",
            "157/157 [==============================] - 13s 81ms/step - loss: 0.1133 - acc: 0.9588 - val_loss: 0.3336 - val_acc: 0.8810\n"
          ]
        }
      ],
      "source": [
        "from keras.layers import LSTM\n",
        "\n",
        "model = Sequential()\n",
        "model.add(Embedding(max_features, 32))\n",
        "model.add(LSTM(32))\n",
        "model.add(Dense(1, activation='sigmoid'))\n",
        "\n",
        "model.compile(optimizer='rmsprop',\n",
        "              loss='binary_crossentropy',\n",
        "              metrics=['acc'])\n",
        "history = model.fit(input_train, y_train,\n",
        "                    epochs=10,\n",
        "                    batch_size=128,\n",
        "                    validation_split=0.2)\n",
        "model.save_weights('LSTM.h5')"
      ]
    },
    {
      "cell_type": "markdown",
      "metadata": {
        "id": "COJnCiIEFrTE"
      },
      "source": [
        "### LSTM 결과 그래프"
      ]
    },
    {
      "cell_type": "code",
      "execution_count": 12,
      "metadata": {
        "colab": {
          "base_uri": "https://localhost:8080/",
          "height": 545
        },
        "id": "JKoZa1UDxCT5",
        "outputId": "9b74d44a-3e9e-45ae-8b07-11319d18235b"
      },
      "outputs": [
        {
          "output_type": "display_data",
          "data": {
            "text/plain": [
              "<Figure size 432x288 with 1 Axes>"
            ],
            "image/png": "[encoded data removed]"
          },
          "metadata": {
            "needs_background": "light"
          }
        },
        {
          "output_type": "display_data",
          "data": {
            "text/plain": [
              "<Figure size 432x288 with 1 Axes>"
            ],
            "image/png": "[encoded data removed]"
          },
          "metadata": {
            "needs_background": "light"
          }
        }
      ],
      "source": [
        "acc = history.history['acc']\n",
        "val_acc = history.history['val_acc']\n",
        "loss = history.history['loss']\n",
        "val_loss = history.history['val_loss']\n",
        "\n",
        "epochs = range(1, len(acc) + 1)\n",
        "\n",
        "plt.plot(epochs, acc, 'bo', label='Training acc')\n",
        "plt.plot(epochs, val_acc, 'b', label='Validation acc')\n",
        "plt.title('Training and validation accuracy')\n",
        "plt.legend()\n",
        "\n",
        "plt.figure()\n",
        "\n",
        "plt.plot(epochs, loss, 'bo', label='Training loss')\n",
        "plt.plot(epochs, val_loss, 'b', label='Validation loss')\n",
        "plt.title('Training and validation loss')\n",
        "plt.legend()\n",
        "\n",
        "plt.show()"
      ]
    },
    {
      "cell_type": "code",
      "source": [
        "score = model.evaluate(input_test, y_test, verbose=1)\n",
        "print(\"test acc: %.2f\"%(score[1]))"
      ],
      "metadata": {
        "colab": {
          "base_uri": "https://localhost:8080/"
        },
        "id": "mnsl7c9JNYZW",
        "outputId": "193e0c1b-d9fb-462a-b227-05e1a27af22c"
      },
      "execution_count": 13,
      "outputs": [
        {
          "output_type": "stream",
          "name": "stdout",
          "text": [
            "782/782 [==============================] - 25s 32ms/step - loss: 0.3792 - acc: 0.8585\n",
            "test acc: 0.86\n"
          ]
        }
      ]
    },
    {
      "cell_type": "markdown",
      "metadata": {
        "id": "d7lVsrm6FrTF"
      },
      "source": [
        "---\n",
        "## 양방향 LSTM\n",
        "### 양방향 RNN\n"
      ]
    },
    {
      "cell_type": "code",
      "execution_count": 14,
      "metadata": {
        "colab": {
          "base_uri": "https://localhost:8080/"
        },
        "id": "Qlb3y7rKFrTF",
        "outputId": "f7174220-bde4-4d6f-e24a-97c38da90364"
      },
      "outputs": [
        {
          "output_type": "stream",
          "name": "stdout",
          "text": [
            "Epoch 1/10\n",
            "157/157 [==============================] - 34s 194ms/step - loss: 0.5124 - acc: 0.7548 - val_loss: 0.4178 - val_acc: 0.8110\n",
            "Epoch 2/10\n",
            "157/157 [==============================] - 29s 186ms/step - loss: 0.3015 - acc: 0.8806 - val_loss: 0.4122 - val_acc: 0.8390\n",
            "Epoch 3/10\n",
            "157/157 [==============================] - 29s 188ms/step - loss: 0.2389 - acc: 0.9118 - val_loss: 0.3030 - val_acc: 0.8774\n",
            "Epoch 4/10\n",
            "157/157 [==============================] - 29s 187ms/step - loss: 0.1975 - acc: 0.9291 - val_loss: 0.3173 - val_acc: 0.8696\n",
            "Epoch 5/10\n",
            "157/157 [==============================] - 30s 188ms/step - loss: 0.1792 - acc: 0.9358 - val_loss: 0.3337 - val_acc: 0.8674\n",
            "Epoch 6/10\n",
            "157/157 [==============================] - 29s 186ms/step - loss: 0.1554 - acc: 0.9449 - val_loss: 0.3209 - val_acc: 0.8816\n",
            "Epoch 7/10\n",
            "157/157 [==============================] - 29s 186ms/step - loss: 0.1425 - acc: 0.9491 - val_loss: 0.3242 - val_acc: 0.8842\n",
            "Epoch 8/10\n",
            "157/157 [==============================] - 29s 186ms/step - loss: 0.1319 - acc: 0.9540 - val_loss: 0.3655 - val_acc: 0.8832\n",
            "Epoch 9/10\n",
            "157/157 [==============================] - 29s 186ms/step - loss: 0.1241 - acc: 0.9563 - val_loss: 0.3292 - val_acc: 0.8656\n",
            "Epoch 10/10\n",
            "157/157 [==============================] - 29s 186ms/step - loss: 0.1111 - acc: 0.9621 - val_loss: 0.3531 - val_acc: 0.8768\n"
          ]
        }
      ],
      "source": [
        "from keras.models import Sequential\n",
        "from keras.layers import Dense, Embedding, LSTM, Bidirectional\n",
        "from keras import backend as K\n",
        "K.clear_session()\n",
        "\n",
        "model = Sequential()\n",
        "model.add(Embedding(max_features, 32))\n",
        "model.add(Bidirectional(LSTM(32)))\n",
        "model.add(Dense(1, activation='sigmoid'))\n",
        "\n",
        "model.compile(optimizer='rmsprop', loss='binary_crossentropy', metrics=['acc'])\n",
        "history = model.fit(input_train, y_train, \n",
        "                    epochs=10, \n",
        "                    batch_size=128, \n",
        "                    validation_split=0.2)\n",
        "model.save_weights('bidirectical_LSTM.h5')"
      ]
    },
    {
      "cell_type": "code",
      "execution_count": 15,
      "metadata": {
        "colab": {
          "base_uri": "https://localhost:8080/",
          "height": 545
        },
        "id": "_2sIGEzpFrTF",
        "outputId": "71e4ed28-c0c8-4418-f4c9-72986a5aa265"
      },
      "outputs": [
        {
          "output_type": "display_data",
          "data": {
            "text/plain": [
              "<Figure size 432x288 with 1 Axes>"
            ],
            "image/png": "[encoded data removed]"
          },
          "metadata": {
            "needs_background": "light"
          }
        },
        {
          "output_type": "display_data",
          "data": {
            "text/plain": [
              "<Figure size 432x288 with 1 Axes>"
            ],
            "image/png": "[encoded data removed]"
          },
          "metadata": {
            "needs_background": "light"
          }
        }
      ],
      "source": [
        "import matplotlib.pyplot as plt\n",
        "acc = history.history['acc']\n",
        "val_acc = history.history['val_acc']\n",
        "loss = history.history['loss']\n",
        "val_loss = history.history['val_loss']\n",
        "\n",
        "epochs = range(1, len(acc) + 1)\n",
        "\n",
        "plt.plot(epochs, acc, 'bo', label='Training acc')\n",
        "plt.plot(epochs, val_acc, 'b', label='Validation acc')\n",
        "plt.title('Training and validation accuracy')\n",
        "plt.legend()\n",
        "\n",
        "plt.figure()\n",
        "\n",
        "plt.plot(epochs, loss, 'bo', label='Training loss')\n",
        "plt.plot(epochs, val_loss, 'b', label='Validation loss')\n",
        "plt.title('Training and validation loss')\n",
        "plt.legend()\n",
        "\n",
        "plt.show()"
      ]
    },
    {
      "cell_type": "code",
      "execution_count": 16,
      "metadata": {
        "colab": {
          "base_uri": "https://localhost:8080/"
        },
        "id": "bZG_uGywFrTG",
        "outputId": "62532c42-1c7f-499a-a566-4e6f8e0f421b"
      },
      "outputs": [
        {
          "output_type": "stream",
          "name": "stdout",
          "text": [
            "782/782 [==============================] - 52s 66ms/step - loss: 0.4143 - acc: 0.8597\n",
            "test acc: 0.86\n"
          ]
        }
      ],
      "source": [
        "score = model.evaluate(input_test, y_test, verbose=1)\n",
        "print(\"test acc: %.2f\"%(score[1]))"
      ]
    },
    {
      "cell_type": "code",
      "execution_count": null,
      "metadata": {
        "id": "s53vjVfIFrTG"
      },
      "outputs": [],
      "source": [
        ""
      ]
    }
  ],
  "metadata": {
    "colab": {
      "collapsed_sections": [],
      "name": "simpleRNN_LSTM.ipynb",
      "provenance": []
    },
    "kernelspec": {
      "display_name": "Python 3 (ipykernel)",
      "language": "python",
      "name": "python3"
    },
    "language_info": {
      "codemirror_mode": {
        "name": "ipython",
        "version": 3
      },
      "file_extension": ".py",
      "mimetype": "text/x-python",
      "name": "python",
      "nbconvert_exporter": "python",
      "pygments_lexer": "ipython3",
      "version": "3.8.12"
    },
    "accelerator": "GPU"
  },
  "nbformat": 4,
  "nbformat_minor": 0
}