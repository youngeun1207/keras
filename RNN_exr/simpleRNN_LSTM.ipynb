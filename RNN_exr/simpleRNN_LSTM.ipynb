{
 "cells": [
  {
   "cell_type": "markdown",
   "metadata": {},
   "source": [
    "# RNN으로 IMDB 영화리뷰 감정 분류하기\n",
    "## simpleRNN\n",
    "### 순환 신경망 RNN\n",
    "* 시퀀스의 원소를 순회하면서 지금까지 처리한 정보를 **상태(state)**에 저장\n",
    "* 내부에 loop를 가진 신경망"
   ]
  },
  {
   "cell_type": "markdown",
   "metadata": {},
   "source": [
    "### numpy로 구현한 간단한 RNN\n",
    "> RNN 정방향 계산 구현\n",
    "* input: 크기 (timesteps, input_feature)인 2D 텐서로 인코딩 된 벡터의 시퀀스\n",
    "    * 시퀀스는 timestep을 따라서 반복됨\n",
    "    * 각 timestep t에서 현재 상태와 입력을 연결하여 출력으로 계산 -> 출력을 다음 스텝의 상태로 설정\n",
    "    * 1번째 timestep은 초기상태(0 벡터)로 상태 초기화"
   ]
  },
  {
   "cell_type": "code",
   "execution_count": 1,
   "metadata": {},
   "outputs": [],
   "source": [
    "import numpy as np\n",
    "\n",
    "timesteps = 100 # 입력시퀀스에 있는 타임스텝 수\n",
    "input_features = 32 \n",
    "output_features = 64\n",
    "\n",
    "inputs = np.random.random((timesteps, input_features)) # 입력 데이터: 예제를 위해 생성한 난수\n",
    "\n",
    "state_t = np.zeros((output_features)) # 초기상태: 모두 0인 벡터\n",
    "\n",
    "W = np.random.random((output_features, input_features)) \n",
    "U = np.random.random((output_features, output_features)) \n",
    "b = np.random.random((output_features,)) \n",
    "\n",
    "successive_outputs = []\n",
    "for input_t in inputs:\n",
    "    # 입력과 현재 상태(이전 출력)를 연결하여 현재 출력 얻기\n",
    "    output_t = np.tanh(np.dot(W, input_t) + np.dot(U, state_t) + b)\n",
    "    # 출력을 리스트에 저장\n",
    "    successive_outputs.append(output_t)\n",
    "    # 다음 타임스텝을 위해 네트워크 상태 업데이트\n",
    "    state_t = output_t\n",
    "# 최종 출력    \n",
    "final_output_sequence = np.stack(successive_outputs, axis=0)"
   ]
  },
  {
   "cell_type": "markdown",
   "metadata": {},
   "source": [
    "---\n",
    "## simple RNN으로 영화리뷰 이진분류\n",
    "### IMDB 데이터 전처리"
   ]
  },
  {
   "cell_type": "code",
   "execution_count": 1,
   "metadata": {
    "colab": {
     "base_uri": "https://localhost:8080/"
    },
    "id": "kjWEe-uIvbX5",
    "outputId": "d664c472-8ad7-4aa9-992f-2d72346d11d2"
   },
   "outputs": [
    {
     "name": "stdout",
     "output_type": "stream",
     "text": [
      "Model: \"sequential\"\n",
      "_________________________________________________________________\n",
      " Layer (type)                Output Shape              Param #   \n",
      "=================================================================\n",
      " embedding (Embedding)       (None, None, 32)          320000    \n",
      "                                                                 \n",
      " simple_rnn (SimpleRNN)      (None, 32)                2080      \n",
      "                                                                 \n",
      "=================================================================\n",
      "Total params: 322,080\n",
      "Trainable params: 322,080\n",
      "Non-trainable params: 0\n",
      "_________________________________________________________________\n",
      "데이터 로딩...\n",
      "Downloading data from https://storage.googleapis.com/tensorflow/tf-keras-datasets/imdb.npz\n",
      "17465344/17464789 [==============================] - 0s 0us/step\n",
      "17473536/17464789 [==============================] - 0s 0us/step\n",
      "25000 훈련 시퀀스\n",
      "25000 테스트 시퀀스\n",
      "시퀀스 패딩 (samples x time)\n",
      "input_train 크기: (25000, 500)\n",
      "input_test 크기: (25000, 500)\n"
     ]
    }
   ],
   "source": [
    "from keras.datasets import imdb\n",
    "from keras.preprocessing import sequence\n",
    "\n",
    "max_features = 10000  # 특성으로 사용할 단어의 수\n",
    "maxlen = 500  # 사용할 텍스트의 길이(가장 빈번한 max_features 개의 단어만 사용)\n",
    "batch_size = 32\n",
    "\n",
    "print('데이터 로딩...')\n",
    "(input_train, y_train), (input_test, y_test) = imdb.load_data(num_words=max_features)\n",
    "print(len(input_train), '훈련 시퀀스')\n",
    "print(len(input_test), '테스트 시퀀스')\n",
    "\n",
    "print('시퀀스 패딩 (samples x time)')\n",
    "input_train = sequence.pad_sequences(input_train, maxlen=maxlen)\n",
    "input_test = sequence.pad_sequences(input_test, maxlen=maxlen)\n",
    "print('input_train 크기:', input_train.shape)\n",
    "print('input_test 크기:', input_test.shape)"
   ]
  },
  {
   "cell_type": "markdown",
   "metadata": {},
   "source": [
    "### 임베딩 층과 SimpleRNN층을 사용한 모델 훈련"
   ]
  },
  {
   "cell_type": "code",
   "execution_count": 2,
   "metadata": {
    "colab": {
     "base_uri": "https://localhost:8080/"
    },
    "id": "Yru9cPePvmJZ",
    "outputId": "15522055-4e7b-4aac-cc9e-ae6bbcc583b5"
   },
   "outputs": [
    {
     "name": "stdout",
     "output_type": "stream",
     "text": [
      "Epoch 1/10\n",
      "157/157 [==============================] - 28s 161ms/step - loss: 0.5605 - acc: 0.7012 - val_loss: 0.4230 - val_acc: 0.8186\n",
      "Epoch 2/10\n",
      "157/157 [==============================] - 31s 194ms/step - loss: 0.3488 - acc: 0.8580 - val_loss: 0.3844 - val_acc: 0.8432\n",
      "Epoch 3/10\n",
      "157/157 [==============================] - 23s 145ms/step - loss: 0.2770 - acc: 0.8903 - val_loss: 0.5120 - val_acc: 0.7856\n",
      "Epoch 4/10\n",
      "157/157 [==============================] - 23s 147ms/step - loss: 0.2097 - acc: 0.9205 - val_loss: 0.3829 - val_acc: 0.8498\n",
      "Epoch 5/10\n",
      "157/157 [==============================] - 23s 145ms/step - loss: 0.1609 - acc: 0.9421 - val_loss: 0.4598 - val_acc: 0.8268\n",
      "Epoch 6/10\n",
      "157/157 [==============================] - 25s 158ms/step - loss: 0.1139 - acc: 0.9618 - val_loss: 0.4203 - val_acc: 0.8710\n",
      "Epoch 7/10\n",
      "157/157 [==============================] - 23s 146ms/step - loss: 0.0809 - acc: 0.9722 - val_loss: 0.4648 - val_acc: 0.8304\n",
      "Epoch 8/10\n",
      "157/157 [==============================] - 23s 145ms/step - loss: 0.0509 - acc: 0.9839 - val_loss: 0.5001 - val_acc: 0.8320\n",
      "Epoch 9/10\n",
      "157/157 [==============================] - 23s 148ms/step - loss: 0.0337 - acc: 0.9893 - val_loss: 0.6206 - val_acc: 0.8132\n",
      "Epoch 10/10\n",
      "157/157 [==============================] - 23s 149ms/step - loss: 0.0234 - acc: 0.9934 - val_loss: 0.6697 - val_acc: 0.8106\n"
     ]
    }
   ],
   "source": [
    "from keras.models import Sequential\n",
    "from keras.layers import Dense, Embedding, SimpleRNN\n",
    "\n",
    "model = Sequential()\n",
    "model.add(Embedding(max_features, 32))\n",
    "model.add(SimpleRNN(32))\n",
    "model.add(Dense(1, activation='sigmoid'))\n",
    "\n",
    "model.compile(optimizer='rmsprop', loss='binary_crossentropy', metrics=['acc'])\n",
    "history = model.fit(input_train, y_train,\n",
    "                    epochs=10,\n",
    "                    batch_size=128,\n",
    "                    validation_split=0.2)"
   ]
  },
  {
   "cell_type": "markdown",
   "metadata": {},
   "source": [
    "### simpleRNN 결과 그래프"
   ]
  },
  {
   "cell_type": "code",
   "execution_count": 3,
   "metadata": {
    "colab": {
     "base_uri": "https://localhost:8080/",
     "height": 545
    },
    "id": "fVS-boYWwu63",
    "outputId": "07730fc9-da33-4254-986e-cea834db0d09"
   },
   "outputs": [
    {
     "data": {
      "image/png": "[encoded data removed]",
      "text/plain": [
       "<Figure size 432x288 with 1 Axes>"
      ]
     },
     "metadata": {
      "needs_background": "light"
     },
     "output_type": "display_data"
    },
    {
     "data": {
      "image/png": "[encoded data removed]",
      "text/plain": [
       "<Figure size 432x288 with 1 Axes>"
      ]
     },
     "metadata": {
      "needs_background": "light"
     },
     "output_type": "display_data"
    }
   ],
   "source": [
    "import matplotlib.pyplot as plt\n",
    "\n",
    "acc = history.history['acc']\n",
    "val_acc = history.history['val_acc']\n",
    "loss = history.history['loss']\n",
    "val_loss = history.history['val_loss']\n",
    "\n",
    "epochs = range(1, len(acc) + 1)\n",
    "\n",
    "plt.plot(epochs, acc, 'bo', label='Training acc')\n",
    "plt.plot(epochs, val_acc, 'b', label='Validation acc')\n",
    "plt.title('Training and validation accuracy')\n",
    "plt.legend()\n",
    "\n",
    "plt.figure()\n",
    "\n",
    "plt.plot(epochs, loss, 'bo', label='Training loss')\n",
    "plt.plot(epochs, val_loss, 'b', label='Validation loss')\n",
    "plt.title('Training and validation loss')\n",
    "plt.legend()\n",
    "\n",
    "plt.show()"
   ]
  },
  {
   "cell_type": "markdown",
   "metadata": {},
   "source": [
    "---\n",
    "## LSTM으로 영화리뷰 이진분류\n",
    "### LSTM을 사용한 모델 훈련"
   ]
  },
  {
   "cell_type": "code",
   "execution_count": 4,
   "metadata": {
    "colab": {
     "base_uri": "https://localhost:8080/"
    },
    "id": "W2aGsEdpw7IU",
    "outputId": "39ef9a9d-f709-4e22-92ac-06ac134aad07"
   },
   "outputs": [
    {
     "name": "stdout",
     "output_type": "stream",
     "text": [
      "Epoch 1/10\n",
      "157/157 [==============================] - 54s 332ms/step - loss: 0.5518 - acc: 0.7359 - val_loss: 0.3598 - val_acc: 0.8468\n",
      "Epoch 2/10\n",
      "157/157 [==============================] - 51s 327ms/step - loss: 0.3073 - acc: 0.8777 - val_loss: 0.3076 - val_acc: 0.8720\n",
      "Epoch 3/10\n",
      "157/157 [==============================] - 51s 324ms/step - loss: 0.2471 - acc: 0.9043 - val_loss: 0.3893 - val_acc: 0.8680\n",
      "Epoch 4/10\n",
      "157/157 [==============================] - 51s 325ms/step - loss: 0.2054 - acc: 0.9244 - val_loss: 0.3971 - val_acc: 0.8722\n",
      "Epoch 5/10\n",
      "157/157 [==============================] - 51s 323ms/step - loss: 0.1828 - acc: 0.9330 - val_loss: 0.2918 - val_acc: 0.8886\n",
      "Epoch 6/10\n",
      "157/157 [==============================] - 51s 324ms/step - loss: 0.1613 - acc: 0.9420 - val_loss: 0.3228 - val_acc: 0.8728\n",
      "Epoch 7/10\n",
      "157/157 [==============================] - 51s 322ms/step - loss: 0.1483 - acc: 0.9470 - val_loss: 0.3623 - val_acc: 0.8702\n",
      "Epoch 8/10\n",
      "157/157 [==============================] - 51s 323ms/step - loss: 0.1361 - acc: 0.9512 - val_loss: 0.4226 - val_acc: 0.8762\n",
      "Epoch 9/10\n",
      "157/157 [==============================] - 51s 326ms/step - loss: 0.1244 - acc: 0.9559 - val_loss: 0.3347 - val_acc: 0.8812\n",
      "Epoch 10/10\n",
      "157/157 [==============================] - 54s 347ms/step - loss: 0.1109 - acc: 0.9614 - val_loss: 0.3747 - val_acc: 0.8798\n"
     ]
    }
   ],
   "source": [
    "from keras.layers import LSTM\n",
    "\n",
    "model = Sequential()\n",
    "model.add(Embedding(max_features, 32))\n",
    "model.add(LSTM(32))\n",
    "model.add(Dense(1, activation='sigmoid'))\n",
    "\n",
    "model.compile(optimizer='rmsprop',\n",
    "              loss='binary_crossentropy',\n",
    "              metrics=['acc'])\n",
    "history = model.fit(input_train, y_train,\n",
    "                    epochs=10,\n",
    "                    batch_size=128,\n",
    "                    validation_split=0.2)"
   ]
  },
  {
   "cell_type": "markdown",
   "metadata": {},
   "source": [
    "### LSTM 결과 그래프"
   ]
  },
  {
   "cell_type": "code",
   "execution_count": 5,
   "metadata": {
    "colab": {
     "base_uri": "https://localhost:8080/",
     "height": 545
    },
    "id": "JKoZa1UDxCT5",
    "outputId": "9ee623e0-4352-47f7-cd4d-7a11a733b637"
   },
   "outputs": [
    {
     "data": {
      "image/png": "[encoded data removed]",
      "text/plain": [
       "<Figure size 432x288 with 1 Axes>"
      ]
     },
     "metadata": {
      "needs_background": "light"
     },
     "output_type": "display_data"
    },
    {
     "data": {
      "image/png": "[encoded data removed]",
      "text/plain": [
       "<Figure size 432x288 with 1 Axes>"
      ]
     },
     "metadata": {
      "needs_background": "light"
     },
     "output_type": "display_data"
    }
   ],
   "source": [
    "acc = history.history['acc']\n",
    "val_acc = history.history['val_acc']\n",
    "loss = history.history['loss']\n",
    "val_loss = history.history['val_loss']\n",
    "\n",
    "epochs = range(1, len(acc) + 1)\n",
    "\n",
    "plt.plot(epochs, acc, 'bo', label='Training acc')\n",
    "plt.plot(epochs, val_acc, 'b', label='Validation acc')\n",
    "plt.title('Training and validation accuracy')\n",
    "plt.legend()\n",
    "\n",
    "plt.figure()\n",
    "\n",
    "plt.plot(epochs, loss, 'bo', label='Training loss')\n",
    "plt.plot(epochs, val_loss, 'b', label='Validation loss')\n",
    "plt.title('Training and validation loss')\n",
    "plt.legend()\n",
    "\n",
    "plt.show()"
   ]
  }
 ],
 "metadata": {
  "colab": {
   "collapsed_sections": [],
   "name": "Colaboratory에 오신 것을 환영합니다",
   "provenance": []
  },
  "kernelspec": {
   "display_name": "Python 3 (ipykernel)",
   "language": "python",
   "name": "python3"
  },
  "language_info": {
   "codemirror_mode": {
    "name": "ipython",
    "version": 3
   },
   "file_extension": ".py",
   "mimetype": "text/x-python",
   "name": "python",
   "nbconvert_exporter": "python",
   "pygments_lexer": "ipython3",
   "version": "3.8.12"
  }
 },
 "nbformat": 4,
 "nbformat_minor": 1
}
