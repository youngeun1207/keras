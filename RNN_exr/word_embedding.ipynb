{
 "cells": [
  {
   "cell_type": "markdown",
   "id": "ffecaeff",
   "metadata": {},
   "source": [
    "# 단어 임베딩\n",
    "## Embedding 층을 사용해 단어 임베딩 학습하기\n",
    "* 단어 벡터 사이에 조금 더 추상적이고 기하학적인 관계를 얻기 위해 단어 사이에 있는 의미 관계를 반영하기 \n",
    "    * 언어를 기하학적 공간에 매핑하기 \n",
    "    * 잘 구축된 임베딩 공간에서는 동의어가 비슷한 단어 벡터로 임베딩될 것.. \n",
    "    * 일반적으로 두 단어 벡터 사이의 거리(L2 거리)는 이 단어 사이의 의미 거리와 관계(서로 의미가 다른 단어는 멀리 떨어진 위치에, 비슷한 단어들은 가까이)\n",
    "\n",
    "### ```Embedding```\n",
    "* 크기가 (samples, sequence_length)인 2D 정수 텐서를 입력받음\n",
    "* 크기가 (samples, sequence_length, embedding_dimensionality)인 3D 실수형 텐서를 반환"
   ]
  },
  {
   "cell_type": "markdown",
   "id": "6dbfbc75",
   "metadata": {},
   "source": [
    "### Embedding 층의 객체 생성하기"
   ]
  },
  {
   "cell_type": "code",
   "execution_count": 23,
   "id": "b964db6e",
   "metadata": {},
   "outputs": [],
   "source": [
    "from keras.layers import Embedding\n",
    "\n",
    "# 가능한 토큰의 개수(1,000: 단어 인덱스 최댓값 + 1), 임베딩 차원(64)\n",
    "embedding_layer = Embedding(1000, 64)"
   ]
  },
  {
   "cell_type": "markdown",
   "id": "318e5288",
   "metadata": {},
   "source": [
    "### Embedding층에 사용할 IMDB 데이터 로드"
   ]
  },
  {
   "cell_type": "code",
   "execution_count": 24,
   "id": "54628a60",
   "metadata": {},
   "outputs": [],
   "source": [
    "from keras.datasets import imdb\n",
    "from keras import preprocessing\n",
    "\n",
    "# 특성으로 사용할 단어의 수\n",
    "max_features = 10000\n",
    "# 사용할 텍스트의 길이(가장 자주 사용되는 max_features 개의 단어만 사용)\n",
    "maxlen = 20\n",
    "\n",
    "# 정수 리스트로 데이터 로드\n",
    "(x_train, y_train), (x_test, y_test) = imdb.load_data(num_words=max_features)\n",
    "\n",
    "# 리스트를 (samples, maxlen) 크기의 2D 정수 텐서로 변환\n",
    "x_train = preprocessing.sequence.pad_sequences(x_train, maxlen=maxlen)\n",
    "x_test = preprocessing.sequence.pad_sequences(x_test, maxlen=maxlen)"
   ]
  },
  {
   "cell_type": "markdown",
   "id": "32a27750",
   "metadata": {},
   "source": [
    "### IMDB 데이터에 Embedding층과 분류기 사용하기"
   ]
  },
  {
   "cell_type": "code",
   "execution_count": 25,
   "id": "02e4ef37",
   "metadata": {},
   "outputs": [
    {
     "name": "stdout",
     "output_type": "stream",
     "text": [
      "Model: \"sequential_5\"\n",
      "_________________________________________________________________\n",
      " Layer (type)                Output Shape              Param #   \n",
      "=================================================================\n",
      " embedding_7 (Embedding)     (None, 20, 8)             80000     \n",
      "                                                                 \n",
      " flatten_5 (Flatten)         (None, 160)               0         \n",
      "                                                                 \n",
      " dense_9 (Dense)             (None, 1)                 161       \n",
      "                                                                 \n",
      "=================================================================\n",
      "Total params: 80,161\n",
      "Trainable params: 80,161\n",
      "Non-trainable params: 0\n",
      "_________________________________________________________________\n",
      "Epoch 1/10\n",
      "  5/625 [..............................] - ETA: 8s - loss: 0.6947 - acc: 0.4688  "
     ]
    },
    {
     "name": "stderr",
     "output_type": "stream",
     "text": [
      "2022-03-28 21:22:13.378878: I tensorflow/core/grappler/optimizers/custom_graph_optimizer_registry.cc:113] Plugin optimizer for device_type GPU is enabled.\n"
     ]
    },
    {
     "name": "stdout",
     "output_type": "stream",
     "text": [
      "623/625 [============================>.] - ETA: 0s - loss: 0.6660 - acc: 0.6248"
     ]
    },
    {
     "name": "stderr",
     "output_type": "stream",
     "text": [
      "2022-03-28 21:22:19.539195: I tensorflow/core/grappler/optimizers/custom_graph_optimizer_registry.cc:113] Plugin optimizer for device_type GPU is enabled.\n"
     ]
    },
    {
     "name": "stdout",
     "output_type": "stream",
     "text": [
      "625/625 [==============================] - 7s 10ms/step - loss: 0.6658 - acc: 0.6253 - val_loss: 0.6114 - val_acc: 0.6960\n",
      "Epoch 2/10\n",
      "625/625 [==============================] - 6s 10ms/step - loss: 0.5362 - acc: 0.7524 - val_loss: 0.5221 - val_acc: 0.7316\n",
      "Epoch 3/10\n",
      "625/625 [==============================] - 6s 10ms/step - loss: 0.4599 - acc: 0.7887 - val_loss: 0.5017 - val_acc: 0.7444\n",
      "Epoch 4/10\n",
      "625/625 [==============================] - 6s 10ms/step - loss: 0.4246 - acc: 0.8064 - val_loss: 0.4934 - val_acc: 0.7536\n",
      "Epoch 5/10\n",
      "625/625 [==============================] - 6s 10ms/step - loss: 0.4006 - acc: 0.8201 - val_loss: 0.4955 - val_acc: 0.7544\n",
      "Epoch 6/10\n",
      "625/625 [==============================] - 6s 10ms/step - loss: 0.3809 - acc: 0.8288 - val_loss: 0.4991 - val_acc: 0.7532\n",
      "Epoch 7/10\n",
      "625/625 [==============================] - 6s 10ms/step - loss: 0.3629 - acc: 0.8399 - val_loss: 0.5018 - val_acc: 0.7534\n",
      "Epoch 8/10\n",
      "625/625 [==============================] - 6s 10ms/step - loss: 0.3455 - acc: 0.8510 - val_loss: 0.5087 - val_acc: 0.7568\n",
      "Epoch 9/10\n",
      "625/625 [==============================] - 6s 10ms/step - loss: 0.3291 - acc: 0.8592 - val_loss: 0.5140 - val_acc: 0.7568\n",
      "Epoch 10/10\n",
      "625/625 [==============================] - 6s 10ms/step - loss: 0.3124 - acc: 0.8682 - val_loss: 0.5215 - val_acc: 0.7530\n"
     ]
    }
   ],
   "source": [
    "from keras.models import Sequential\n",
    "from keras.layers import Flatten, Dense, Embedding\n",
    "\n",
    "model = Sequential()\n",
    "# 나중에 임베딩된 입력을 Flatten 층에서 펼치기 위해 Embedding 층에 input_length를 지정\n",
    "model.add(Embedding(10000, 8, input_length=maxlen))\n",
    "# Embedding 층의 출력 크기는 (samples, maxlen, 8)가 된다!\n",
    "\n",
    "# 3D 임베딩 텐서를 (samples, maxlen * 8) 크기의 2D 텐서로 펼치기\n",
    "model.add(Flatten())\n",
    "\n",
    "# 분류기 추가\n",
    "model.add(Dense(1, activation='sigmoid'))\n",
    "model.compile(optimizer='rmsprop', loss='binary_crossentropy', metrics=['acc'])\n",
    "model.summary()\n",
    "\n",
    "history = model.fit(x_train, y_train,\n",
    "                    epochs=10,\n",
    "                    batch_size=32,\n",
    "                    validation_split=0.2)"
   ]
  },
  {
   "cell_type": "code",
   "execution_count": 26,
   "id": "6efdb7ef",
   "metadata": {},
   "outputs": [
    {
     "name": "stdout",
     "output_type": "stream",
     "text": [
      "0.7453200399875641\n"
     ]
    }
   ],
   "source": [
    "import numpy as np\n",
    "print(np.mean(history.history['val_acc']))"
   ]
  },
  {
   "cell_type": "markdown",
   "id": "e33826c4",
   "metadata": {},
   "source": [
    "---\n",
    "## 사전 훈련된 단어 임베딩 사용하기\n",
    "\n",
    "> 풀려는 문제와 함께 단어 임베딩을 학습하는 대신에 미리 계산된 임베딩 공간에서 임베딩 벡터를 로드하기 \n",
    "* 뛰어난 구조와 유용한 성질을 가진 임베딩 공간 -> 언어 구조의 일반적인 측면을 잡아낼 수 있음! \n",
    "* 자연어 처리에서 사전 훈련된 단어 임베딩을 사용하는 이유?: 충분한 데이터가 없어서 자신만의 좋은 특성을 학습하지 못하지만 꽤 일반적인 특성이 필요할 때..\n",
    "\n",
    "### 토큰화 되지 않은 IMDB 원본 데이터 받기"
   ]
  },
  {
   "cell_type": "code",
   "execution_count": 40,
   "id": "9bbfa6db",
   "metadata": {},
   "outputs": [],
   "source": [
    "import os\n",
    "\n",
    "imdb_dir = '../datasets/aclImdb'\n",
    "train_dir = os.path.join(imdb_dir, 'train')\n",
    "\n",
    "labels = []\n",
    "texts = []\n",
    "\n",
    "for label_type in ['neg', 'pos']:\n",
    "    dir_name = os.path.join(train_dir, label_type)\n",
    "    for fname in os.listdir(dir_name):\n",
    "        if fname[-4:] == '.txt':\n",
    "            f = open(os.path.join(dir_name, fname), encoding='utf8')\n",
    "            texts.append(f.read())\n",
    "            f.close()\n",
    "            if label_type == 'neg':\n",
    "                labels.append(0)\n",
    "            else:\n",
    "                labels.append(1)"
   ]
  },
  {
   "cell_type": "markdown",
   "id": "a9ec6f84",
   "metadata": {},
   "source": [
    "### 데이터 토큰화"
   ]
  },
  {
   "cell_type": "code",
   "execution_count": 28,
   "id": "87d9e5e6",
   "metadata": {},
   "outputs": [
    {
     "name": "stdout",
     "output_type": "stream",
     "text": [
      "88582개의 고유한 토큰을 찾았습니다.\n",
      "데이터 텐서의 크기: (25000, 100)\n",
      "레이블 텐서의 크기: (25000,)\n"
     ]
    }
   ],
   "source": [
    "from keras.preprocessing.text import Tokenizer\n",
    "from keras.preprocessing.sequence import pad_sequences\n",
    "import numpy as np\n",
    "\n",
    "maxlen = 100  # 100개 단어 이후는 버리기\n",
    "training_samples = 200  # 훈련 샘플: 200개\n",
    "validation_samples = 10000  # 검증 샘플: 10,000개\n",
    "max_words = 10000  # 데이터셋에서 가장 빈도 높은 10,000개의 단어만 사용\n",
    "\n",
    "tokenizer = Tokenizer(num_words=max_words)\n",
    "tokenizer.fit_on_texts(texts)\n",
    "sequences = tokenizer.texts_to_sequences(texts)\n",
    "\n",
    "word_index = tokenizer.word_index\n",
    "print('%s개의 고유한 토큰을 찾았습니다.' % len(word_index))\n",
    "\n",
    "data = pad_sequences(sequences, maxlen=maxlen)\n",
    "\n",
    "labels = np.asarray(labels)\n",
    "print('데이터 텐서의 크기:', data.shape)\n",
    "print('레이블 텐서의 크기:', labels.shape)\n",
    "\n",
    "# 데이터를 훈련 세트와 검증 세트로 분할\n",
    "# 샘플이 순서대로 있기 때문에 (부정 샘플이 모두 나온 후에 긍정 샘플 나옴) 먼저 데이터를 섞기\n",
    "indices = np.arange(data.shape[0])\n",
    "np.random.shuffle(indices)\n",
    "data = data[indices]\n",
    "labels = labels[indices]\n",
    "\n",
    "x_train = data[:training_samples]\n",
    "y_train = labels[:training_samples]\n",
    "x_val = data[training_samples: training_samples + validation_samples]\n",
    "y_val = labels[training_samples: training_samples + validation_samples]"
   ]
  },
  {
   "cell_type": "markdown",
   "id": "7f64f219",
   "metadata": {},
   "source": [
    "### GloVe 단어 임베딩 전처리\n",
    ".txt파일을 파싱하여 단어에 상응하는 벡터 표현을 매핑하는 인덱스 만들기"
   ]
  },
  {
   "cell_type": "code",
   "execution_count": 29,
   "id": "c413b980",
   "metadata": {},
   "outputs": [
    {
     "name": "stdout",
     "output_type": "stream",
     "text": [
      "400000개의 단어 벡터를 찾았습니다.\n"
     ]
    }
   ],
   "source": [
    "glove_dir = '../datasets/glove-6b'\n",
    "\n",
    "embeddings_index = {}\n",
    "f = open(os.path.join(glove_dir, 'glove.6B.100d.txt'), encoding=\"utf8\")\n",
    "for line in f:\n",
    "    values = line.split()\n",
    "    word = values[0]\n",
    "    coefs = np.asarray(values[1:], dtype='float32')\n",
    "    embeddings_index[word] = coefs\n",
    "f.close()\n",
    "\n",
    "print('%s개의 단어 벡터를 찾았습니다.' % len(embeddings_index))"
   ]
  },
  {
   "cell_type": "markdown",
   "id": "7a6f012c",
   "metadata": {},
   "source": [
    "```Embedding``` 층에 주입할 수 있도록 임베딩 행렬을 만들기  \n",
    "* 행렬의 크기: (max_words, embedding_dim)  \n",
    "* 행렬의 i번째 원소: (토큰화로 만든) 단어 인덱스의 i번째 단어에 상응하는 embedding_dim 차원 벡터  \n",
    "* 인덱스 0: 어떤 단어나 토큰도 아닐 경우"
   ]
  },
  {
   "cell_type": "code",
   "execution_count": 30,
   "id": "103b38ae",
   "metadata": {},
   "outputs": [],
   "source": [
    "embedding_dim = 100\n",
    "\n",
    "embedding_matrix = np.zeros((max_words, embedding_dim))\n",
    "for word, i in word_index.items():\n",
    "    embedding_vector = embeddings_index.get(word)\n",
    "    if i < max_words:\n",
    "        if embedding_vector is not None:\n",
    "            # 임베딩 인덱스에 없는 단어는 모두 0으로\n",
    "            embedding_matrix[i] = embedding_vector"
   ]
  },
  {
   "cell_type": "markdown",
   "id": "0f22785f",
   "metadata": {},
   "source": [
    "### 모델 정의"
   ]
  },
  {
   "cell_type": "code",
   "execution_count": 1,
   "id": "d1849aea",
   "metadata": {},
   "outputs": [
    {
     "ename": "ModuleNotFoundError",
     "evalue": "No module named 'keras'",
     "output_type": "error",
     "traceback": [
      "\u001b[0;31m---------------------------------------------------------------------------\u001b[0m",
      "\u001b[0;31mModuleNotFoundError\u001b[0m                       Traceback (most recent call last)",
      "Input \u001b[0;32mIn [1]\u001b[0m, in \u001b[0;36m<cell line: 1>\u001b[0;34m()\u001b[0m\n\u001b[0;32m----> 1\u001b[0m \u001b[38;5;28;01mfrom\u001b[39;00m \u001b[38;5;21;01mkeras\u001b[39;00m\u001b[38;5;21;01m.\u001b[39;00m\u001b[38;5;21;01mmodels\u001b[39;00m \u001b[38;5;28;01mimport\u001b[39;00m Sequential\n\u001b[1;32m      2\u001b[0m \u001b[38;5;28;01mfrom\u001b[39;00m \u001b[38;5;21;01mkeras\u001b[39;00m\u001b[38;5;21;01m.\u001b[39;00m\u001b[38;5;21;01mlayers\u001b[39;00m \u001b[38;5;28;01mimport\u001b[39;00m Embedding, Flatten, Dense\n\u001b[1;32m      4\u001b[0m model \u001b[38;5;241m=\u001b[39m Sequential()\n",
      "\u001b[0;31mModuleNotFoundError\u001b[0m: No module named 'keras'"
     ]
    }
   ],
   "source": [
    "from keras.models import Sequential\n",
    "from keras.layers import Embedding, Flatten, Dense\n",
    "\n",
    "model = Sequential()\n",
    "model.add(Embedding(max_words, embedding_dim, input_length=maxlen))\n",
    "model.add(Flatten())\n",
    "model.add(Dense(32, activation='relu'))\n",
    "model.add(Dense(1, activation='sigmoid'))\n",
    "model.summary()"
   ]
  },
  {
   "cell_type": "markdown",
   "id": "ceb8b31d",
   "metadata": {},
   "source": [
    "### 모델에 GloVe 임베딩 로드하기\n",
    "Embedding 층은 하나의 가중치 2D 부동 소수 행렬을 가진다  \n",
    "각 i번째 원소는 i번째 인덱스에 상응하는 단어 벡터  \n",
    "모델의 첫 번째 층인 Embedding 층에 준비된 GloVe 행렬을 로드:  \n",
    "* 추가적으로 Embedding 층을 동결(이미 학습된 특성 오염 방지)"
   ]
  },
  {
   "cell_type": "code",
   "execution_count": 32,
   "id": "8f21f06a",
   "metadata": {},
   "outputs": [],
   "source": [
    "model.layers[0].set_weights([embedding_matrix])\n",
    "model.layers[0].trainable = False"
   ]
  },
  {
   "cell_type": "markdown",
   "id": "93fd0a2a",
   "metadata": {},
   "source": [
    "### 모델 훈련과 평가"
   ]
  },
  {
   "cell_type": "code",
   "execution_count": 33,
   "id": "05dae3fb",
   "metadata": {},
   "outputs": [
    {
     "name": "stdout",
     "output_type": "stream",
     "text": [
      "Epoch 1/10\n",
      "1/7 [===>..........................] - ETA: 2s - loss: 0.6281 - acc: 0.6250"
     ]
    },
    {
     "name": "stderr",
     "output_type": "stream",
     "text": [
      "2022-03-28 21:24:11.973954: I tensorflow/core/grappler/optimizers/custom_graph_optimizer_registry.cc:113] Plugin optimizer for device_type GPU is enabled.\n"
     ]
    },
    {
     "name": "stdout",
     "output_type": "stream",
     "text": [
      "\b\b\b\b\b\b\b\b\b\b\b\b\b\b\b\b\b\b\b\b\b\b\b\b\b\b\b\b\b\b\b\b\b\b\b\b\b\b\b\b\b\b\b\b\b\b\b\b\b\b\b\b\b\b\b\b\b\b\b\b\b\b\b\b\b\b\b\b\b\b\b\b\b\b\b\r",
      "7/7 [==============================] - ETA: 0s - loss: 1.9422 - acc: 0.5750"
     ]
    },
    {
     "name": "stderr",
     "output_type": "stream",
     "text": [
      "2022-03-28 21:24:12.251903: I tensorflow/core/grappler/optimizers/custom_graph_optimizer_registry.cc:113] Plugin optimizer for device_type GPU is enabled.\n"
     ]
    },
    {
     "name": "stdout",
     "output_type": "stream",
     "text": [
      "7/7 [==============================] - 2s 185ms/step - loss: 1.9422 - acc: 0.5750 - val_loss: 1.4673 - val_acc: 0.5007\n",
      "Epoch 2/10\n",
      "7/7 [==============================] - 1s 169ms/step - loss: 0.6765 - acc: 0.6600 - val_loss: 1.1318 - val_acc: 0.5009\n",
      "Epoch 3/10\n",
      "7/7 [==============================] - 1s 155ms/step - loss: 0.5494 - acc: 0.7000 - val_loss: 1.0965 - val_acc: 0.5005\n",
      "Epoch 4/10\n",
      "7/7 [==============================] - 1s 159ms/step - loss: 0.3518 - acc: 0.8350 - val_loss: 1.6228 - val_acc: 0.5006\n",
      "Epoch 5/10\n",
      "7/7 [==============================] - 1s 158ms/step - loss: 0.3196 - acc: 0.8950 - val_loss: 1.3298 - val_acc: 0.4993\n",
      "Epoch 6/10\n",
      "7/7 [==============================] - 1s 155ms/step - loss: 0.2189 - acc: 0.9350 - val_loss: 0.8681 - val_acc: 0.5241\n",
      "Epoch 7/10\n",
      "7/7 [==============================] - 1s 154ms/step - loss: 0.1327 - acc: 0.9850 - val_loss: 2.0781 - val_acc: 0.5001\n",
      "Epoch 8/10\n",
      "7/7 [==============================] - 1s 156ms/step - loss: 0.2243 - acc: 0.9100 - val_loss: 0.7265 - val_acc: 0.5709\n",
      "Epoch 9/10\n",
      "7/7 [==============================] - 1s 155ms/step - loss: 0.0542 - acc: 1.0000 - val_loss: 0.8128 - val_acc: 0.5513\n",
      "Epoch 10/10\n",
      "7/7 [==============================] - 1s 153ms/step - loss: 0.0514 - acc: 0.9900 - val_loss: 1.9695 - val_acc: 0.5006\n"
     ]
    }
   ],
   "source": [
    "model.compile(optimizer='rmsprop',\n",
    "              loss='binary_crossentropy',\n",
    "              metrics=['acc'])\n",
    "history = model.fit(x_train, y_train,\n",
    "                    epochs=10,\n",
    "                    batch_size=32,\n",
    "                    validation_data=(x_val, y_val))\n",
    "model.save_weights('pre_trained_glove_model.h5')"
   ]
  },
  {
   "cell_type": "code",
   "execution_count": 34,
   "id": "397d519f",
   "metadata": {},
   "outputs": [
    {
     "data": {
      "image/png": "[encoded data removed]",
      "text/plain": [
       "<Figure size 432x288 with 1 Axes>"
      ]
     },
     "metadata": {
      "needs_background": "light"
     },
     "output_type": "display_data"
    },
    {
     "data": {
      "image/png": "[encoded data removed]",
      "text/plain": [
       "<Figure size 432x288 with 1 Axes>"
      ]
     },
     "metadata": {
      "needs_background": "light"
     },
     "output_type": "display_data"
    }
   ],
   "source": [
    "import matplotlib.pyplot as plt\n",
    "\n",
    "acc = history.history['acc']\n",
    "val_acc = history.history['val_acc']\n",
    "loss = history.history['loss']\n",
    "val_loss = history.history['val_loss']\n",
    "\n",
    "epochs = range(1, len(acc) + 1)\n",
    "\n",
    "plt.plot(epochs, acc, 'bo', label='Training acc')\n",
    "plt.plot(epochs, val_acc, 'b', label='Validation acc')\n",
    "plt.title('Training and validation accuracy')\n",
    "plt.legend()\n",
    "\n",
    "plt.figure()\n",
    "\n",
    "plt.plot(epochs, loss, 'bo', label='Training loss')\n",
    "plt.plot(epochs, val_loss, 'b', label='Validation loss')\n",
    "plt.title('Training and validation loss')\n",
    "plt.legend()\n",
    "\n",
    "plt.show()"
   ]
  },
  {
   "cell_type": "markdown",
   "id": "3bb08182",
   "metadata": {},
   "source": [
    "이 모델은 과대적합이 빠르게 시작된다.. (훈련 샘플 수가 작기 때문)"
   ]
  },
  {
   "cell_type": "markdown",
   "id": "91751efe",
   "metadata": {},
   "source": [
    "### 사전훈련된 단어 임베딩 없이 같은 모델 훈련하기"
   ]
  },
  {
   "cell_type": "code",
   "execution_count": 35,
   "id": "861cc71a",
   "metadata": {},
   "outputs": [
    {
     "name": "stdout",
     "output_type": "stream",
     "text": [
      "Model: \"sequential_7\"\n",
      "_________________________________________________________________\n",
      " Layer (type)                Output Shape              Param #   \n",
      "=================================================================\n",
      " embedding_9 (Embedding)     (None, 100, 100)          1000000   \n",
      "                                                                 \n",
      " flatten_7 (Flatten)         (None, 10000)             0         \n",
      "                                                                 \n",
      " dense_12 (Dense)            (None, 32)                320032    \n",
      "                                                                 \n",
      " dense_13 (Dense)            (None, 1)                 33        \n",
      "                                                                 \n",
      "=================================================================\n",
      "Total params: 1,320,065\n",
      "Trainable params: 1,320,065\n",
      "Non-trainable params: 0\n",
      "_________________________________________________________________\n",
      "Epoch 1/10\n",
      "1/7 [===>..........................] - ETA: 2s - loss: 0.6850 - acc: 0.6875"
     ]
    },
    {
     "name": "stderr",
     "output_type": "stream",
     "text": [
      "2022-03-28 21:24:30.067026: I tensorflow/core/grappler/optimizers/custom_graph_optimizer_registry.cc:113] Plugin optimizer for device_type GPU is enabled.\n"
     ]
    },
    {
     "name": "stdout",
     "output_type": "stream",
     "text": [
      "7/7 [==============================] - ETA: 0s - loss: 0.6901 - acc: 0.5650"
     ]
    },
    {
     "name": "stderr",
     "output_type": "stream",
     "text": [
      "2022-03-28 21:24:30.457527: I tensorflow/core/grappler/optimizers/custom_graph_optimizer_registry.cc:113] Plugin optimizer for device_type GPU is enabled.\n"
     ]
    },
    {
     "name": "stdout",
     "output_type": "stream",
     "text": [
      "7/7 [==============================] - 2s 198ms/step - loss: 0.6901 - acc: 0.5650 - val_loss: 0.6948 - val_acc: 0.4967\n",
      "Epoch 2/10\n",
      "7/7 [==============================] - 1s 172ms/step - loss: 0.4475 - acc: 0.9900 - val_loss: 0.7107 - val_acc: 0.5030\n",
      "Epoch 3/10\n",
      "7/7 [==============================] - 1s 167ms/step - loss: 0.2392 - acc: 1.0000 - val_loss: 0.6982 - val_acc: 0.5230\n",
      "Epoch 4/10\n",
      "7/7 [==============================] - 1s 167ms/step - loss: 0.1092 - acc: 1.0000 - val_loss: 0.7406 - val_acc: 0.5061\n",
      "Epoch 5/10\n",
      "7/7 [==============================] - 1s 172ms/step - loss: 0.0514 - acc: 1.0000 - val_loss: 0.7190 - val_acc: 0.5193\n",
      "Epoch 6/10\n",
      "7/7 [==============================] - 1s 169ms/step - loss: 0.0272 - acc: 1.0000 - val_loss: 0.7633 - val_acc: 0.5062\n",
      "Epoch 7/10\n",
      "7/7 [==============================] - 1s 167ms/step - loss: 0.0156 - acc: 1.0000 - val_loss: 0.7310 - val_acc: 0.5221\n",
      "Epoch 8/10\n",
      "7/7 [==============================] - 1s 181ms/step - loss: 0.0091 - acc: 1.0000 - val_loss: 0.7468 - val_acc: 0.5209\n",
      "Epoch 9/10\n",
      "7/7 [==============================] - 1s 178ms/step - loss: 0.0054 - acc: 1.0000 - val_loss: 0.7858 - val_acc: 0.5124\n",
      "Epoch 10/10\n",
      "7/7 [==============================] - 1s 180ms/step - loss: 0.0034 - acc: 1.0000 - val_loss: 0.7821 - val_acc: 0.5155\n"
     ]
    }
   ],
   "source": [
    "from keras.models import Sequential\n",
    "from keras.layers import Embedding, Flatten, Dense\n",
    "\n",
    "model = Sequential()\n",
    "model.add(Embedding(max_words, embedding_dim, input_length=maxlen))\n",
    "model.add(Flatten())\n",
    "model.add(Dense(32, activation='relu'))\n",
    "model.add(Dense(1, activation='sigmoid'))\n",
    "model.summary()\n",
    "\n",
    "model.compile(optimizer='rmsprop',\n",
    "              loss='binary_crossentropy',\n",
    "              metrics=['acc'])\n",
    "history = model.fit(x_train, y_train,\n",
    "                    epochs=10,\n",
    "                    batch_size=32,\n",
    "                    validation_data=(x_val, y_val))"
   ]
  },
  {
   "cell_type": "code",
   "execution_count": 36,
   "id": "635eecf5",
   "metadata": {},
   "outputs": [
    {
     "data": {
      "image/png": "[encoded data removed]",
      "text/plain": [
       "<Figure size 432x288 with 1 Axes>"
      ]
     },
     "metadata": {
      "needs_background": "light"
     },
     "output_type": "display_data"
    },
    {
     "data": {
      "image/png": "[encoded data removed]",
      "text/plain": [
       "<Figure size 432x288 with 1 Axes>"
      ]
     },
     "metadata": {
      "needs_background": "light"
     },
     "output_type": "display_data"
    }
   ],
   "source": [
    "import matplotlib.pyplot as plt\n",
    "\n",
    "acc = history.history['acc']\n",
    "val_acc = history.history['val_acc']\n",
    "loss = history.history['loss']\n",
    "val_loss = history.history['val_loss']\n",
    "\n",
    "epochs = range(1, len(acc) + 1)\n",
    "\n",
    "plt.plot(epochs, acc, 'bo', label='Training acc')\n",
    "plt.plot(epochs, val_acc, 'b', label='Validation acc')\n",
    "plt.title('Training and validation accuracy')\n",
    "plt.legend()\n",
    "\n",
    "plt.figure()\n",
    "\n",
    "plt.plot(epochs, loss, 'bo', label='Training loss')\n",
    "plt.plot(epochs, val_loss, 'b', label='Validation loss')\n",
    "plt.title('Training and validation loss')\n",
    "plt.legend()\n",
    "\n",
    "plt.show()"
   ]
  },
  {
   "cell_type": "markdown",
   "id": "a35a5aaf",
   "metadata": {},
   "source": [
    "훈련 샘플 수가 적어서 검증 정확도 50% 초반에 머물고있다ㅠㅠ"
   ]
  },
  {
   "cell_type": "markdown",
   "id": "360a4861",
   "metadata": {},
   "source": [
    "### 테스트 데이터에서 모델 평가하기\n",
    "테스트 데이터 토큰화"
   ]
  },
  {
   "cell_type": "code",
   "execution_count": 37,
   "id": "04741b84",
   "metadata": {},
   "outputs": [],
   "source": [
    "test_dir = os.path.join(imdb_dir, 'test')\n",
    "\n",
    "labels = []\n",
    "texts = []\n",
    "\n",
    "for label_type in ['neg', 'pos']:\n",
    "    dir_name = os.path.join(test_dir, label_type)\n",
    "    for fname in sorted(os.listdir(dir_name)):\n",
    "        if fname[-4:] == '.txt':\n",
    "            f = open(os.path.join(dir_name, fname), encoding=\"utf8\")\n",
    "            texts.append(f.read())\n",
    "            f.close()\n",
    "            if label_type == 'neg':\n",
    "                labels.append(0)\n",
    "            else:\n",
    "                labels.append(1)\n",
    "\n",
    "sequences = tokenizer.texts_to_sequences(texts)\n",
    "x_test = pad_sequences(sequences, maxlen=maxlen)\n",
    "y_test = np.asarray(labels)"
   ]
  },
  {
   "cell_type": "markdown",
   "id": "381b647c",
   "metadata": {},
   "source": [
    "모델 로드 후 평가하기"
   ]
  },
  {
   "cell_type": "code",
   "execution_count": 38,
   "id": "17d44a60",
   "metadata": {},
   "outputs": [
    {
     "name": "stdout",
     "output_type": "stream",
     "text": [
      "782/782 [==============================] - 3s 4ms/step - loss: 1.9558 - acc: 0.5008\n"
     ]
    },
    {
     "data": {
      "text/plain": [
       "[1.9557899236679077, 0.5008000135421753]"
      ]
     },
     "execution_count": 38,
     "metadata": {},
     "output_type": "execute_result"
    }
   ],
   "source": [
    "model.load_weights('pre_trained_glove_model.h5')\n",
    "model.evaluate(x_test, y_test)"
   ]
  },
  {
   "cell_type": "markdown",
   "id": "a3f6cabf",
   "metadata": {},
   "source": [
    "50.0%의 테스트 정확도 달성.."
   ]
  },
  {
   "cell_type": "markdown",
   "id": "590320fa",
   "metadata": {},
   "source": [
    "---\n",
    "## 훈련 샘플 수 늘려보기\n",
    "훈련 샘플 수를 2000개로 증가해서 학습시켜보자.."
   ]
  },
  {
   "cell_type": "code",
   "execution_count": 41,
   "id": "0c22f7ba",
   "metadata": {},
   "outputs": [
    {
     "name": "stdout",
     "output_type": "stream",
     "text": [
      "88582개의 고유한 토큰을 찾았습니다.\n",
      "데이터 텐서의 크기: (25000, 100)\n",
      "레이블 텐서의 크기: (25000,)\n"
     ]
    }
   ],
   "source": [
    "# 훈련 데이터 2000개로 데이터 토큰화\n",
    "from keras.preprocessing.text import Tokenizer\n",
    "from keras.preprocessing.sequence import pad_sequences\n",
    "import numpy as np\n",
    "\n",
    "maxlen = 100  # 100개 단어 이후는 버리기\n",
    "training_samples = 2000  # 훈련 샘플: 2000개로 증가!\n",
    "validation_samples = 10000  # 검증 샘플: 10,000개\n",
    "max_words = 10000  # 데이터셋에서 가장 빈도 높은 10,000개의 단어만 사용\n",
    "\n",
    "tokenizer = Tokenizer(num_words=max_words)\n",
    "tokenizer.fit_on_texts(texts)\n",
    "sequences = tokenizer.texts_to_sequences(texts)\n",
    "\n",
    "word_index = tokenizer.word_index\n",
    "print('%s개의 고유한 토큰을 찾았습니다.' % len(word_index))\n",
    "\n",
    "data = pad_sequences(sequences, maxlen=maxlen)\n",
    "\n",
    "labels = np.asarray(labels)\n",
    "print('데이터 텐서의 크기:', data.shape)\n",
    "print('레이블 텐서의 크기:', labels.shape)\n",
    "\n",
    "# 데이터를 훈련 세트와 검증 세트로 분할\n",
    "# 샘플이 순서대로 있기 때문에 (부정 샘플이 모두 나온 후에 긍정 샘플 나옴) 먼저 데이터를 섞기\n",
    "indices = np.arange(data.shape[0])\n",
    "np.random.shuffle(indices)\n",
    "data = data[indices]\n",
    "labels = labels[indices]\n",
    "\n",
    "x_train = data[:training_samples]\n",
    "y_train = labels[:training_samples]\n",
    "x_val = data[training_samples: training_samples + validation_samples]\n",
    "y_val = labels[training_samples: training_samples + validation_samples]"
   ]
  },
  {
   "cell_type": "code",
   "execution_count": 42,
   "id": "12c4f177",
   "metadata": {},
   "outputs": [
    {
     "name": "stdout",
     "output_type": "stream",
     "text": [
      "Model: \"sequential_8\"\n",
      "_________________________________________________________________\n",
      " Layer (type)                Output Shape              Param #   \n",
      "=================================================================\n",
      " embedding_10 (Embedding)    (None, 100, 100)          1000000   \n",
      "                                                                 \n",
      " flatten_8 (Flatten)         (None, 10000)             0         \n",
      "                                                                 \n",
      " dense_14 (Dense)            (None, 32)                320032    \n",
      "                                                                 \n",
      " dense_15 (Dense)            (None, 1)                 33        \n",
      "                                                                 \n",
      "=================================================================\n",
      "Total params: 1,320,065\n",
      "Trainable params: 1,320,065\n",
      "Non-trainable params: 0\n",
      "_________________________________________________________________\n",
      "Epoch 1/10\n",
      " 1/63 [..............................] - ETA: 19s - loss: 0.7123 - acc: 0.5938"
     ]
    },
    {
     "name": "stderr",
     "output_type": "stream",
     "text": [
      "2022-03-28 21:26:00.280826: I tensorflow/core/grappler/optimizers/custom_graph_optimizer_registry.cc:113] Plugin optimizer for device_type GPU is enabled.\n"
     ]
    },
    {
     "name": "stdout",
     "output_type": "stream",
     "text": [
      "63/63 [==============================] - ETA: 0s - loss: 0.8410 - acc: 0.5535"
     ]
    },
    {
     "name": "stderr",
     "output_type": "stream",
     "text": [
      "2022-03-28 21:26:00.928833: I tensorflow/core/grappler/optimizers/custom_graph_optimizer_registry.cc:113] Plugin optimizer for device_type GPU is enabled.\n"
     ]
    },
    {
     "name": "stdout",
     "output_type": "stream",
     "text": [
      "63/63 [==============================] - 2s 23ms/step - loss: 0.8410 - acc: 0.5535 - val_loss: 0.6944 - val_acc: 0.4966\n",
      "Epoch 2/10\n",
      "63/63 [==============================] - 1s 20ms/step - loss: 0.6700 - acc: 0.6440 - val_loss: 0.8124 - val_acc: 0.4971\n",
      "Epoch 3/10\n",
      "63/63 [==============================] - 1s 20ms/step - loss: 0.5671 - acc: 0.7225 - val_loss: 0.6499 - val_acc: 0.6314\n",
      "Epoch 4/10\n",
      "63/63 [==============================] - 1s 20ms/step - loss: 0.4363 - acc: 0.8070 - val_loss: 0.9288 - val_acc: 0.5472\n",
      "Epoch 5/10\n",
      "63/63 [==============================] - 1s 20ms/step - loss: 0.3422 - acc: 0.8465 - val_loss: 0.7050 - val_acc: 0.6307\n",
      "Epoch 6/10\n",
      "63/63 [==============================] - 1s 20ms/step - loss: 0.2977 - acc: 0.8745 - val_loss: 0.7887 - val_acc: 0.6010\n",
      "Epoch 7/10\n",
      "63/63 [==============================] - 1s 20ms/step - loss: 0.2160 - acc: 0.9190 - val_loss: 0.7507 - val_acc: 0.6346\n",
      "Epoch 8/10\n",
      "63/63 [==============================] - 1s 20ms/step - loss: 0.1632 - acc: 0.9500 - val_loss: 0.7879 - val_acc: 0.6434\n",
      "Epoch 9/10\n",
      "63/63 [==============================] - 1s 20ms/step - loss: 0.1490 - acc: 0.9520 - val_loss: 0.7731 - val_acc: 0.6436\n",
      "Epoch 10/10\n",
      "63/63 [==============================] - 1s 20ms/step - loss: 0.1027 - acc: 0.9660 - val_loss: 0.8335 - val_acc: 0.6438\n"
     ]
    }
   ],
   "source": [
    "# 사전 훈련된 단어 임베딩 버전\n",
    "model1 = Sequential()\n",
    "model1.add(Embedding(max_words, embedding_dim, input_length=maxlen))\n",
    "model1.add(Flatten())\n",
    "model1.add(Dense(32, activation='relu'))\n",
    "model1.add(Dense(1, activation='sigmoid'))\n",
    "model1.summary()\n",
    "\n",
    "model1.layers[0].set_weights([embedding_matrix])\n",
    "model1.layers[0].trainable = False\n",
    "\n",
    "model1.compile(optimizer='rmsprop',\n",
    "              loss='binary_crossentropy',\n",
    "              metrics=['acc'])\n",
    "history1 = model1.fit(x_train, y_train,\n",
    "                    epochs=10,\n",
    "                    batch_size=32,\n",
    "                    validation_data=(x_val, y_val))"
   ]
  },
  {
   "cell_type": "code",
   "execution_count": 43,
   "id": "cffe7a07",
   "metadata": {},
   "outputs": [
    {
     "name": "stdout",
     "output_type": "stream",
     "text": [
      "782/782 [==============================] - 3s 4ms/step - loss: 0.8249 - acc: 0.6446\n"
     ]
    },
    {
     "data": {
      "text/plain": [
       "[0.8248974680900574, 0.6446000337600708]"
      ]
     },
     "execution_count": 43,
     "metadata": {},
     "output_type": "execute_result"
    }
   ],
   "source": [
    "model1.evaluate(x_test, y_test)"
   ]
  },
  {
   "cell_type": "markdown",
   "id": "209566f5",
   "metadata": {},
   "source": [
    "사전 훈련된 임베딩 사용 결과: 정확도 64.5%로 증가"
   ]
  },
  {
   "cell_type": "code",
   "execution_count": 44,
   "id": "078253fb",
   "metadata": {},
   "outputs": [
    {
     "name": "stdout",
     "output_type": "stream",
     "text": [
      "Model: \"sequential_9\"\n",
      "_________________________________________________________________\n",
      " Layer (type)                Output Shape              Param #   \n",
      "=================================================================\n",
      " embedding_11 (Embedding)    (None, 100, 100)          1000000   \n",
      "                                                                 \n",
      " flatten_9 (Flatten)         (None, 10000)             0         \n",
      "                                                                 \n",
      " dense_16 (Dense)            (None, 32)                320032    \n",
      "                                                                 \n",
      " dense_17 (Dense)            (None, 1)                 33        \n",
      "                                                                 \n",
      "=================================================================\n",
      "Total params: 1,320,065\n",
      "Trainable params: 1,320,065\n",
      "Non-trainable params: 0\n",
      "_________________________________________________________________\n",
      "Epoch 1/10\n",
      " 1/63 [..............................] - ETA: 22s - loss: 0.6970 - acc: 0.4062"
     ]
    },
    {
     "name": "stderr",
     "output_type": "stream",
     "text": [
      "2022-03-28 21:26:41.785100: I tensorflow/core/grappler/optimizers/custom_graph_optimizer_registry.cc:113] Plugin optimizer for device_type GPU is enabled.\n"
     ]
    },
    {
     "name": "stdout",
     "output_type": "stream",
     "text": [
      "63/63 [==============================] - ETA: 0s - loss: 0.6877 - acc: 0.5420"
     ]
    },
    {
     "name": "stderr",
     "output_type": "stream",
     "text": [
      "2022-03-28 21:26:43.107855: I tensorflow/core/grappler/optimizers/custom_graph_optimizer_registry.cc:113] Plugin optimizer for device_type GPU is enabled.\n"
     ]
    },
    {
     "name": "stdout",
     "output_type": "stream",
     "text": [
      "63/63 [==============================] - 2s 34ms/step - loss: 0.6877 - acc: 0.5420 - val_loss: 0.6745 - val_acc: 0.5918\n",
      "Epoch 2/10\n",
      "63/63 [==============================] - 2s 31ms/step - loss: 0.3237 - acc: 0.9535 - val_loss: 0.6014 - val_acc: 0.6726\n",
      "Epoch 3/10\n",
      "63/63 [==============================] - 2s 31ms/step - loss: 0.0422 - acc: 0.9970 - val_loss: 0.5726 - val_acc: 0.7147\n",
      "Epoch 4/10\n",
      "63/63 [==============================] - 2s 28ms/step - loss: 0.0034 - acc: 1.0000 - val_loss: 0.6014 - val_acc: 0.7251\n",
      "Epoch 5/10\n",
      "63/63 [==============================] - 2s 28ms/step - loss: 2.4836e-04 - acc: 1.0000 - val_loss: 0.6776 - val_acc: 0.7331\n",
      "Epoch 6/10\n",
      "63/63 [==============================] - 2s 28ms/step - loss: 1.3031e-05 - acc: 1.0000 - val_loss: 0.7307 - val_acc: 0.7357\n",
      "Epoch 7/10\n",
      "63/63 [==============================] - 2s 29ms/step - loss: 1.1047e-06 - acc: 1.0000 - val_loss: 0.8011 - val_acc: 0.7360\n",
      "Epoch 8/10\n",
      "63/63 [==============================] - 2s 28ms/step - loss: 2.3107e-07 - acc: 1.0000 - val_loss: 0.8657 - val_acc: 0.7353\n",
      "Epoch 9/10\n",
      "63/63 [==============================] - 2s 28ms/step - loss: 8.1184e-08 - acc: 1.0000 - val_loss: 0.8977 - val_acc: 0.7360\n",
      "Epoch 10/10\n",
      "63/63 [==============================] - 2s 28ms/step - loss: 1.9872e-08 - acc: 1.0000 - val_loss: 0.9166 - val_acc: 0.7352\n"
     ]
    }
   ],
   "source": [
    "# 사전 훈련된 단어 임베딩 사용하지 않기!\n",
    "# 입력 토큰 학습하도록..\n",
    "from keras.models import Sequential\n",
    "from keras.layers import Embedding, Flatten, Dense\n",
    "\n",
    "model2 = Sequential()\n",
    "model2.add(Embedding(max_words, embedding_dim, input_length=maxlen))\n",
    "model2.add(Flatten())\n",
    "model2.add(Dense(32, activation='relu'))\n",
    "model2.add(Dense(1, activation='sigmoid'))\n",
    "model2.summary()\n",
    "\n",
    "model2.compile(optimizer='rmsprop',\n",
    "              loss='binary_crossentropy',\n",
    "              metrics=['acc'])\n",
    "history2 = model2.fit(x_train, y_train,\n",
    "                    epochs=10,\n",
    "                    batch_size=32,\n",
    "                    validation_data=(x_val, y_val))"
   ]
  },
  {
   "cell_type": "code",
   "execution_count": 45,
   "id": "824a4507",
   "metadata": {},
   "outputs": [
    {
     "name": "stdout",
     "output_type": "stream",
     "text": [
      "782/782 [==============================] - 3s 4ms/step - loss: 0.9085 - acc: 0.7367\n"
     ]
    },
    {
     "data": {
      "text/plain": [
       "[0.9084743857383728, 0.7366800308227539]"
      ]
     },
     "execution_count": 45,
     "metadata": {},
     "output_type": "execute_result"
    }
   ],
   "source": [
    "model2.evaluate(x_test, y_test)"
   ]
  },
  {
   "cell_type": "markdown",
   "id": "2a3209e2",
   "metadata": {},
   "source": [
    "입력 토큰 직접 학습하도록한 결과: 73.7% 정확도 달성!"
   ]
  },
  {
   "cell_type": "code",
   "execution_count": 46,
   "id": "1b6dd0f3",
   "metadata": {},
   "outputs": [
    {
     "data": {
      "image/png": "[encoded data removed]",
      "text/plain": [
       "<Figure size 432x288 with 1 Axes>"
      ]
     },
     "metadata": {
      "needs_background": "light"
     },
     "output_type": "display_data"
    },
    {
     "data": {
      "image/png": "[encoded data removed]",
      "text/plain": [
       "<Figure size 432x288 with 1 Axes>"
      ]
     },
     "metadata": {
      "needs_background": "light"
     },
     "output_type": "display_data"
    }
   ],
   "source": [
    "import matplotlib.pyplot as plt\n",
    "\n",
    "acc1 = history1.history['acc']\n",
    "val_acc1 = history1.history['val_acc']\n",
    "loss1 = history1.history['loss']\n",
    "val_loss1 = history1.history['val_loss']\n",
    "\n",
    "acc2 = history2.history['acc']\n",
    "val_acc2 = history2.history['val_acc']\n",
    "loss2 = history2.history['loss']\n",
    "val_loss2 = history2.history['val_loss']\n",
    "\n",
    "epochs = range(1, len(acc) + 1)\n",
    "\n",
    "plt.plot(epochs, acc1, 'bo', label='pretrained Training acc')\n",
    "plt.plot(epochs, val_acc1, 'b', label='pretrained Validation acc')\n",
    "plt.plot(epochs, acc2, 'ro', label='Training acc')\n",
    "plt.plot(epochs, val_acc2, 'r', label='Validation acc')\n",
    "plt.title('Training and validation accuracy')\n",
    "plt.legend( ncol=1, loc='center right', bbox_to_anchor=(1.53,0.15), scatterpoints=1)\n",
    "\n",
    "plt.figure()\n",
    "\n",
    "plt.plot(epochs, loss1, 'bo', label='pretrained Training loss')\n",
    "plt.plot(epochs, val_loss1, 'b', label='pretrained Validation loss')\n",
    "plt.plot(epochs, loss2, 'ro', label='Training loss')\n",
    "plt.plot(epochs, val_loss2, 'r', label='Validation loss')\n",
    "plt.title('Training and validation loss')\n",
    "plt.legend( ncol=1, loc='center right', bbox_to_anchor=(1.53,0.15), scatterpoints=1)\n",
    "\n",
    "plt.show()"
   ]
  },
  {
   "cell_type": "code",
   "execution_count": null,
   "id": "d5d05740",
   "metadata": {},
   "outputs": [],
   "source": []
  }
 ],
 "metadata": {
  "kernelspec": {
   "display_name": "Python 3 (ipykernel)",
   "language": "python",
   "name": "python3"
  },
  "language_info": {
   "codemirror_mode": {
    "name": "ipython",
    "version": 3
   },
   "file_extension": ".py",
   "mimetype": "text/x-python",
   "name": "python",
   "nbconvert_exporter": "python",
   "pygments_lexer": "ipython3",
   "version": "3.9.7"
  }
 },
 "nbformat": 4,
 "nbformat_minor": 5
}
