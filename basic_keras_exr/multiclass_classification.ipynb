{
 "cells": [
  {
   "cell_type": "code",
   "execution_count": 1,
   "id": "d8c638aa",
   "metadata": {},
   "outputs": [],
   "source": [
    "import keras\n",
    "from keras.datasets import reuters\n",
    "\n",
    "(train_data, train_labels), (test_data, test_labels) = reuters.load_data(num_words=10000)"
   ]
  },
  {
   "cell_type": "code",
   "execution_count": 2,
   "id": "4a41d0ee",
   "metadata": {},
   "outputs": [
    {
     "data": {
      "text/plain": [
       "8982"
      ]
     },
     "execution_count": 2,
     "metadata": {},
     "output_type": "execute_result"
    }
   ],
   "source": [
    "len(train_data)"
   ]
  },
  {
   "cell_type": "code",
   "execution_count": 3,
   "id": "829841c9",
   "metadata": {},
   "outputs": [
    {
     "data": {
      "text/plain": [
       "2246"
      ]
     },
     "execution_count": 3,
     "metadata": {},
     "output_type": "execute_result"
    }
   ],
   "source": [
    "len(test_data)"
   ]
  },
  {
   "cell_type": "code",
   "execution_count": 4,
   "id": "da9de3d6",
   "metadata": {},
   "outputs": [
    {
     "data": {
      "text/plain": [
       "3"
      ]
     },
     "execution_count": 4,
     "metadata": {},
     "output_type": "execute_result"
    }
   ],
   "source": [
    "#데이터셋 텍스트로 디코딩\n",
    "word_index = reuters.get_word_index()\n",
    "reverse_word_index = dict([(value, key) for (key, value) in word_index.items()])\n",
    "decoded_newswire = ' '.join([reverse_word_index.get(i-3, '?') for i in train_data[0]])\n",
    "\n",
    "train_labels[10]"
   ]
  },
  {
   "cell_type": "code",
   "execution_count": 5,
   "id": "2feed251",
   "metadata": {},
   "outputs": [],
   "source": [
    "# 데이터 인코딩\n",
    "import numpy as np\n",
    "\n",
    "def vectorize_sequences(sequences, dimension=10000):\n",
    "    results = np.zeros((len(sequences), dimension))\n",
    "    for i, sequence in enumerate(sequences):\n",
    "        results[i, sequence] = 1.\n",
    "    return results\n",
    "\n",
    "x_train = vectorize_sequences(train_data) # 훈련 데이터 벡터 변환\n",
    "x_test = vectorize_sequences(test_data) # 테스트 데이터 벡터 변환"
   ]
  },
  {
   "cell_type": "code",
   "execution_count": 6,
   "id": "1c8e3060",
   "metadata": {},
   "outputs": [],
   "source": [
    "# 레이블 -> 벡터 : 원-핫 인코딩(범주형 인코딩)\n",
    "from keras.utils.np_utils import to_categorical\n",
    "\n",
    "one_hot_train_labels = to_categorical(train_labels)\n",
    "one_hot_test_labels = to_categorical(test_labels)"
   ]
  },
  {
   "cell_type": "code",
   "execution_count": 7,
   "id": "7c80e9ca",
   "metadata": {},
   "outputs": [
    {
     "name": "stderr",
     "output_type": "stream",
     "text": [
      "2022-03-17 19:42:40.332882: I tensorflow/core/common_runtime/pluggable_device/pluggable_device_factory.cc:305] Could not identify NUMA node of platform GPU ID 0, defaulting to 0. Your kernel may not have been built with NUMA support.\n",
      "2022-03-17 19:42:40.333023: I tensorflow/core/common_runtime/pluggable_device/pluggable_device_factory.cc:271] Created TensorFlow device (/job:localhost/replica:0/task:0/device:GPU:0 with 0 MB memory) -> physical PluggableDevice (device: 0, name: METAL, pci bus id: <undefined>)\n"
     ]
    },
    {
     "name": "stdout",
     "output_type": "stream",
     "text": [
      "Metal device set to: Apple M1\n"
     ]
    }
   ],
   "source": [
    "# 모델 정의\n",
    "from keras import models\n",
    "from keras import layers\n",
    "\n",
    "model = models.Sequential()\n",
    "# 출력이 46클래스로 나뉘니까 유닛 갯수를 좀 더 크게 (64차원으로)\n",
    "model.add(layers.Dense(64, activation='relu', input_shape=(10000,)))\n",
    "model.add(layers.Dense(64, activation='relu'))\n",
    "# softmax -> class[i]에 속할 확률 출력\n",
    "model.add(layers.Dense(46, activation='softmax')) # 출력 클래스 갯수 46개"
   ]
  },
  {
   "cell_type": "code",
   "execution_count": 8,
   "id": "7ffacaa8",
   "metadata": {},
   "outputs": [],
   "source": [
    "# 모델 컴파일\n",
    "model.compile(optimizer='rmsprop',\n",
    "             loss= 'categorical_crossentropy', # 두 확률분포 사이의 거리 측정 -> 거리 최소화 => 진짜 레이블에 가까운 출력 내도록\n",
    "             metrics= ['accuracy'])"
   ]
  },
  {
   "cell_type": "code",
   "execution_count": 9,
   "id": "6e4e7117",
   "metadata": {},
   "outputs": [],
   "source": [
    "# 검증 세트 준비\n",
    "x_val = x_train[:1000]\n",
    "partial_x_train = x_train[1000:]\n",
    "\n",
    "y_val = one_hot_train_labels[:1000]\n",
    "partial_y_train = one_hot_train_labels[1000:]"
   ]
  },
  {
   "cell_type": "code",
   "execution_count": 10,
   "id": "78529549",
   "metadata": {},
   "outputs": [
    {
     "name": "stdout",
     "output_type": "stream",
     "text": [
      "Epoch 1/20\n"
     ]
    },
    {
     "name": "stderr",
     "output_type": "stream",
     "text": [
      "2022-03-17 19:42:40.928445: W tensorflow/core/platform/profile_utils/cpu_utils.cc:128] Failed to get CPU frequency: 0 Hz\n",
      "2022-03-17 19:42:41.174992: I tensorflow/core/grappler/optimizers/custom_graph_optimizer_registry.cc:113] Plugin optimizer for device_type GPU is enabled.\n"
     ]
    },
    {
     "name": "stdout",
     "output_type": "stream",
     "text": [
      "16/16 [==============================] - 2s 26ms/step - loss: 2.6348 - accuracy: 0.5154 - val_loss: 1.7614 - val_accuracy: 0.6370\n",
      "Epoch 2/20\n",
      "11/16 [===================>..........] - ETA: 0s - loss: 1.4959 - accuracy: 0.6946"
     ]
    },
    {
     "name": "stderr",
     "output_type": "stream",
     "text": [
      "2022-03-17 19:42:43.356153: I tensorflow/core/grappler/optimizers/custom_graph_optimizer_registry.cc:113] Plugin optimizer for device_type GPU is enabled.\n"
     ]
    },
    {
     "name": "stdout",
     "output_type": "stream",
     "text": [
      "16/16 [==============================] - 0s 13ms/step - loss: 1.4279 - accuracy: 0.7078 - val_loss: 1.3086 - val_accuracy: 0.7200\n",
      "Epoch 3/20\n",
      "16/16 [==============================] - 0s 12ms/step - loss: 1.0484 - accuracy: 0.7786 - val_loss: 1.1325 - val_accuracy: 0.7580\n",
      "Epoch 4/20\n",
      "16/16 [==============================] - 0s 12ms/step - loss: 0.8313 - accuracy: 0.8245 - val_loss: 1.0347 - val_accuracy: 0.7950\n",
      "Epoch 5/20\n",
      "16/16 [==============================] - 0s 12ms/step - loss: 0.6669 - accuracy: 0.8569 - val_loss: 0.9897 - val_accuracy: 0.7960\n",
      "Epoch 6/20\n",
      "16/16 [==============================] - 0s 12ms/step - loss: 0.5357 - accuracy: 0.8893 - val_loss: 0.9444 - val_accuracy: 0.8010\n",
      "Epoch 7/20\n",
      "16/16 [==============================] - 0s 12ms/step - loss: 0.4327 - accuracy: 0.9089 - val_loss: 0.9099 - val_accuracy: 0.8110\n",
      "Epoch 8/20\n",
      "16/16 [==============================] - 0s 12ms/step - loss: 0.3523 - accuracy: 0.9265 - val_loss: 0.9118 - val_accuracy: 0.8170\n",
      "Epoch 9/20\n",
      "16/16 [==============================] - 0s 12ms/step - loss: 0.2992 - accuracy: 0.9337 - val_loss: 0.9269 - val_accuracy: 0.8120\n",
      "Epoch 10/20\n",
      "16/16 [==============================] - 0s 12ms/step - loss: 0.2488 - accuracy: 0.9448 - val_loss: 0.9313 - val_accuracy: 0.8050\n",
      "Epoch 11/20\n",
      "16/16 [==============================] - 0s 12ms/step - loss: 0.2159 - accuracy: 0.9474 - val_loss: 0.9009 - val_accuracy: 0.8190\n",
      "Epoch 12/20\n",
      "16/16 [==============================] - 0s 12ms/step - loss: 0.1875 - accuracy: 0.9518 - val_loss: 0.9411 - val_accuracy: 0.8030\n",
      "Epoch 13/20\n",
      "16/16 [==============================] - 0s 12ms/step - loss: 0.1690 - accuracy: 0.9535 - val_loss: 0.9763 - val_accuracy: 0.8060\n",
      "Epoch 14/20\n",
      "16/16 [==============================] - 0s 12ms/step - loss: 0.1545 - accuracy: 0.9541 - val_loss: 1.1009 - val_accuracy: 0.7780\n",
      "Epoch 15/20\n",
      "16/16 [==============================] - 0s 12ms/step - loss: 0.1459 - accuracy: 0.9544 - val_loss: 1.0115 - val_accuracy: 0.8120\n",
      "Epoch 16/20\n",
      "16/16 [==============================] - 0s 12ms/step - loss: 0.1319 - accuracy: 0.9564 - val_loss: 1.0241 - val_accuracy: 0.8020\n",
      "Epoch 17/20\n",
      "16/16 [==============================] - 0s 12ms/step - loss: 0.1257 - accuracy: 0.9553 - val_loss: 1.1126 - val_accuracy: 0.7830\n",
      "Epoch 18/20\n",
      "16/16 [==============================] - 0s 12ms/step - loss: 0.1234 - accuracy: 0.9589 - val_loss: 1.0353 - val_accuracy: 0.8050\n",
      "Epoch 19/20\n",
      "16/16 [==============================] - 0s 12ms/step - loss: 0.1176 - accuracy: 0.9574 - val_loss: 1.1341 - val_accuracy: 0.7830\n",
      "Epoch 20/20\n",
      "16/16 [==============================] - 0s 11ms/step - loss: 0.1139 - accuracy: 0.9565 - val_loss: 1.0676 - val_accuracy: 0.8040\n"
     ]
    }
   ],
   "source": [
    "# 모델 훈련\n",
    "history = model.fit(partial_x_train,\n",
    "                   partial_y_train,\n",
    "                   epochs=20,\n",
    "                   batch_size=512,\n",
    "                   validation_data=(x_val, y_val))"
   ]
  },
  {
   "cell_type": "code",
   "execution_count": 11,
   "id": "4fd04bf6",
   "metadata": {},
   "outputs": [
    {
     "data": {
      "image/png": "[encoded data removed]",
      "text/plain": [
       "<Figure size 432x288 with 1 Axes>"
      ]
     },
     "metadata": {
      "needs_background": "light"
     },
     "output_type": "display_data"
    }
   ],
   "source": [
    "import matplotlib.pyplot as plt\n",
    "\n",
    "loss = history.history['loss']\n",
    "val_loss = history.history['val_loss']\n",
    "\n",
    "epochs = range(1, len(loss)+1)\n",
    "\n",
    "plt.plot(epochs, loss, 'bo', label='Training loss')\n",
    "plt.plot(epochs, val_loss, 'b', label='Validation loss')\n",
    "plt.title('Training and validation loss')\n",
    "plt.xlabel('Epochs')\n",
    "plt.ylabel('Loss')\n",
    "plt.legend()\n",
    "\n",
    "plt.show()"
   ]
  },
  {
   "cell_type": "code",
   "execution_count": 12,
   "id": "8b1f0791",
   "metadata": {},
   "outputs": [
    {
     "data": {
      "image/png": "[encoded data removed]",
      "text/plain": [
       "<Figure size 432x288 with 1 Axes>"
      ]
     },
     "metadata": {
      "needs_background": "light"
     },
     "output_type": "display_data"
    }
   ],
   "source": [
    "plt.clf()\n",
    "acc = history.history['accuracy']\n",
    "val_acc = history.history['val_accuracy']\n",
    "\n",
    "plt.plot(epochs, acc, 'ro', label='Training acc')\n",
    "plt.plot(epochs, val_acc, 'r', label='Validation acc')\n",
    "plt.title('Training and validation accuracy')\n",
    "plt.xlabel('Epochs')\n",
    "plt.ylabel('Accuracy')\n",
    "plt.legend()\n",
    "\n",
    "plt.show()"
   ]
  },
  {
   "cell_type": "code",
   "execution_count": 13,
   "id": "907f9e3f",
   "metadata": {},
   "outputs": [
    {
     "name": "stdout",
     "output_type": "stream",
     "text": [
      "Epoch 1/9\n",
      " 6/16 [==========>...................] - ETA: 0s - loss: 3.3341 - accuracy: 0.4095"
     ]
    },
    {
     "name": "stderr",
     "output_type": "stream",
     "text": [
      "2022-03-17 19:42:47.785912: I tensorflow/core/grappler/optimizers/custom_graph_optimizer_registry.cc:113] Plugin optimizer for device_type GPU is enabled.\n"
     ]
    },
    {
     "name": "stdout",
     "output_type": "stream",
     "text": [
      "16/16 [==============================] - 1s 24ms/step - loss: 2.6078 - accuracy: 0.5302 - val_loss: 1.7326 - val_accuracy: 0.6400\n",
      "Epoch 2/9\n",
      "11/16 [===================>..........] - ETA: 0s - loss: 1.4586 - accuracy: 0.7056"
     ]
    },
    {
     "name": "stderr",
     "output_type": "stream",
     "text": [
      "2022-03-17 19:42:48.206786: I tensorflow/core/grappler/optimizers/custom_graph_optimizer_registry.cc:113] Plugin optimizer for device_type GPU is enabled.\n"
     ]
    },
    {
     "name": "stdout",
     "output_type": "stream",
     "text": [
      "16/16 [==============================] - 0s 12ms/step - loss: 1.4009 - accuracy: 0.7150 - val_loss: 1.2955 - val_accuracy: 0.7190\n",
      "Epoch 3/9\n",
      "16/16 [==============================] - 0s 12ms/step - loss: 1.0338 - accuracy: 0.7825 - val_loss: 1.1377 - val_accuracy: 0.7680\n",
      "Epoch 4/9\n",
      "16/16 [==============================] - 0s 12ms/step - loss: 0.8205 - accuracy: 0.8256 - val_loss: 1.0391 - val_accuracy: 0.7810\n",
      "Epoch 5/9\n",
      "16/16 [==============================] - 0s 12ms/step - loss: 0.6577 - accuracy: 0.8599 - val_loss: 0.9805 - val_accuracy: 0.7910\n",
      "Epoch 6/9\n",
      "16/16 [==============================] - 0s 12ms/step - loss: 0.5346 - accuracy: 0.8860 - val_loss: 0.9288 - val_accuracy: 0.8100\n",
      "Epoch 7/9\n",
      "16/16 [==============================] - 0s 12ms/step - loss: 0.4317 - accuracy: 0.9108 - val_loss: 0.9207 - val_accuracy: 0.8100\n",
      "Epoch 8/9\n",
      "16/16 [==============================] - 0s 12ms/step - loss: 0.3562 - accuracy: 0.9250 - val_loss: 0.9037 - val_accuracy: 0.8200\n",
      "Epoch 9/9\n",
      "16/16 [==============================] - 0s 12ms/step - loss: 0.2940 - accuracy: 0.9362 - val_loss: 0.9022 - val_accuracy: 0.8170\n",
      "71/71 [==============================] - 1s 8ms/step - loss: 0.9797 - accuracy: 0.7827\n"
     ]
    }
   ],
   "source": [
    "# 처음부터 다시 훈련..\n",
    "model = models.Sequential()\n",
    "model.add(layers.Dense(64, activation='relu', input_shape=(10000,)))\n",
    "model.add(layers.Dense(64, activation='relu'))\n",
    "model.add(layers.Dense(46, activation='softmax')) \n",
    "\n",
    "model.compile(optimizer='rmsprop',\n",
    "             loss= 'categorical_crossentropy',\n",
    "             metrics= ['accuracy'])\n",
    "\n",
    "model.fit(partial_x_train,\n",
    "          partial_y_train,\n",
    "          epochs=9, # 9번 이후 과대적합 시작 -> 9번 에포크로 줄이기\n",
    "          batch_size=512,\n",
    "          validation_data=(x_val, y_val))\n",
    "\n",
    "results = model.evaluate(x_test, one_hot_test_labels)"
   ]
  },
  {
   "cell_type": "code",
   "execution_count": 14,
   "id": "50331723",
   "metadata": {},
   "outputs": [
    {
     "data": {
      "text/plain": [
       "[0.9796852469444275, 0.7827248573303223]"
      ]
     },
     "execution_count": 14,
     "metadata": {},
     "output_type": "execute_result"
    }
   ],
   "source": [
    "results"
   ]
  },
  {
   "cell_type": "code",
   "execution_count": 15,
   "id": "873286fe",
   "metadata": {},
   "outputs": [
    {
     "name": "stdout",
     "output_type": "stream",
     "text": [
      "(46,)\n",
      "0.9999998\n",
      "3\n"
     ]
    },
    {
     "name": "stderr",
     "output_type": "stream",
     "text": [
      "2022-03-17 19:42:50.572201: I tensorflow/core/grappler/optimizers/custom_graph_optimizer_registry.cc:113] Plugin optimizer for device_type GPU is enabled.\n"
     ]
    }
   ],
   "source": [
    "predictions= model.predict(x_test)\n",
    "\n",
    "print(predictions[0].shape)\n",
    "print(np.sum(predictions[0]))\n",
    "print(np.argmax(predictions[0]))"
   ]
  },
  {
   "cell_type": "code",
   "execution_count": 16,
   "id": "75c1b108",
   "metadata": {},
   "outputs": [
    {
     "name": "stdout",
     "output_type": "stream",
     "text": [
      "Epoch 1/20\n"
     ]
    },
    {
     "name": "stderr",
     "output_type": "stream",
     "text": [
      "2022-03-17 19:42:51.121361: I tensorflow/core/grappler/optimizers/custom_graph_optimizer_registry.cc:113] Plugin optimizer for device_type GPU is enabled.\n"
     ]
    },
    {
     "name": "stdout",
     "output_type": "stream",
     "text": [
      "16/16 [==============================] - 1s 25ms/step - loss: 3.3737 - accuracy: 0.3503 - val_loss: 2.8959 - val_accuracy: 0.5650\n",
      "Epoch 2/20\n",
      "11/16 [===================>..........] - ETA: 0s - loss: 2.6743 - accuracy: 0.5803"
     ]
    },
    {
     "name": "stderr",
     "output_type": "stream",
     "text": [
      "2022-03-17 19:42:51.817095: I tensorflow/core/grappler/optimizers/custom_graph_optimizer_registry.cc:113] Plugin optimizer for device_type GPU is enabled.\n"
     ]
    },
    {
     "name": "stdout",
     "output_type": "stream",
     "text": [
      "16/16 [==============================] - 0s 12ms/step - loss: 2.5833 - accuracy: 0.5852 - val_loss: 2.3094 - val_accuracy: 0.5970\n",
      "Epoch 3/20\n",
      "16/16 [==============================] - 0s 12ms/step - loss: 2.0525 - accuracy: 0.6168 - val_loss: 1.9341 - val_accuracy: 0.6100\n",
      "Epoch 4/20\n",
      "16/16 [==============================] - 0s 12ms/step - loss: 1.7183 - accuracy: 0.6382 - val_loss: 1.7269 - val_accuracy: 0.6220\n",
      "Epoch 5/20\n",
      "16/16 [==============================] - 0s 12ms/step - loss: 1.5151 - accuracy: 0.6515 - val_loss: 1.5971 - val_accuracy: 0.6420\n",
      "Epoch 6/20\n",
      "16/16 [==============================] - 0s 12ms/step - loss: 1.3800 - accuracy: 0.6611 - val_loss: 1.5191 - val_accuracy: 0.6540\n",
      "Epoch 7/20\n",
      "16/16 [==============================] - 0s 12ms/step - loss: 1.2808 - accuracy: 0.6726 - val_loss: 1.4802 - val_accuracy: 0.6460\n",
      "Epoch 8/20\n",
      "16/16 [==============================] - 0s 12ms/step - loss: 1.1994 - accuracy: 0.6903 - val_loss: 1.4337 - val_accuracy: 0.6750\n",
      "Epoch 9/20\n",
      "16/16 [==============================] - 0s 12ms/step - loss: 1.1328 - accuracy: 0.7035 - val_loss: 1.4112 - val_accuracy: 0.6740\n",
      "Epoch 10/20\n",
      "16/16 [==============================] - 0s 12ms/step - loss: 1.0750 - accuracy: 0.7121 - val_loss: 1.3880 - val_accuracy: 0.6770\n",
      "Epoch 11/20\n",
      "16/16 [==============================] - 0s 12ms/step - loss: 1.0232 - accuracy: 0.7186 - val_loss: 1.3790 - val_accuracy: 0.6800\n",
      "Epoch 12/20\n",
      "16/16 [==============================] - 0s 12ms/step - loss: 0.9768 - accuracy: 0.7329 - val_loss: 1.3759 - val_accuracy: 0.6790\n",
      "Epoch 13/20\n",
      "16/16 [==============================] - 0s 12ms/step - loss: 0.9340 - accuracy: 0.7412 - val_loss: 1.3729 - val_accuracy: 0.6810\n",
      "Epoch 14/20\n",
      "16/16 [==============================] - 0s 12ms/step - loss: 0.8952 - accuracy: 0.7466 - val_loss: 1.3691 - val_accuracy: 0.6810\n",
      "Epoch 15/20\n",
      "16/16 [==============================] - 0s 12ms/step - loss: 0.8590 - accuracy: 0.7506 - val_loss: 1.3882 - val_accuracy: 0.6820\n",
      "Epoch 16/20\n",
      "16/16 [==============================] - 0s 12ms/step - loss: 0.8277 - accuracy: 0.7556 - val_loss: 1.3789 - val_accuracy: 0.6810\n",
      "Epoch 17/20\n",
      "16/16 [==============================] - 0s 12ms/step - loss: 0.7964 - accuracy: 0.7578 - val_loss: 1.3894 - val_accuracy: 0.6780\n",
      "Epoch 18/20\n",
      "16/16 [==============================] - 0s 12ms/step - loss: 0.7712 - accuracy: 0.7640 - val_loss: 1.4021 - val_accuracy: 0.6810\n",
      "Epoch 19/20\n",
      "16/16 [==============================] - 0s 12ms/step - loss: 0.7434 - accuracy: 0.7704 - val_loss: 1.4234 - val_accuracy: 0.6780\n",
      "Epoch 20/20\n",
      "16/16 [==============================] - 0s 12ms/step - loss: 0.7198 - accuracy: 0.7756 - val_loss: 1.4264 - val_accuracy: 0.6760\n",
      "71/71 [==============================] - 0s 6ms/step - loss: 1.5613 - accuracy: 0.6594\n",
      "[1.5613304376602173, 0.6593945026397705]\n"
     ]
    }
   ],
   "source": [
    "# 병목 모델\n",
    "model = models.Sequential()\n",
    "model.add(layers.Dense(64, activation='relu', input_shape=(10000,)))\n",
    "model.add(layers.Dense(4, activation='relu')) # 작은 중간층 -> 손실된 정보 많아짐\n",
    "model.add(layers.Dense(46, activation='softmax')) \n",
    "\n",
    "model.compile(optimizer='rmsprop',\n",
    "             loss= 'categorical_crossentropy',\n",
    "             metrics= ['accuracy'])\n",
    "\n",
    "model.fit(partial_x_train,\n",
    "          partial_y_train,\n",
    "          epochs=20,\n",
    "          batch_size=512,\n",
    "          validation_data=(x_val, y_val))\n",
    "\n",
    "results = model.evaluate(x_test, one_hot_test_labels)\n",
    "print(results)"
   ]
  },
  {
   "cell_type": "code",
   "execution_count": null,
   "id": "0f995740",
   "metadata": {},
   "outputs": [],
   "source": []
  }
 ],
 "metadata": {
  "kernelspec": {
   "display_name": "Python 3 (ipykernel)",
   "language": "python",
   "name": "python3"
  },
  "language_info": {
   "codemirror_mode": {
    "name": "ipython",
    "version": 3
   },
   "file_extension": ".py",
   "mimetype": "text/x-python",
   "name": "python",
   "nbconvert_exporter": "python",
   "pygments_lexer": "ipython3",
   "version": "3.8.12"
  }
 },
 "nbformat": 4,
 "nbformat_minor": 5
}
