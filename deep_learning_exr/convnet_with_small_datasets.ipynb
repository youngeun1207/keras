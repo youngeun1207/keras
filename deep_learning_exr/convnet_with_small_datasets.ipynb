{
 "cells": [
  {
   "cell_type": "code",
   "execution_count": 1,
   "id": "6adeeb03",
   "metadata": {},
   "outputs": [],
   "source": [
    "import os, shutil\n",
    "\n",
    "# 원본 데이터셋을 압축 해제한 디렉터리 경로\n",
    "original_dataset_dir = '../datasets/cats_and_dogs/train'\n",
    "\n",
    "# 소규모 데이터셋을 저장할 디렉터리\n",
    "base_dir = '../datasets/cats_and_dogs_small'\n",
    "if os.path.exists(base_dir):\n",
    "    shutil.rmtree(base_dir)   \n",
    "os.mkdir(base_dir)\n",
    "\n",
    "# 훈련, 검증, 테스트 분할을 위한 디렉터리\n",
    "train_dir = os.path.join(base_dir, 'train')\n",
    "os.mkdir(train_dir)\n",
    "validation_dir = os.path.join(base_dir, 'validation')\n",
    "os.mkdir(validation_dir)\n",
    "test_dir = os.path.join(base_dir, 'test')\n",
    "os.mkdir(test_dir)\n",
    "\n",
    "# 훈련용 고양이 사진 디렉터리\n",
    "train_cats_dir = os.path.join(train_dir, 'cats')\n",
    "os.mkdir(train_cats_dir)\n",
    "\n",
    "# 훈련용 강아지 사진 디렉터리\n",
    "train_dogs_dir = os.path.join(train_dir, 'dogs')\n",
    "os.mkdir(train_dogs_dir)\n",
    "\n",
    "# 검증용 고양이 사진 디렉터리\n",
    "validation_cats_dir = os.path.join(validation_dir, 'cats')\n",
    "os.mkdir(validation_cats_dir)\n",
    "\n",
    "# 검증용 강아지 사진 디렉터리\n",
    "validation_dogs_dir = os.path.join(validation_dir, 'dogs')\n",
    "os.mkdir(validation_dogs_dir)\n",
    "\n",
    "# 테스트용 고양이 사진 디렉터리\n",
    "test_cats_dir = os.path.join(test_dir, 'cats')\n",
    "os.mkdir(test_cats_dir)\n",
    "\n",
    "# 테스트용 강아지 사진 디렉터리\n",
    "test_dogs_dir = os.path.join(test_dir, 'dogs')\n",
    "os.mkdir(test_dogs_dir)\n",
    "\n",
    "# 처음 1,000개의 고양이 이미지를 train_cats_dir에 복사\n",
    "fnames = ['cat.{}.jpg'.format(i) for i in range(1000)]\n",
    "for fname in fnames:\n",
    "    src = os.path.join(original_dataset_dir, fname)\n",
    "    dst = os.path.join(train_cats_dir, fname)\n",
    "    shutil.copyfile(src, dst)\n",
    "\n",
    "# 다음 500개 고양이 이미지를 validation_cats_dir에 복사\n",
    "fnames = ['cat.{}.jpg'.format(i) for i in range(1000, 1500)]\n",
    "for fname in fnames:\n",
    "    src = os.path.join(original_dataset_dir, fname)\n",
    "    dst = os.path.join(validation_cats_dir, fname)\n",
    "    shutil.copyfile(src, dst)\n",
    "    \n",
    "# 다음 500개 고양이 이미지를 test_cats_dir에 복사\n",
    "fnames = ['cat.{}.jpg'.format(i) for i in range(1500, 2000)]\n",
    "for fname in fnames:\n",
    "    src = os.path.join(original_dataset_dir, fname)\n",
    "    dst = os.path.join(test_cats_dir, fname)\n",
    "    shutil.copyfile(src, dst)\n",
    "    \n",
    "# 처음 1,000개의 강아지 이미지를 train_dogs_dir에 복사\n",
    "fnames = ['dog.{}.jpg'.format(i) for i in range(1000)]\n",
    "for fname in fnames:\n",
    "    src = os.path.join(original_dataset_dir, fname)\n",
    "    dst = os.path.join(train_dogs_dir, fname)\n",
    "    shutil.copyfile(src, dst)\n",
    "    \n",
    "# 다음 500개 강아지 이미지를 validation_dogs_dir에 복사\n",
    "fnames = ['dog.{}.jpg'.format(i) for i in range(1000, 1500)]\n",
    "for fname in fnames:\n",
    "    src = os.path.join(original_dataset_dir, fname)\n",
    "    dst = os.path.join(validation_dogs_dir, fname)\n",
    "    shutil.copyfile(src, dst)\n",
    "    \n",
    "# 다음 500개 강아지 이미지를 test_dogs_dir에 복사\n",
    "fnames = ['dog.{}.jpg'.format(i) for i in range(1500, 2000)]\n",
    "for fname in fnames:\n",
    "    src = os.path.join(original_dataset_dir, fname)\n",
    "    dst = os.path.join(test_dogs_dir, fname)\n",
    "    shutil.copyfile(src, dst)"
   ]
  },
  {
   "cell_type": "code",
   "execution_count": 2,
   "id": "6c4d10eb",
   "metadata": {},
   "outputs": [
    {
     "name": "stdout",
     "output_type": "stream",
     "text": [
      "훈련용 고양이 이미지 전체 개수: 1000\n",
      "훈련용 강아지 이미지 전체 개수: 1000\n",
      "검증용 고양이 이미지 전체 개수: 500\n",
      "검증용 강아지 이미지 전체 개수: 500\n",
      "테스트용 고양이 이미지 전체 개수: 500\n",
      "테스트용 강아지 이미지 전체 개수: 500\n"
     ]
    }
   ],
   "source": [
    "print('훈련용 고양이 이미지 전체 개수:', len(os.listdir(train_cats_dir)))\n",
    "print('훈련용 강아지 이미지 전체 개수:', len(os.listdir(train_dogs_dir)))\n",
    "print('검증용 고양이 이미지 전체 개수:', len(os.listdir(validation_cats_dir)))\n",
    "print('검증용 강아지 이미지 전체 개수:', len(os.listdir(validation_dogs_dir)))\n",
    "print('테스트용 고양이 이미지 전체 개수:', len(os.listdir(test_cats_dir)))\n",
    "print('테스트용 강아지 이미지 전체 개수:', len(os.listdir(test_dogs_dir)))"
   ]
  },
  {
   "cell_type": "code",
   "execution_count": 3,
   "id": "0228eddc",
   "metadata": {},
   "outputs": [
    {
     "name": "stdout",
     "output_type": "stream",
     "text": [
      "Metal device set to: Apple M1\n",
      "Model: \"sequential\"\n",
      "_________________________________________________________________\n",
      " Layer (type)                Output Shape              Param #   \n",
      "=================================================================\n",
      " conv2d (Conv2D)             (None, 148, 148, 32)      896       \n",
      "                                                                 \n",
      " max_pooling2d (MaxPooling2D  (None, 74, 74, 32)       0         \n",
      " )                                                               \n",
      "                                                                 \n",
      " conv2d_1 (Conv2D)           (None, 72, 72, 64)        18496     \n",
      "                                                                 \n",
      " max_pooling2d_1 (MaxPooling  (None, 36, 36, 64)       0         \n",
      " 2D)                                                             \n",
      "                                                                 \n",
      " conv2d_2 (Conv2D)           (None, 34, 34, 128)       73856     \n",
      "                                                                 \n",
      " max_pooling2d_2 (MaxPooling  (None, 17, 17, 128)      0         \n",
      " 2D)                                                             \n",
      "                                                                 \n",
      " conv2d_3 (Conv2D)           (None, 15, 15, 128)       147584    \n",
      "                                                                 \n",
      " max_pooling2d_3 (MaxPooling  (None, 7, 7, 128)        0         \n",
      " 2D)                                                             \n",
      "                                                                 \n",
      " flatten (Flatten)           (None, 6272)              0         \n",
      "                                                                 \n",
      " dense (Dense)               (None, 512)               3211776   \n",
      "                                                                 \n",
      " dense_1 (Dense)             (None, 1)                 513       \n",
      "                                                                 \n",
      "=================================================================\n",
      "Total params: 3,453,121\n",
      "Trainable params: 3,453,121\n",
      "Non-trainable params: 0\n",
      "_________________________________________________________________\n"
     ]
    },
    {
     "name": "stderr",
     "output_type": "stream",
     "text": [
      "2022-03-21 20:10:31.857393: I tensorflow/core/common_runtime/pluggable_device/pluggable_device_factory.cc:305] Could not identify NUMA node of platform GPU ID 0, defaulting to 0. Your kernel may not have been built with NUMA support.\n",
      "2022-03-21 20:10:31.857538: I tensorflow/core/common_runtime/pluggable_device/pluggable_device_factory.cc:271] Created TensorFlow device (/job:localhost/replica:0/task:0/device:GPU:0 with 0 MB memory) -> physical PluggableDevice (device: 0, name: METAL, pci bus id: <undefined>)\n"
     ]
    }
   ],
   "source": [
    "from keras import layers\n",
    "from keras import models\n",
    "\n",
    "model = models.Sequential()\n",
    "model.add(layers.Conv2D(32,(3,3), activation='relu',\n",
    "                       input_shape=(150,150,3)))\n",
    "model.add(layers.MaxPooling2D((2,2))) # 다운샘플링 -> 가중치 개수 줄이기 + 필터의 공간적 계층구조 만들기\n",
    "model.add(layers.Conv2D(64,(3,3), activation='relu'))\n",
    "model.add(layers.MaxPooling2D((2,2)))\n",
    "model.add(layers.Conv2D(128,(3,3), activation='relu'))\n",
    "model.add(layers.MaxPooling2D((2,2)))\n",
    "model.add(layers.Conv2D(128,(3,3), activation='relu'))\n",
    "model.add(layers.MaxPooling2D((2,2)))\n",
    "model.add(layers.Flatten())\n",
    "model.add(layers.Dense(512, activation='relu'))\n",
    "model.add(layers.Dense(1, activation='sigmoid')) # 이진분류이므로,, sigmoid + 유닛 1개\n",
    "\n",
    "model.summary()"
   ]
  },
  {
   "cell_type": "code",
   "execution_count": 4,
   "id": "e2760741",
   "metadata": {},
   "outputs": [
    {
     "name": "stderr",
     "output_type": "stream",
     "text": [
      "/Users/youngeun/miniforge3/envs/venv/lib/python3.8/site-packages/keras/optimizer_v2/rmsprop.py:130: UserWarning: The `lr` argument is deprecated, use `learning_rate` instead.\n",
      "  super(RMSprop, self).__init__(name, **kwargs)\n"
     ]
    }
   ],
   "source": [
    "from tensorflow.keras import optimizers\n",
    "# 출력층이 1유닛 sigmoid이므로 손실함수: 이진 크로스엔트로피\n",
    "model.compile(loss='binary_crossentropy',\n",
    "              optimizer=optimizers.RMSprop(lr=1e-4),\n",
    "              metrics=['acc'])"
   ]
  },
  {
   "cell_type": "code",
   "execution_count": 5,
   "id": "d8a6f6dd",
   "metadata": {},
   "outputs": [
    {
     "name": "stdout",
     "output_type": "stream",
     "text": [
      "Found 2000 images belonging to 2 classes.\n",
      "Found 1000 images belonging to 2 classes.\n"
     ]
    }
   ],
   "source": [
    "# ImageDataGenerator 사용해 디렉토리에서 이미지 읽기\n",
    "# 네트워크에 이미지 주입하기 위해 데이터 전처리\n",
    "from keras.preprocessing.image import ImageDataGenerator\n",
    "# 모든 이미지를 1/225로 스케일 조정\n",
    "train_datagen = ImageDataGenerator(rescale=1./255)\n",
    "test_datagen = ImageDataGenerator(rescale=1./255)\n",
    "\n",
    "train_generator = train_datagen.flow_from_directory(\n",
    "        train_dir, # 타깃 디렉토리\n",
    "        target_size=(150,150), # 모든 이미지 크기를 150*150으로\n",
    "        batch_size=20, \n",
    "        class_mode='binary') # binary_crossentropy loss함수 사용하기 때문에 이진 레이블\n",
    "\n",
    "validation_generator = test_datagen.flow_from_directory(\n",
    "        validation_dir, \n",
    "        target_size=(150,150),\n",
    "        batch_size=20, \n",
    "        class_mode='binary')"
   ]
  },
  {
   "cell_type": "code",
   "execution_count": 6,
   "id": "14eeaf94",
   "metadata": {},
   "outputs": [
    {
     "name": "stdout",
     "output_type": "stream",
     "text": [
      "배치 데이터 크기: (20, 150, 150, 3)\n",
      "배치 레이블 크기: (20,)\n"
     ]
    }
   ],
   "source": [
    "for data_batch, labels_batch in train_generator:\n",
    "    # 각 배치에는 20개의 샘플(배치크기)\n",
    "    print('배치 데이터 크기:', data_batch.shape) # 150*150 RGB 이미지 배치\n",
    "    print('배치 레이블 크기:', labels_batch.shape) # 이진 레이블 배치\n",
    "    break # 반복 루프 나와야함!"
   ]
  },
  {
   "cell_type": "code",
   "execution_count": 7,
   "id": "a0a74f90",
   "metadata": {},
   "outputs": [
    {
     "name": "stdout",
     "output_type": "stream",
     "text": [
      "Epoch 1/30\n"
     ]
    },
    {
     "name": "stderr",
     "output_type": "stream",
     "text": [
      "/var/folders/9_/z_nr8_hd32x51b1zx2flsn080000gn/T/ipykernel_16222/1636659114.py:2: UserWarning: `Model.fit_generator` is deprecated and will be removed in a future version. Please use `Model.fit`, which supports generators.\n",
      "  history = model.fit_generator(\n",
      "2022-03-21 20:21:11.930722: W tensorflow/core/platform/profile_utils/cpu_utils.cc:128] Failed to get CPU frequency: 0 Hz\n",
      "2022-03-21 20:21:12.336331: I tensorflow/core/grappler/optimizers/custom_graph_optimizer_registry.cc:113] Plugin optimizer for device_type GPU is enabled.\n"
     ]
    },
    {
     "name": "stdout",
     "output_type": "stream",
     "text": [
      "100/100 [==============================] - ETA: 0s - loss: 0.6800 - acc: 0.5605"
     ]
    },
    {
     "name": "stderr",
     "output_type": "stream",
     "text": [
      "2022-03-21 20:21:19.488193: I tensorflow/core/grappler/optimizers/custom_graph_optimizer_registry.cc:113] Plugin optimizer for device_type GPU is enabled.\n"
     ]
    },
    {
     "name": "stdout",
     "output_type": "stream",
     "text": [
      "100/100 [==============================] - 9s 72ms/step - loss: 0.6800 - acc: 0.5605 - val_loss: 0.6685 - val_acc: 0.5410\n",
      "Epoch 2/30\n",
      "100/100 [==============================] - 7s 69ms/step - loss: 0.6409 - acc: 0.6265 - val_loss: 0.6317 - val_acc: 0.6480\n",
      "Epoch 3/30\n",
      "100/100 [==============================] - 7s 68ms/step - loss: 0.5935 - acc: 0.6795 - val_loss: 0.6247 - val_acc: 0.6440\n",
      "Epoch 4/30\n",
      "100/100 [==============================] - 7s 69ms/step - loss: 0.5637 - acc: 0.6990 - val_loss: 0.6404 - val_acc: 0.6450\n",
      "Epoch 5/30\n",
      "100/100 [==============================] - 7s 69ms/step - loss: 0.5347 - acc: 0.7325 - val_loss: 0.6120 - val_acc: 0.6630\n",
      "Epoch 6/30\n",
      "100/100 [==============================] - 7s 69ms/step - loss: 0.5158 - acc: 0.7450 - val_loss: 0.5806 - val_acc: 0.6910\n",
      "Epoch 7/30\n",
      "100/100 [==============================] - 7s 69ms/step - loss: 0.4984 - acc: 0.7555 - val_loss: 0.5594 - val_acc: 0.7020\n",
      "Epoch 8/30\n",
      "100/100 [==============================] - 7s 69ms/step - loss: 0.4666 - acc: 0.7795 - val_loss: 0.6476 - val_acc: 0.6600\n",
      "Epoch 9/30\n",
      "100/100 [==============================] - 7s 71ms/step - loss: 0.4437 - acc: 0.8025 - val_loss: 0.5620 - val_acc: 0.7140\n",
      "Epoch 10/30\n",
      "100/100 [==============================] - 7s 71ms/step - loss: 0.4248 - acc: 0.7945 - val_loss: 0.5817 - val_acc: 0.7130\n",
      "Epoch 11/30\n",
      "100/100 [==============================] - 7s 69ms/step - loss: 0.3964 - acc: 0.8175 - val_loss: 0.6711 - val_acc: 0.6870\n",
      "Epoch 12/30\n",
      "100/100 [==============================] - 7s 68ms/step - loss: 0.3777 - acc: 0.8305 - val_loss: 0.5570 - val_acc: 0.7400\n",
      "Epoch 13/30\n",
      "100/100 [==============================] - 7s 69ms/step - loss: 0.3514 - acc: 0.8560 - val_loss: 0.5524 - val_acc: 0.7410\n",
      "Epoch 14/30\n",
      "100/100 [==============================] - 7s 69ms/step - loss: 0.3323 - acc: 0.8555 - val_loss: 0.6045 - val_acc: 0.7130\n",
      "Epoch 15/30\n",
      "100/100 [==============================] - 7s 69ms/step - loss: 0.3065 - acc: 0.8775 - val_loss: 0.6092 - val_acc: 0.7320\n",
      "Epoch 16/30\n",
      "100/100 [==============================] - 7s 70ms/step - loss: 0.2863 - acc: 0.8860 - val_loss: 0.5934 - val_acc: 0.7200\n",
      "Epoch 17/30\n",
      "100/100 [==============================] - 7s 69ms/step - loss: 0.2618 - acc: 0.8940 - val_loss: 0.5740 - val_acc: 0.7370\n",
      "Epoch 18/30\n",
      "100/100 [==============================] - 7s 68ms/step - loss: 0.2497 - acc: 0.9055 - val_loss: 0.5764 - val_acc: 0.7470\n",
      "Epoch 19/30\n",
      "100/100 [==============================] - 7s 69ms/step - loss: 0.2292 - acc: 0.9115 - val_loss: 0.5720 - val_acc: 0.7490\n",
      "Epoch 20/30\n",
      "100/100 [==============================] - 7s 69ms/step - loss: 0.2060 - acc: 0.9255 - val_loss: 0.6564 - val_acc: 0.7370\n",
      "Epoch 21/30\n",
      "100/100 [==============================] - 7s 69ms/step - loss: 0.1871 - acc: 0.9350 - val_loss: 0.6461 - val_acc: 0.7410\n",
      "Epoch 22/30\n",
      "100/100 [==============================] - 7s 69ms/step - loss: 0.1645 - acc: 0.9455 - val_loss: 0.6297 - val_acc: 0.7300\n",
      "Epoch 23/30\n",
      "100/100 [==============================] - 7s 70ms/step - loss: 0.1457 - acc: 0.9520 - val_loss: 0.7066 - val_acc: 0.7370\n",
      "Epoch 24/30\n",
      "100/100 [==============================] - 7s 69ms/step - loss: 0.1366 - acc: 0.9575 - val_loss: 0.6591 - val_acc: 0.7390\n",
      "Epoch 25/30\n",
      "100/100 [==============================] - 7s 72ms/step - loss: 0.1210 - acc: 0.9615 - val_loss: 0.8014 - val_acc: 0.7280\n",
      "Epoch 26/30\n",
      "100/100 [==============================] - 7s 73ms/step - loss: 0.1026 - acc: 0.9705 - val_loss: 0.7282 - val_acc: 0.7440\n",
      "Epoch 27/30\n",
      "100/100 [==============================] - 7s 73ms/step - loss: 0.0927 - acc: 0.9715 - val_loss: 0.8083 - val_acc: 0.7300\n",
      "Epoch 28/30\n",
      "100/100 [==============================] - 7s 70ms/step - loss: 0.0771 - acc: 0.9770 - val_loss: 0.8604 - val_acc: 0.7220\n",
      "Epoch 29/30\n",
      "100/100 [==============================] - 7s 71ms/step - loss: 0.0724 - acc: 0.9815 - val_loss: 0.8056 - val_acc: 0.7540\n",
      "Epoch 30/30\n",
      "100/100 [==============================] - 7s 70ms/step - loss: 0.0619 - acc: 0.9890 - val_loss: 0.9068 - val_acc: 0.7320\n"
     ]
    }
   ],
   "source": [
    "# 배치 제네레이터를 사용해 모델 훈련\n",
    "history = model.fit_generator(\n",
    "      train_generator,\n",
    "      # 하나의 에포크 정의하기 위해 제너레이터로부터 얼마나 많은 샘플 뽑을지 지정\n",
    "      steps_per_epoch=100, # 전체 훈련데이터 2,000개 / train_generator 배치 20개 = 100\n",
    "      epochs=30, \n",
    "      validation_data=validation_generator,\n",
    "      validation_steps=50) # 전체 검증데이터 1,000개 / validation_generator 배치 20개 = 50"
   ]
  },
  {
   "cell_type": "code",
   "execution_count": 8,
   "id": "b07f4307",
   "metadata": {},
   "outputs": [],
   "source": [
    "# 훈련 끝나면 모델 저장\n",
    "model.save('cats_and_dogs_small_1.h5')"
   ]
  },
  {
   "cell_type": "code",
   "execution_count": 9,
   "id": "ca2114b0",
   "metadata": {},
   "outputs": [
    {
     "data": {
      "image/png": "[encoded data removed]",
      "text/plain": [
       "<Figure size 432x288 with 1 Axes>"
      ]
     },
     "metadata": {
      "needs_background": "light"
     },
     "output_type": "display_data"
    },
    {
     "data": {
      "image/png": "[encoded data removed]",
      "text/plain": [
       "<Figure size 432x288 with 1 Axes>"
      ]
     },
     "metadata": {
      "needs_background": "light"
     },
     "output_type": "display_data"
    }
   ],
   "source": [
    "# 훈련 정확도 & 손실 그래프 그리기\n",
    "import matplotlib.pyplot as plt\n",
    "\n",
    "acc = history.history['acc']\n",
    "val_acc = history.history['val_acc']\n",
    "loss = history.history['loss']\n",
    "val_loss = history.history['val_loss']\n",
    "\n",
    "epochs = range(1, len(acc)+1)\n",
    "\n",
    "plt.plot(epochs, acc, 'bo', label='Training acc')\n",
    "plt.plot(epochs, val_acc, 'b', label='Validation acc')\n",
    "plt.title('Training and Validation accuracy')\n",
    "plt.legend()\n",
    "\n",
    "plt.figure()\n",
    "\n",
    "plt.plot(epochs, loss, 'bo', label='Training loss')\n",
    "plt.plot(epochs, val_loss, 'b', label='Validation loss')\n",
    "plt.title('Training and Validation loss')\n",
    "plt.legend()\n",
    "\n",
    "plt.show()"
   ]
  },
  {
   "cell_type": "code",
   "execution_count": null,
   "id": "aca2d2ac",
   "metadata": {},
   "outputs": [],
   "source": []
  }
 ],
 "metadata": {
  "kernelspec": {
   "display_name": "Python 3 (ipykernel)",
   "language": "python",
   "name": "python3"
  },
  "language_info": {
   "codemirror_mode": {
    "name": "ipython",
    "version": 3
   },
   "file_extension": ".py",
   "mimetype": "text/x-python",
   "name": "python",
   "nbconvert_exporter": "python",
   "pygments_lexer": "ipython3",
   "version": "3.8.12"
  }
 },
 "nbformat": 4,
 "nbformat_minor": 5
}
