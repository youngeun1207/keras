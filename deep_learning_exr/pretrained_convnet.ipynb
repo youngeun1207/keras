{
 "cells": [
  {
   "cell_type": "markdown",
   "id": "329f5a9d",
   "metadata": {},
   "source": [
    "# 사전 훈련된 컨브넷 사용하기\n",
    "\n",
    "ImageNet 데이터셋에 훈련된 VGG16 네트워크의 합성곱 기반층을 사용하여 강아지와 고양이 이미지에서 유용한 특성을 추출\n",
    "\n",
    "---\n",
    "## 특성 추출\n",
    "**사전에 학습**된 네트워크의 표현을 사용해 새로운 샘플에서 흥미로운 특성을 뽑아내는 것\n",
    "### 합성곱 층 재사용하기\n",
    "#### 합성곱 층에 의해 학습된 표현은 **일반적**이어서 **재사용** 가능하다!\n",
    "완전 연결 분류층은 모델이 훈련된 클래스 집합에 특화되어있으므로 합성곱 층만 재사용\n",
    "      \n",
    "      \n",
    "#### 층의 **깊이**에 따라 층에서 추출한 표현의 일반성(그리고 재사용성)의 수준이 다르다!\n",
    "* 모델의 **하위 층**은 (에지, 색깔, 질감 등과 같이) 지역적이고 매우 **일반적**인 특성 맵을 추출\n",
    "* **상위 층**은 ('강아지 눈'이나 '고양이 귀'와 같이) 좀 더 **추상적**인 개념을 추출 \n",
    "* 만약 새로운 데이터셋이 원본 모델이 훈련한 데이터셋과 많이 다르면 전체 합성곱 기반층을 사용하는 것보다는 모델의 하위 층 몇 개만 특성 추출에 사용하는 것이 좋음.\n",
    "    \n",
    "    \n",
    "---\n",
    "    \n",
    "## VGG16 합성곱 기반 층 만들기\n",
    "**weight:** 모델 초기화할 가중치 체크포인트 지정  \n",
    "**include_top:** 최상위의 완전 연결 분류기 포함 여부  \n",
    "**input_shape:** 네트워크에 주입할 이미지 텐서 크기"
   ]
  },
  {
   "cell_type": "code",
   "execution_count": 1,
   "id": "9b54ce26",
   "metadata": {},
   "outputs": [
    {
     "name": "stderr",
     "output_type": "stream",
     "text": [
      "2022-03-22 22:15:26.772924: I tensorflow/core/common_runtime/pluggable_device/pluggable_device_factory.cc:305] Could not identify NUMA node of platform GPU ID 0, defaulting to 0. Your kernel may not have been built with NUMA support.\n",
      "2022-03-22 22:15:26.773013: I tensorflow/core/common_runtime/pluggable_device/pluggable_device_factory.cc:271] Created TensorFlow device (/job:localhost/replica:0/task:0/device:GPU:0 with 0 MB memory) -> physical PluggableDevice (device: 0, name: METAL, pci bus id: <undefined>)\n"
     ]
    },
    {
     "name": "stdout",
     "output_type": "stream",
     "text": [
      "Metal device set to: Apple M1\n",
      "Model: \"vgg16\"\n",
      "_________________________________________________________________\n",
      " Layer (type)                Output Shape              Param #   \n",
      "=================================================================\n",
      " input_1 (InputLayer)        [(None, 150, 150, 3)]     0         \n",
      "                                                                 \n",
      " block1_conv1 (Conv2D)       (None, 150, 150, 64)      1792      \n",
      "                                                                 \n",
      " block1_conv2 (Conv2D)       (None, 150, 150, 64)      36928     \n",
      "                                                                 \n",
      " block1_pool (MaxPooling2D)  (None, 75, 75, 64)        0         \n",
      "                                                                 \n",
      " block2_conv1 (Conv2D)       (None, 75, 75, 128)       73856     \n",
      "                                                                 \n",
      " block2_conv2 (Conv2D)       (None, 75, 75, 128)       147584    \n",
      "                                                                 \n",
      " block2_pool (MaxPooling2D)  (None, 37, 37, 128)       0         \n",
      "                                                                 \n",
      " block3_conv1 (Conv2D)       (None, 37, 37, 256)       295168    \n",
      "                                                                 \n",
      " block3_conv2 (Conv2D)       (None, 37, 37, 256)       590080    \n",
      "                                                                 \n",
      " block3_conv3 (Conv2D)       (None, 37, 37, 256)       590080    \n",
      "                                                                 \n",
      " block3_pool (MaxPooling2D)  (None, 18, 18, 256)       0         \n",
      "                                                                 \n",
      " block4_conv1 (Conv2D)       (None, 18, 18, 512)       1180160   \n",
      "                                                                 \n",
      " block4_conv2 (Conv2D)       (None, 18, 18, 512)       2359808   \n",
      "                                                                 \n",
      " block4_conv3 (Conv2D)       (None, 18, 18, 512)       2359808   \n",
      "                                                                 \n",
      " block4_pool (MaxPooling2D)  (None, 9, 9, 512)         0         \n",
      "                                                                 \n",
      " block5_conv1 (Conv2D)       (None, 9, 9, 512)         2359808   \n",
      "                                                                 \n",
      " block5_conv2 (Conv2D)       (None, 9, 9, 512)         2359808   \n",
      "                                                                 \n",
      " block5_conv3 (Conv2D)       (None, 9, 9, 512)         2359808   \n",
      "                                                                 \n",
      " block5_pool (MaxPooling2D)  (None, 4, 4, 512)         0         \n",
      "                                                                 \n",
      "=================================================================\n",
      "Total params: 14,714,688\n",
      "Trainable params: 14,714,688\n",
      "Non-trainable params: 0\n",
      "_________________________________________________________________\n"
     ]
    }
   ],
   "source": [
    "from tensorflow.keras.applications import VGG16\n",
    "\n",
    "conv_base = VGG16(weights='imagenet', \n",
    "                 include_top= False, \n",
    "                 input_shape=(150, 150, 3)) \n",
    "\n",
    "conv_base.summary()"
   ]
  },
  {
   "cell_type": "markdown",
   "id": "4235b8f8",
   "metadata": {},
   "source": [
    "## case 1. 새로운 데이터셋에서 합성곱 기반 층 실행 후 출력 -> 독립된 완전 연결 분류기에 입력\n",
    "사전 훈련된 합성곱 기반 층을 사용한 특성 추출: ImageDataGenerator를 사용해 이미지와 레이블을 넘파이 배열로 추출 (디스크에 저장)\n",
    "    \n",
    "* 빠르고 cost 적음\n",
    "* 데이터 증식 사용 불가\n",
    "\n",
    "```python\n",
    "features_batch = conv_base.predict(inputs_batch) \n",
    "```\n",
    "conv_base 모델의 predict 메소드를 호출해 이미지 특성 추출하기\n",
    "\n",
    "\n",
    "```python\n",
    "if i * batch_size >= sample_count:\n",
    "    break\n",
    "```\n",
    "제너레이터는 루프 안에서 무한하게 데이터를 만들어내므로 모든 이미지를 한 번씩 처리하고 나면 중지"
   ]
  },
  {
   "cell_type": "code",
   "execution_count": 2,
   "id": "fe0d2f6a",
   "metadata": {},
   "outputs": [
    {
     "name": "stdout",
     "output_type": "stream",
     "text": [
      "Found 2000 images belonging to 2 classes.\n"
     ]
    },
    {
     "name": "stderr",
     "output_type": "stream",
     "text": [
      "2022-03-22 22:15:27.157989: W tensorflow/core/platform/profile_utils/cpu_utils.cc:128] Failed to get CPU frequency: 0 Hz\n",
      "2022-03-22 22:15:27.209147: I tensorflow/core/grappler/optimizers/custom_graph_optimizer_registry.cc:113] Plugin optimizer for device_type GPU is enabled.\n"
     ]
    },
    {
     "name": "stdout",
     "output_type": "stream",
     "text": [
      "Found 1000 images belonging to 2 classes.\n",
      "Found 1000 images belonging to 2 classes.\n"
     ]
    }
   ],
   "source": [
    "import os\n",
    "import numpy as np\n",
    "from keras.preprocessing.image import ImageDataGenerator\n",
    "\n",
    "base_dir = '../datasets/cats_and_dogs_small'\n",
    "train_dir = os.path.join(base_dir, 'train')\n",
    "validation_dir = os.path.join(base_dir, 'validation')\n",
    "test_dir = os.path.join(base_dir, 'test')\n",
    "\n",
    "datagen = ImageDataGenerator(rescale=1./255)\n",
    "batch_size = 20\n",
    "\n",
    "def extract_features(directory, sample_count):\n",
    "    features = np.zeros(shape=(sample_count, 4, 4, 512))\n",
    "    labels = np.zeros(shape=(sample_count))\n",
    "    generator = datagen.flow_from_directory(\n",
    "        directory,\n",
    "        target_size=(150, 150),\n",
    "        batch_size=batch_size,\n",
    "        class_mode='binary')\n",
    "    i = 0\n",
    "    for inputs_batch, labels_batch in generator:\n",
    "        features_batch = conv_base.predict(inputs_batch)\n",
    "        features[i * batch_size : (i + 1) * batch_size] = features_batch\n",
    "        labels[i * batch_size : (i + 1) * batch_size] = labels_batch\n",
    "        i += 1\n",
    "        if i * batch_size >= sample_count:\n",
    "            break\n",
    "    return features, labels\n",
    "\n",
    "train_features, train_labels = extract_features(train_dir, 2000)\n",
    "validation_features, validation_labels = extract_features(validation_dir, 1000)\n",
    "test_features, test_labels = extract_features(test_dir, 1000)"
   ]
  },
  {
   "cell_type": "markdown",
   "id": "d433ddd6",
   "metadata": {},
   "source": [
    "추출된 특성의 크기: (samples, 4, 4, 512)  \n",
    "완전 연결 분류기에 주입하기 위해 (samples, 8192) 크기로 펼치기"
   ]
  },
  {
   "cell_type": "code",
   "execution_count": 3,
   "id": "b152347e",
   "metadata": {},
   "outputs": [],
   "source": [
    "train_features = np.reshape(train_features, (2000, 4 * 4 * 512))\n",
    "validation_features = np.reshape(validation_features, (1000, 4 * 4 * 512))\n",
    "test_features = np.reshape(test_features, (1000, 4 * 4 * 512))"
   ]
  },
  {
   "cell_type": "markdown",
   "id": "128edd16",
   "metadata": {},
   "source": [
    "### 완전 연결 분류기 정의 후 저장된 데이터와 레이블을 사용해 훈련\n",
    "```python\n",
    "model.add(layers.Dropout(0.5))\n",
    "```\n",
    "드롭아웃 층 추가하여 과대적합 방지"
   ]
  },
  {
   "cell_type": "code",
   "execution_count": 4,
   "id": "8ca588aa",
   "metadata": {},
   "outputs": [
    {
     "name": "stdout",
     "output_type": "stream",
     "text": [
      "Epoch 1/30\n"
     ]
    },
    {
     "name": "stderr",
     "output_type": "stream",
     "text": [
      "/Users/youngeun/miniforge3/envs/venv/lib/python3.8/site-packages/keras/optimizer_v2/rmsprop.py:130: UserWarning: The `lr` argument is deprecated, use `learning_rate` instead.\n",
      "  super(RMSprop, self).__init__(name, **kwargs)\n",
      "2022-03-22 22:16:12.604793: I tensorflow/core/grappler/optimizers/custom_graph_optimizer_registry.cc:113] Plugin optimizer for device_type GPU is enabled.\n"
     ]
    },
    {
     "name": "stdout",
     "output_type": "stream",
     "text": [
      "100/100 [==============================] - 1s 10ms/step - loss: 0.5855 - acc: 0.6810 - val_loss: 0.4532 - val_acc: 0.8150\n",
      "Epoch 2/30\n",
      "  1/100 [..............................] - ETA: 0s - loss: 0.2739 - acc: 0.9000"
     ]
    },
    {
     "name": "stderr",
     "output_type": "stream",
     "text": [
      "2022-03-22 22:16:13.526036: I tensorflow/core/grappler/optimizers/custom_graph_optimizer_registry.cc:113] Plugin optimizer for device_type GPU is enabled.\n"
     ]
    },
    {
     "name": "stdout",
     "output_type": "stream",
     "text": [
      "100/100 [==============================] - 1s 9ms/step - loss: 0.3981 - acc: 0.8360 - val_loss: 0.3728 - val_acc: 0.8400\n",
      "Epoch 3/30\n",
      "100/100 [==============================] - 1s 9ms/step - loss: 0.3270 - acc: 0.8745 - val_loss: 0.3201 - val_acc: 0.8870\n",
      "Epoch 4/30\n",
      "100/100 [==============================] - 1s 9ms/step - loss: 0.2884 - acc: 0.8815 - val_loss: 0.2959 - val_acc: 0.8860\n",
      "Epoch 5/30\n",
      "100/100 [==============================] - 1s 9ms/step - loss: 0.2570 - acc: 0.9020 - val_loss: 0.2809 - val_acc: 0.8890\n",
      "Epoch 6/30\n",
      "100/100 [==============================] - 1s 9ms/step - loss: 0.2421 - acc: 0.9075 - val_loss: 0.2699 - val_acc: 0.8920\n",
      "Epoch 7/30\n",
      "100/100 [==============================] - 1s 9ms/step - loss: 0.2233 - acc: 0.9165 - val_loss: 0.2628 - val_acc: 0.8940\n",
      "Epoch 8/30\n",
      "100/100 [==============================] - 1s 9ms/step - loss: 0.2109 - acc: 0.9200 - val_loss: 0.2638 - val_acc: 0.8910\n",
      "Epoch 9/30\n",
      "100/100 [==============================] - 1s 8ms/step - loss: 0.1968 - acc: 0.9295 - val_loss: 0.2516 - val_acc: 0.9030\n",
      "Epoch 10/30\n",
      "100/100 [==============================] - 1s 9ms/step - loss: 0.1842 - acc: 0.9330 - val_loss: 0.2467 - val_acc: 0.9010\n",
      "Epoch 11/30\n",
      "100/100 [==============================] - 1s 9ms/step - loss: 0.1701 - acc: 0.9420 - val_loss: 0.2436 - val_acc: 0.9020\n",
      "Epoch 12/30\n",
      "100/100 [==============================] - 1s 9ms/step - loss: 0.1653 - acc: 0.9385 - val_loss: 0.2417 - val_acc: 0.9030\n",
      "Epoch 13/30\n",
      "100/100 [==============================] - 1s 9ms/step - loss: 0.1493 - acc: 0.9525 - val_loss: 0.2638 - val_acc: 0.8860\n",
      "Epoch 14/30\n",
      "100/100 [==============================] - 1s 9ms/step - loss: 0.1509 - acc: 0.9500 - val_loss: 0.2393 - val_acc: 0.9050\n",
      "Epoch 15/30\n",
      "100/100 [==============================] - 1s 9ms/step - loss: 0.1407 - acc: 0.9555 - val_loss: 0.2445 - val_acc: 0.8990\n",
      "Epoch 16/30\n",
      "100/100 [==============================] - 1s 9ms/step - loss: 0.1372 - acc: 0.9535 - val_loss: 0.2490 - val_acc: 0.8920\n",
      "Epoch 17/30\n",
      "100/100 [==============================] - 1s 9ms/step - loss: 0.1290 - acc: 0.9545 - val_loss: 0.2370 - val_acc: 0.9050\n",
      "Epoch 18/30\n",
      "100/100 [==============================] - 1s 9ms/step - loss: 0.1225 - acc: 0.9640 - val_loss: 0.2602 - val_acc: 0.8920\n",
      "Epoch 19/30\n",
      "100/100 [==============================] - 1s 9ms/step - loss: 0.1134 - acc: 0.9680 - val_loss: 0.2410 - val_acc: 0.9000\n",
      "Epoch 20/30\n",
      "100/100 [==============================] - 1s 9ms/step - loss: 0.1123 - acc: 0.9635 - val_loss: 0.2407 - val_acc: 0.9020\n",
      "Epoch 21/30\n",
      "100/100 [==============================] - 1s 9ms/step - loss: 0.1068 - acc: 0.9700 - val_loss: 0.2401 - val_acc: 0.9000\n",
      "Epoch 22/30\n",
      "100/100 [==============================] - 1s 9ms/step - loss: 0.1008 - acc: 0.9700 - val_loss: 0.2405 - val_acc: 0.9050\n",
      "Epoch 23/30\n",
      "100/100 [==============================] - 1s 8ms/step - loss: 0.0996 - acc: 0.9710 - val_loss: 0.2385 - val_acc: 0.9020\n",
      "Epoch 24/30\n",
      "100/100 [==============================] - 1s 9ms/step - loss: 0.0913 - acc: 0.9740 - val_loss: 0.2538 - val_acc: 0.8920\n",
      "Epoch 25/30\n",
      "100/100 [==============================] - 1s 9ms/step - loss: 0.0912 - acc: 0.9760 - val_loss: 0.2423 - val_acc: 0.8990\n",
      "Epoch 26/30\n",
      "100/100 [==============================] - 1s 9ms/step - loss: 0.0851 - acc: 0.9750 - val_loss: 0.2464 - val_acc: 0.8970\n",
      "Epoch 27/30\n",
      "100/100 [==============================] - 1s 9ms/step - loss: 0.0817 - acc: 0.9760 - val_loss: 0.2519 - val_acc: 0.8940\n",
      "Epoch 28/30\n",
      "100/100 [==============================] - 1s 9ms/step - loss: 0.0786 - acc: 0.9805 - val_loss: 0.2480 - val_acc: 0.8960\n",
      "Epoch 29/30\n",
      "100/100 [==============================] - 1s 8ms/step - loss: 0.0747 - acc: 0.9810 - val_loss: 0.2453 - val_acc: 0.8970\n",
      "Epoch 30/30\n",
      "100/100 [==============================] - 1s 9ms/step - loss: 0.0733 - acc: 0.9805 - val_loss: 0.2454 - val_acc: 0.9000\n"
     ]
    }
   ],
   "source": [
    "from keras import models\n",
    "from keras import layers\n",
    "from tensorflow.keras import optimizers\n",
    "\n",
    "model = models.Sequential()\n",
    "model.add(layers.Dense(256, activation='relu', input_dim=4 * 4 * 512))\n",
    "model.add(layers.Dropout(0.5))\n",
    "model.add(layers.Dense(1, activation='sigmoid'))\n",
    "\n",
    "model.compile(optimizer=optimizers.RMSprop(lr=2e-5),\n",
    "              loss='binary_crossentropy', # Dog vs Cat -> 이진분류\n",
    "              metrics=['acc'])\n",
    "\n",
    "history = model.fit(train_features, train_labels,\n",
    "                    epochs=30,\n",
    "                    batch_size=20,\n",
    "                    validation_data=(validation_features, validation_labels))"
   ]
  },
  {
   "cell_type": "markdown",
   "id": "4a1e6b5d",
   "metadata": {},
   "source": [
    "그래프 그리기:"
   ]
  },
  {
   "cell_type": "code",
   "execution_count": 5,
   "id": "63118629",
   "metadata": {
    "scrolled": true
   },
   "outputs": [
    {
     "data": {
      "image/png": "[encoded data removed]",
      "text/plain": [
       "<Figure size 432x288 with 1 Axes>"
      ]
     },
     "metadata": {
      "needs_background": "light"
     },
     "output_type": "display_data"
    },
    {
     "data": {
      "image/png": "[encoded data removed]",
      "text/plain": [
       "<Figure size 432x288 with 1 Axes>"
      ]
     },
     "metadata": {
      "needs_background": "light"
     },
     "output_type": "display_data"
    }
   ],
   "source": [
    "import matplotlib.pyplot as plt\n",
    "\n",
    "acc = history.history['acc']\n",
    "val_acc = history.history['val_acc']\n",
    "loss = history.history['loss']\n",
    "val_loss = history.history['val_loss']\n",
    "\n",
    "epochs = range(len(acc))\n",
    "\n",
    "plt.plot(epochs, acc, 'bo', label='Training acc')\n",
    "plt.plot(epochs, val_acc, 'b', label='Validation acc')\n",
    "plt.title('Training and validation accuracy')\n",
    "plt.legend()\n",
    "\n",
    "plt.figure()\n",
    "\n",
    "plt.plot(epochs, loss, 'bo', label='Training loss')\n",
    "plt.plot(epochs, val_loss, 'b', label='Validation loss')\n",
    "plt.title('Training and validation loss')\n",
    "plt.legend()\n",
    "\n",
    "plt.show()"
   ]
  },
  {
   "cell_type": "markdown",
   "id": "c2a035ad",
   "metadata": {},
   "source": [
    "90%의 검증 정확도에 도달하였으나 과대적합 문제 발생! -> **데이터 증식** 사용할 필요가 있다."
   ]
  },
  {
   "cell_type": "markdown",
   "id": "66e704ee",
   "metadata": {},
   "source": [
    "---\n",
    "## case 2. conv_base 모델을 확장하고 입력 데이터를 사용해 end-to-end 로 실행\n",
    "합성곱 기반 층 위에 완전 연결 분류기 추가\n",
    "    \n",
    "* 매우 느림.. GPU 가속 사용할 것\n",
    "* **데이터 증식 사용 가능함!**"
   ]
  },
  {
   "cell_type": "code",
   "execution_count": 6,
   "id": "f0100f88",
   "metadata": {},
   "outputs": [
    {
     "name": "stdout",
     "output_type": "stream",
     "text": [
      "Model: \"sequential_1\"\n",
      "_________________________________________________________________\n",
      " Layer (type)                Output Shape              Param #   \n",
      "=================================================================\n",
      " vgg16 (Functional)          (None, 4, 4, 512)         14714688  \n",
      "                                                                 \n",
      " flatten (Flatten)           (None, 8192)              0         \n",
      "                                                                 \n",
      " dense_2 (Dense)             (None, 256)               2097408   \n",
      "                                                                 \n",
      " dense_3 (Dense)             (None, 1)                 257       \n",
      "                                                                 \n",
      "=================================================================\n",
      "Total params: 16,812,353\n",
      "Trainable params: 16,812,353\n",
      "Non-trainable params: 0\n",
      "_________________________________________________________________\n"
     ]
    }
   ],
   "source": [
    "from keras import models\n",
    "from keras import layers\n",
    "\n",
    "model = models.Sequential()\n",
    "model.add(conv_base)\n",
    "\n",
    "model.add(layers.Flatten())\n",
    "model.add(layers.Dense(256, activation='relu'))\n",
    "model.add(layers.Dense(1, activation='sigmoid'))\n",
    "\n",
    "model.summary()"
   ]
  },
  {
   "cell_type": "markdown",
   "id": "692c9904",
   "metadata": {},
   "source": [
    "### 모델 컴파일 & 훈련 전에 합성곱 기반 층 동결\n",
    "**동결:** 훈련하는 동안 가중치가 업데이트되지 않도록 막기(합성곱 기반층에 의해 사전에 학습된 표현이 훈련하는 동안 수정되지 않도록)\n",
    "\n",
    "``` python\n",
    "conv_base.trainable = False\n",
    "```\n",
    "두 개의 Dense 층의 가중치만 훈련하도록 동결하기  \n",
    "trainable 변경 후에 반드시 모델 컴파일!\n",
    "    "
   ]
  },
  {
   "cell_type": "code",
   "execution_count": 7,
   "id": "c1d0bc40",
   "metadata": {},
   "outputs": [
    {
     "name": "stdout",
     "output_type": "stream",
     "text": [
      "conv_base를 동결하기 전 훈련되는 가중치의 수: 30\n",
      "conv_base를 동결한 후 훈련되는 가중치의 수: 4\n"
     ]
    }
   ],
   "source": [
    "print('conv_base를 동결하기 전 훈련되는 가중치의 수:', \n",
    "      len(model.trainable_weights))\n",
    "\n",
    "conv_base.trainable = False\n",
    "\n",
    "print('conv_base를 동결한 후 훈련되는 가중치의 수:', \n",
    "      len(model.trainable_weights))"
   ]
  },
  {
   "cell_type": "markdown",
   "id": "7b574865",
   "metadata": {},
   "source": [
    "### 동결된 합성곱 기반 층과 함께 모델 엔드-투-엔드로 훈련\n",
    "train_data **데이터 증식**하여 훈련하기\n",
    "*단 검증 데이터는 증식하면 안됨!!*\n",
    "``` python\n",
    "train_generator = train_datagen.flow_from_directory(\n",
    "        train_dir,\n",
    "        target_size=(150, 150),\n",
    "        batch_size=20,\n",
    "        class_mode='binary')\n",
    "```\n",
    "**train_dir:** 타깃 디렉토리  \n",
    "**target_size=(150, 150):** 모든 이미지의 크기를 150 × 150로 변경  \n",
    "**class_mode='binary':** binary_crossentropy 손실을 사용하므로 이진 레이블 필요  "
   ]
  },
  {
   "cell_type": "code",
   "execution_count": 8,
   "id": "3a2d9976",
   "metadata": {},
   "outputs": [
    {
     "name": "stdout",
     "output_type": "stream",
     "text": [
      "Found 2000 images belonging to 2 classes.\n",
      "Found 1000 images belonging to 2 classes.\n",
      "Epoch 1/30\n"
     ]
    },
    {
     "name": "stderr",
     "output_type": "stream",
     "text": [
      "/Users/youngeun/miniforge3/envs/venv/lib/python3.8/site-packages/keras/optimizer_v2/rmsprop.py:130: UserWarning: The `lr` argument is deprecated, use `learning_rate` instead.\n",
      "  super(RMSprop, self).__init__(name, **kwargs)\n",
      "/var/folders/9_/z_nr8_hd32x51b1zx2flsn080000gn/T/ipykernel_18712/2312850710.py:31: UserWarning: `Model.fit_generator` is deprecated and will be removed in a future version. Please use `Model.fit`, which supports generators.\n",
      "  history = model.fit_generator(\n",
      "2022-03-22 22:16:39.681574: I tensorflow/core/grappler/optimizers/custom_graph_optimizer_registry.cc:113] Plugin optimizer for device_type GPU is enabled.\n",
      "2022-03-22 22:16:55.943362: I tensorflow/core/grappler/optimizers/custom_graph_optimizer_registry.cc:113] Plugin optimizer for device_type GPU is enabled.\n"
     ]
    },
    {
     "name": "stdout",
     "output_type": "stream",
     "text": [
      "100/100 - 24s - loss: 0.5515 - acc: 0.7285 - val_loss: 0.4304 - val_acc: 0.8280 - 24s/epoch - 243ms/step\n",
      "Epoch 2/30\n",
      "100/100 - 23s - loss: 0.4151 - acc: 0.8210 - val_loss: 0.3516 - val_acc: 0.8640 - 23s/epoch - 234ms/step\n",
      "Epoch 3/30\n",
      "100/100 - 24s - loss: 0.3538 - acc: 0.8475 - val_loss: 0.3064 - val_acc: 0.8780 - 24s/epoch - 237ms/step\n",
      "Epoch 4/30\n",
      "100/100 - 24s - loss: 0.3258 - acc: 0.8670 - val_loss: 0.2855 - val_acc: 0.8840 - 24s/epoch - 236ms/step\n",
      "Epoch 5/30\n",
      "100/100 - 24s - loss: 0.2988 - acc: 0.8820 - val_loss: 0.2725 - val_acc: 0.8860 - 24s/epoch - 238ms/step\n",
      "Epoch 6/30\n",
      "100/100 - 24s - loss: 0.2917 - acc: 0.8895 - val_loss: 0.2635 - val_acc: 0.8930 - 24s/epoch - 237ms/step\n",
      "Epoch 7/30\n",
      "100/100 - 24s - loss: 0.2741 - acc: 0.8825 - val_loss: 0.2564 - val_acc: 0.8960 - 24s/epoch - 239ms/step\n",
      "Epoch 8/30\n",
      "100/100 - 23s - loss: 0.2685 - acc: 0.8890 - val_loss: 0.2695 - val_acc: 0.8840 - 23s/epoch - 235ms/step\n",
      "Epoch 9/30\n",
      "100/100 - 23s - loss: 0.2595 - acc: 0.8940 - val_loss: 0.2493 - val_acc: 0.8970 - 23s/epoch - 233ms/step\n",
      "Epoch 10/30\n",
      "100/100 - 24s - loss: 0.2538 - acc: 0.8975 - val_loss: 0.2515 - val_acc: 0.8870 - 24s/epoch - 237ms/step\n",
      "Epoch 11/30\n",
      "100/100 - 24s - loss: 0.2338 - acc: 0.9010 - val_loss: 0.2438 - val_acc: 0.9020 - 24s/epoch - 237ms/step\n",
      "Epoch 12/30\n",
      "100/100 - 24s - loss: 0.2386 - acc: 0.9060 - val_loss: 0.2446 - val_acc: 0.9020 - 24s/epoch - 239ms/step\n",
      "Epoch 13/30\n",
      "100/100 - 23s - loss: 0.2376 - acc: 0.9025 - val_loss: 0.2391 - val_acc: 0.9070 - 23s/epoch - 234ms/step\n",
      "Epoch 14/30\n",
      "100/100 - 23s - loss: 0.2253 - acc: 0.9100 - val_loss: 0.2499 - val_acc: 0.8970 - 23s/epoch - 234ms/step\n",
      "Epoch 15/30\n",
      "100/100 - 23s - loss: 0.2211 - acc: 0.9095 - val_loss: 0.2478 - val_acc: 0.8940 - 23s/epoch - 233ms/step\n",
      "Epoch 16/30\n",
      "100/100 - 24s - loss: 0.2193 - acc: 0.9090 - val_loss: 0.2366 - val_acc: 0.9040 - 24s/epoch - 235ms/step\n",
      "Epoch 17/30\n",
      "100/100 - 24s - loss: 0.2199 - acc: 0.9110 - val_loss: 0.2398 - val_acc: 0.9020 - 24s/epoch - 237ms/step\n",
      "Epoch 18/30\n",
      "100/100 - 24s - loss: 0.2250 - acc: 0.9090 - val_loss: 0.2338 - val_acc: 0.9110 - 24s/epoch - 241ms/step\n",
      "Epoch 19/30\n",
      "100/100 - 24s - loss: 0.2095 - acc: 0.9130 - val_loss: 0.2370 - val_acc: 0.9030 - 24s/epoch - 242ms/step\n",
      "Epoch 20/30\n",
      "100/100 - 24s - loss: 0.2108 - acc: 0.9140 - val_loss: 0.2399 - val_acc: 0.9080 - 24s/epoch - 242ms/step\n",
      "Epoch 21/30\n",
      "100/100 - 24s - loss: 0.2023 - acc: 0.9165 - val_loss: 0.2414 - val_acc: 0.9080 - 24s/epoch - 235ms/step\n",
      "Epoch 22/30\n",
      "100/100 - 24s - loss: 0.2011 - acc: 0.9170 - val_loss: 0.2324 - val_acc: 0.9080 - 24s/epoch - 236ms/step\n",
      "Epoch 23/30\n",
      "100/100 - 23s - loss: 0.2026 - acc: 0.9230 - val_loss: 0.2371 - val_acc: 0.9030 - 23s/epoch - 234ms/step\n",
      "Epoch 24/30\n",
      "100/100 - 23s - loss: 0.1971 - acc: 0.9245 - val_loss: 0.2326 - val_acc: 0.9070 - 23s/epoch - 233ms/step\n",
      "Epoch 25/30\n",
      "100/100 - 23s - loss: 0.1912 - acc: 0.9205 - val_loss: 0.2388 - val_acc: 0.9050 - 23s/epoch - 233ms/step\n",
      "Epoch 26/30\n",
      "100/100 - 23s - loss: 0.2004 - acc: 0.9210 - val_loss: 0.2412 - val_acc: 0.9090 - 23s/epoch - 232ms/step\n",
      "Epoch 27/30\n",
      "100/100 - 23s - loss: 0.1913 - acc: 0.9255 - val_loss: 0.2331 - val_acc: 0.9120 - 23s/epoch - 233ms/step\n",
      "Epoch 28/30\n",
      "100/100 - 23s - loss: 0.1879 - acc: 0.9270 - val_loss: 0.2317 - val_acc: 0.9130 - 23s/epoch - 234ms/step\n",
      "Epoch 29/30\n",
      "100/100 - 23s - loss: 0.1835 - acc: 0.9290 - val_loss: 0.2414 - val_acc: 0.9020 - 23s/epoch - 232ms/step\n",
      "Epoch 30/30\n",
      "100/100 - 23s - loss: 0.1930 - acc: 0.9220 - val_loss: 0.2331 - val_acc: 0.9130 - 23s/epoch - 231ms/step\n"
     ]
    }
   ],
   "source": [
    "from keras.preprocessing.image import ImageDataGenerator\n",
    "\n",
    "train_datagen = ImageDataGenerator(\n",
    "      rescale=1./255,\n",
    "      rotation_range=20,\n",
    "      width_shift_range=0.1,\n",
    "      height_shift_range=0.1,\n",
    "      shear_range=0.1,\n",
    "      zoom_range=0.1,\n",
    "      horizontal_flip=True,\n",
    "      fill_mode='nearest')\n",
    "\n",
    "test_datagen = ImageDataGenerator(rescale=1./255)\n",
    "\n",
    "train_generator = train_datagen.flow_from_directory(\n",
    "        train_dir,\n",
    "        target_size=(150, 150),\n",
    "        batch_size=20,\n",
    "        class_mode='binary')\n",
    "\n",
    "validation_generator = test_datagen.flow_from_directory(\n",
    "        validation_dir,\n",
    "        target_size=(150, 150),\n",
    "        batch_size=20,\n",
    "        class_mode='binary')\n",
    "\n",
    "model.compile(loss='binary_crossentropy',\n",
    "              optimizer=optimizers.RMSprop(lr=2e-5),\n",
    "              metrics=['acc'])\n",
    "\n",
    "history = model.fit_generator(\n",
    "      train_generator,\n",
    "      steps_per_epoch=100,\n",
    "      epochs=30,\n",
    "      validation_data=validation_generator,\n",
    "      validation_steps=50,\n",
    "      verbose=2)"
   ]
  },
  {
   "cell_type": "markdown",
   "id": "d31678ea",
   "metadata": {},
   "source": [
    "모델 저장하기:  \n"
   ]
  },
  {
   "cell_type": "code",
   "execution_count": 9,
   "id": "8847996a",
   "metadata": {},
   "outputs": [],
   "source": [
    "model.save('cats_and_dogs_small_3.h5')"
   ]
  },
  {
   "cell_type": "markdown",
   "id": "1a829b28",
   "metadata": {},
   "source": [
    "그래프 그리기:"
   ]
  },
  {
   "cell_type": "code",
   "execution_count": 16,
   "id": "6aca423e",
   "metadata": {},
   "outputs": [
    {
     "data": {
      "image/png": "[encoded data removed]",
      "text/plain": [
       "<Figure size 432x288 with 1 Axes>"
      ]
     },
     "metadata": {
      "needs_background": "light"
     },
     "output_type": "display_data"
    },
    {
     "data": {
      "image/png": "[encoded data removed]",
      "text/plain": [
       "<Figure size 432x288 with 1 Axes>"
      ]
     },
     "metadata": {
      "needs_background": "light"
     },
     "output_type": "display_data"
    }
   ],
   "source": [
    "acc = history.history['acc']\n",
    "val_acc = history.history['val_acc']\n",
    "loss = history.history['loss']\n",
    "val_loss = history.history['val_loss']\n",
    "\n",
    "epochs = range(len(acc))\n",
    "\n",
    "plt.plot(epochs, acc, 'bo', label='Training acc')\n",
    "plt.plot(epochs, val_acc, 'b', label='Validation acc')\n",
    "plt.title('Training and validation accuracy')\n",
    "plt.legend()\n",
    "\n",
    "plt.figure()\n",
    "\n",
    "plt.plot(epochs, loss, 'bo', label='Training loss')\n",
    "plt.plot(epochs, val_loss, 'b', label='Validation loss')\n",
    "plt.title('Training and validation loss')\n",
    "plt.legend()\n",
    "\n",
    "plt.show()"
   ]
  },
  {
   "cell_type": "markdown",
   "id": "fce296dd",
   "metadata": {},
   "source": [
    "이전보다 과대적합 문제 해소됨..!\n",
    "\n",
    "테스트 데이터로 모델 평가 결과: 0.9050000309944153"
   ]
  },
  {
   "cell_type": "markdown",
   "id": "1b04f044",
   "metadata": {},
   "source": [
    "---\n",
    "## 미세 조정\n",
    "특성 추출에 사용했던 동결 모델의 상위 층 몇 개를 동결에서 해제하고 모델에 새로 추가한 층(여기서는 완전 연결 분류기)과 함께 훈련\n",
    "\n",
    "* 맨 위의 **분류기(완전 연결 분류기)가 훈련된 후** 합성곱 기반의 상위 층 미세조정 가능\n",
    "    * 미리 훈련되지 않으면 훈련하는 동안 너무 큰 오차 신호가 네트워크에 전파\n",
    "    * 미세조정될 층들이 사전에 학습한 표현 망가뜨리지 않도록 분류기 미리 훈련시키기\n",
    "\n",
    "1. 사전 훈련된 기반 네트워크 위에 새로운 네트워크 추가\n",
    "2. 기반 네트워크 동결\n",
    "3. 새로 추가한 네트워크 훈련\n",
    "4. 기반 네트워크에서 **일부 층의 동결 해제**\n",
    "5. 동결 해제한 층과 새로 추가한 층 함께 훈련\n",
    "\n",
    "1,2,3단계는 특성 추출 단계에서 이미 완료함!"
   ]
  },
  {
   "cell_type": "markdown",
   "id": "a9fa8f7f",
   "metadata": {},
   "source": [
    "마지막 세 개의 합성곱 층을 미세 조정하자! \n",
    "* block4_pool까지 모든 층은 동결 \n",
    "* block5_conv1, block5_conv2, block5_conv3 층은 학습 대상으로\n",
    "\n",
    "### 왜 미세조정은 적은 층만 하는지?\n",
    "하위 층은 일반적이고 재사용 가능한 특성,, 상위 층은 데이터에 특화된 특성을 인코딩\\\n",
    "새로운 문제에 재활용하려면 **구체적이고 특화된 특성만 미세 조정**하는 것이 유리!!\n",
    "\n",
    "훈련해야 할 파라미터가 많을수록 과대적합의 위험이 커짐..\\\n",
    "**작은 데이터셋으로 합성곱 기반층 전체를 훈련하기엔 위험**하다...!!!"
   ]
  },
  {
   "cell_type": "code",
   "execution_count": 18,
   "id": "0d0492af",
   "metadata": {},
   "outputs": [
    {
     "name": "stdout",
     "output_type": "stream",
     "text": [
      "Model: \"vgg16\"\n",
      "_________________________________________________________________\n",
      " Layer (type)                Output Shape              Param #   \n",
      "=================================================================\n",
      " input_1 (InputLayer)        [(None, 150, 150, 3)]     0         \n",
      "                                                                 \n",
      " block1_conv1 (Conv2D)       (None, 150, 150, 64)      1792      \n",
      "                                                                 \n",
      " block1_conv2 (Conv2D)       (None, 150, 150, 64)      36928     \n",
      "                                                                 \n",
      " block1_pool (MaxPooling2D)  (None, 75, 75, 64)        0         \n",
      "                                                                 \n",
      " block2_conv1 (Conv2D)       (None, 75, 75, 128)       73856     \n",
      "                                                                 \n",
      " block2_conv2 (Conv2D)       (None, 75, 75, 128)       147584    \n",
      "                                                                 \n",
      " block2_pool (MaxPooling2D)  (None, 37, 37, 128)       0         \n",
      "                                                                 \n",
      " block3_conv1 (Conv2D)       (None, 37, 37, 256)       295168    \n",
      "                                                                 \n",
      " block3_conv2 (Conv2D)       (None, 37, 37, 256)       590080    \n",
      "                                                                 \n",
      " block3_conv3 (Conv2D)       (None, 37, 37, 256)       590080    \n",
      "                                                                 \n",
      " block3_pool (MaxPooling2D)  (None, 18, 18, 256)       0         \n",
      "                                                                 \n",
      " block4_conv1 (Conv2D)       (None, 18, 18, 512)       1180160   \n",
      "                                                                 \n",
      " block4_conv2 (Conv2D)       (None, 18, 18, 512)       2359808   \n",
      "                                                                 \n",
      " block4_conv3 (Conv2D)       (None, 18, 18, 512)       2359808   \n",
      "                                                                 \n",
      " block4_pool (MaxPooling2D)  (None, 9, 9, 512)         0         \n",
      "                                                                 \n",
      " block5_conv1 (Conv2D)       (None, 9, 9, 512)         2359808   \n",
      "                                                                 \n",
      " block5_conv2 (Conv2D)       (None, 9, 9, 512)         2359808   \n",
      "                                                                 \n",
      " block5_conv3 (Conv2D)       (None, 9, 9, 512)         2359808   \n",
      "                                                                 \n",
      " block5_pool (MaxPooling2D)  (None, 4, 4, 512)         0         \n",
      "                                                                 \n",
      "=================================================================\n",
      "Total params: 14,714,688\n",
      "Trainable params: 7,079,424\n",
      "Non-trainable params: 7,635,264\n",
      "_________________________________________________________________\n"
     ]
    }
   ],
   "source": [
    "conv_base.summary()\n",
    "\n",
    "conv_base.trainable = True\n",
    "\n",
    "set_trainable = False\n",
    "for layer in conv_base.layers:\n",
    "    if layer.name == 'block5_conv1':\n",
    "        set_trainable = True\n",
    "    if set_trainable:\n",
    "        layer.trainable = True\n",
    "    else:\n",
    "        layer.trainable = False"
   ]
  },
  {
   "cell_type": "markdown",
   "id": "6216b86e",
   "metadata": {},
   "source": [
    "### 학습률을 낮춘 RMSProp 옵티마이저 사용해 컴파일\n",
    "#### 학습률을 낮추는 이유?:\n",
    "미세 조정하는 세 개의 층에서 학습된 표현을 조금씩 수정하기 위해서 \\\n",
    "변경량이 너무 크면 학습된 표현에 나쁜 영향을 끼칠 수 있음!"
   ]
  },
  {
   "cell_type": "code",
   "execution_count": 21,
   "id": "2a6ca1e6",
   "metadata": {},
   "outputs": [],
   "source": [
    "model.compile(loss='binary_crossentropy',\n",
    "              optimizer=optimizers.RMSprop(lr=1e-5),\n",
    "              metrics=['acc'])"
   ]
  },
  {
   "cell_type": "markdown",
   "id": "2888093b",
   "metadata": {},
   "source": [
    "### 모델 훈련하기"
   ]
  },
  {
   "cell_type": "code",
   "execution_count": 29,
   "id": "2fd0ab2b",
   "metadata": {},
   "outputs": [
    {
     "name": "stdout",
     "output_type": "stream",
     "text": [
      "Epoch 1/100\n"
     ]
    },
    {
     "name": "stderr",
     "output_type": "stream",
     "text": [
      "/var/folders/9_/z_nr8_hd32x51b1zx2flsn080000gn/T/ipykernel_18712/3420237676.py:1: UserWarning: `Model.fit_generator` is deprecated and will be removed in a future version. Please use `Model.fit`, which supports generators.\n",
      "  history = model.fit_generator(train_generator,\n",
      "2022-03-22 22:49:53.769515: I tensorflow/core/grappler/optimizers/custom_graph_optimizer_registry.cc:113] Plugin optimizer for device_type GPU is enabled.\n",
      "2022-03-22 22:50:10.188827: I tensorflow/core/grappler/optimizers/custom_graph_optimizer_registry.cc:113] Plugin optimizer for device_type GPU is enabled.\n"
     ]
    },
    {
     "name": "stdout",
     "output_type": "stream",
     "text": [
      "100/100 - 24s - loss: 0.0823 - acc: 0.9730 - val_loss: 0.2818 - val_acc: 0.8990 - 24s/epoch - 243ms/step\n",
      "Epoch 2/100\n",
      "100/100 - 24s - loss: 0.0993 - acc: 0.9670 - val_loss: 0.2786 - val_acc: 0.9050 - 24s/epoch - 238ms/step\n",
      "Epoch 3/100\n",
      "100/100 - 24s - loss: 0.0859 - acc: 0.9695 - val_loss: 0.2758 - val_acc: 0.9070 - 24s/epoch - 237ms/step\n",
      "Epoch 4/100\n",
      "100/100 - 23s - loss: 0.0862 - acc: 0.9655 - val_loss: 0.2760 - val_acc: 0.9050 - 23s/epoch - 232ms/step\n",
      "Epoch 5/100\n",
      "100/100 - 23s - loss: 0.0852 - acc: 0.9705 - val_loss: 0.2764 - val_acc: 0.9050 - 23s/epoch - 235ms/step\n",
      "Epoch 6/100\n",
      "100/100 - 23s - loss: 0.0904 - acc: 0.9690 - val_loss: 0.2783 - val_acc: 0.9000 - 23s/epoch - 234ms/step\n",
      "Epoch 7/100\n",
      "100/100 - 23s - loss: 0.0921 - acc: 0.9675 - val_loss: 0.2793 - val_acc: 0.9000 - 23s/epoch - 232ms/step\n",
      "Epoch 8/100\n",
      "100/100 - 23s - loss: 0.0873 - acc: 0.9730 - val_loss: 0.2801 - val_acc: 0.8990 - 23s/epoch - 234ms/step\n",
      "Epoch 9/100\n",
      "100/100 - 24s - loss: 0.0901 - acc: 0.9690 - val_loss: 0.2930 - val_acc: 0.8980 - 24s/epoch - 237ms/step\n",
      "Epoch 10/100\n",
      "100/100 - 24s - loss: 0.0803 - acc: 0.9725 - val_loss: 0.2794 - val_acc: 0.9010 - 24s/epoch - 236ms/step\n",
      "Epoch 11/100\n",
      "100/100 - 24s - loss: 0.0843 - acc: 0.9690 - val_loss: 0.2799 - val_acc: 0.9030 - 24s/epoch - 236ms/step\n",
      "Epoch 12/100\n",
      "100/100 - 24s - loss: 0.0902 - acc: 0.9700 - val_loss: 0.2815 - val_acc: 0.9060 - 24s/epoch - 237ms/step\n",
      "Epoch 13/100\n",
      "100/100 - 24s - loss: 0.0835 - acc: 0.9715 - val_loss: 0.2799 - val_acc: 0.9070 - 24s/epoch - 236ms/step\n",
      "Epoch 14/100\n",
      "100/100 - 23s - loss: 0.0859 - acc: 0.9740 - val_loss: 0.2808 - val_acc: 0.9070 - 23s/epoch - 233ms/step\n",
      "Epoch 15/100\n",
      "100/100 - 23s - loss: 0.0797 - acc: 0.9765 - val_loss: 0.2798 - val_acc: 0.9050 - 23s/epoch - 234ms/step\n",
      "Epoch 16/100\n",
      "100/100 - 24s - loss: 0.0966 - acc: 0.9665 - val_loss: 0.2821 - val_acc: 0.9000 - 24s/epoch - 236ms/step\n",
      "Epoch 17/100\n",
      "100/100 - 24s - loss: 0.0850 - acc: 0.9735 - val_loss: 0.2811 - val_acc: 0.9080 - 24s/epoch - 236ms/step\n",
      "Epoch 18/100\n",
      "100/100 - 24s - loss: 0.0866 - acc: 0.9670 - val_loss: 0.2793 - val_acc: 0.9070 - 24s/epoch - 237ms/step\n",
      "Epoch 19/100\n",
      "100/100 - 23s - loss: 0.0914 - acc: 0.9685 - val_loss: 0.2844 - val_acc: 0.8990 - 23s/epoch - 233ms/step\n",
      "Epoch 20/100\n",
      "100/100 - 24s - loss: 0.0932 - acc: 0.9685 - val_loss: 0.2824 - val_acc: 0.9030 - 24s/epoch - 235ms/step\n",
      "Epoch 21/100\n",
      "100/100 - 24s - loss: 0.0870 - acc: 0.9725 - val_loss: 0.2810 - val_acc: 0.9000 - 24s/epoch - 237ms/step\n",
      "Epoch 22/100\n",
      "100/100 - 24s - loss: 0.0800 - acc: 0.9725 - val_loss: 0.2837 - val_acc: 0.9070 - 24s/epoch - 236ms/step\n",
      "Epoch 23/100\n",
      "100/100 - 24s - loss: 0.0871 - acc: 0.9700 - val_loss: 0.2870 - val_acc: 0.8990 - 24s/epoch - 236ms/step\n",
      "Epoch 24/100\n",
      "100/100 - 23s - loss: 0.0768 - acc: 0.9735 - val_loss: 0.2834 - val_acc: 0.9070 - 23s/epoch - 234ms/step\n",
      "Epoch 25/100\n",
      "100/100 - 23s - loss: 0.0858 - acc: 0.9675 - val_loss: 0.2838 - val_acc: 0.9040 - 23s/epoch - 234ms/step\n",
      "Epoch 26/100\n",
      "100/100 - 23s - loss: 0.0909 - acc: 0.9695 - val_loss: 0.2834 - val_acc: 0.9030 - 23s/epoch - 234ms/step\n",
      "Epoch 27/100\n",
      "100/100 - 23s - loss: 0.0856 - acc: 0.9670 - val_loss: 0.2831 - val_acc: 0.9030 - 23s/epoch - 233ms/step\n",
      "Epoch 28/100\n",
      "100/100 - 23s - loss: 0.0864 - acc: 0.9695 - val_loss: 0.2823 - val_acc: 0.9050 - 23s/epoch - 232ms/step\n",
      "Epoch 29/100\n",
      "100/100 - 24s - loss: 0.0781 - acc: 0.9800 - val_loss: 0.2867 - val_acc: 0.9010 - 24s/epoch - 238ms/step\n",
      "Epoch 30/100\n",
      "100/100 - 23s - loss: 0.0846 - acc: 0.9715 - val_loss: 0.2935 - val_acc: 0.8960 - 23s/epoch - 234ms/step\n",
      "Epoch 31/100\n",
      "100/100 - 23s - loss: 0.0731 - acc: 0.9770 - val_loss: 0.2890 - val_acc: 0.9000 - 23s/epoch - 233ms/step\n",
      "Epoch 32/100\n",
      "100/100 - 23s - loss: 0.0855 - acc: 0.9700 - val_loss: 0.2850 - val_acc: 0.9010 - 23s/epoch - 231ms/step\n",
      "Epoch 33/100\n",
      "100/100 - 23s - loss: 0.0861 - acc: 0.9705 - val_loss: 0.2867 - val_acc: 0.9010 - 23s/epoch - 234ms/step\n",
      "Epoch 34/100\n",
      "100/100 - 24s - loss: 0.0889 - acc: 0.9670 - val_loss: 0.2848 - val_acc: 0.9020 - 24s/epoch - 235ms/step\n",
      "Epoch 35/100\n",
      "100/100 - 23s - loss: 0.0809 - acc: 0.9720 - val_loss: 0.2900 - val_acc: 0.8980 - 23s/epoch - 234ms/step\n",
      "Epoch 36/100\n",
      "100/100 - 23s - loss: 0.0794 - acc: 0.9735 - val_loss: 0.2876 - val_acc: 0.9000 - 23s/epoch - 233ms/step\n",
      "Epoch 37/100\n",
      "100/100 - 23s - loss: 0.0894 - acc: 0.9690 - val_loss: 0.2919 - val_acc: 0.8960 - 23s/epoch - 234ms/step\n",
      "Epoch 38/100\n",
      "100/100 - 23s - loss: 0.0793 - acc: 0.9735 - val_loss: 0.2855 - val_acc: 0.9010 - 23s/epoch - 231ms/step\n",
      "Epoch 39/100\n",
      "100/100 - 23s - loss: 0.0813 - acc: 0.9705 - val_loss: 0.2830 - val_acc: 0.9070 - 23s/epoch - 234ms/step\n",
      "Epoch 40/100\n",
      "100/100 - 23s - loss: 0.0825 - acc: 0.9765 - val_loss: 0.2843 - val_acc: 0.9050 - 23s/epoch - 232ms/step\n",
      "Epoch 41/100\n",
      "100/100 - 23s - loss: 0.0830 - acc: 0.9720 - val_loss: 0.2883 - val_acc: 0.8970 - 23s/epoch - 234ms/step\n",
      "Epoch 42/100\n",
      "100/100 - 23s - loss: 0.0761 - acc: 0.9755 - val_loss: 0.2861 - val_acc: 0.9070 - 23s/epoch - 234ms/step\n",
      "Epoch 43/100\n",
      "100/100 - 23s - loss: 0.0822 - acc: 0.9690 - val_loss: 0.2886 - val_acc: 0.8990 - 23s/epoch - 234ms/step\n",
      "Epoch 44/100\n",
      "100/100 - 23s - loss: 0.0799 - acc: 0.9740 - val_loss: 0.2852 - val_acc: 0.9080 - 23s/epoch - 234ms/step\n",
      "Epoch 45/100\n",
      "100/100 - 23s - loss: 0.0826 - acc: 0.9690 - val_loss: 0.2863 - val_acc: 0.9070 - 23s/epoch - 233ms/step\n",
      "Epoch 46/100\n",
      "100/100 - 23s - loss: 0.0897 - acc: 0.9680 - val_loss: 0.2991 - val_acc: 0.8940 - 23s/epoch - 234ms/step\n",
      "Epoch 47/100\n",
      "100/100 - 23s - loss: 0.0868 - acc: 0.9695 - val_loss: 0.2854 - val_acc: 0.9070 - 23s/epoch - 233ms/step\n",
      "Epoch 48/100\n",
      "100/100 - 23s - loss: 0.0815 - acc: 0.9725 - val_loss: 0.2896 - val_acc: 0.9060 - 23s/epoch - 233ms/step\n",
      "Epoch 49/100\n",
      "100/100 - 24s - loss: 0.0837 - acc: 0.9720 - val_loss: 0.2855 - val_acc: 0.9080 - 24s/epoch - 235ms/step\n",
      "Epoch 50/100\n",
      "100/100 - 23s - loss: 0.0778 - acc: 0.9710 - val_loss: 0.2858 - val_acc: 0.9080 - 23s/epoch - 233ms/step\n",
      "Epoch 51/100\n",
      "100/100 - 23s - loss: 0.0700 - acc: 0.9765 - val_loss: 0.2924 - val_acc: 0.8960 - 23s/epoch - 234ms/step\n",
      "Epoch 52/100\n",
      "100/100 - 23s - loss: 0.0723 - acc: 0.9745 - val_loss: 0.2893 - val_acc: 0.9040 - 23s/epoch - 234ms/step\n",
      "Epoch 53/100\n",
      "100/100 - 23s - loss: 0.0793 - acc: 0.9735 - val_loss: 0.2898 - val_acc: 0.9090 - 23s/epoch - 233ms/step\n",
      "Epoch 54/100\n",
      "100/100 - 23s - loss: 0.0872 - acc: 0.9685 - val_loss: 0.2907 - val_acc: 0.9070 - 23s/epoch - 233ms/step\n",
      "Epoch 55/100\n",
      "100/100 - 23s - loss: 0.0764 - acc: 0.9720 - val_loss: 0.2921 - val_acc: 0.9030 - 23s/epoch - 234ms/step\n",
      "Epoch 56/100\n",
      "100/100 - 24s - loss: 0.0820 - acc: 0.9705 - val_loss: 0.2883 - val_acc: 0.9060 - 24s/epoch - 237ms/step\n",
      "Epoch 57/100\n",
      "100/100 - 24s - loss: 0.0786 - acc: 0.9750 - val_loss: 0.2894 - val_acc: 0.9050 - 24s/epoch - 241ms/step\n",
      "Epoch 58/100\n",
      "100/100 - 24s - loss: 0.0765 - acc: 0.9720 - val_loss: 0.2909 - val_acc: 0.9060 - 24s/epoch - 238ms/step\n",
      "Epoch 59/100\n",
      "100/100 - 23s - loss: 0.0749 - acc: 0.9725 - val_loss: 0.2900 - val_acc: 0.9060 - 23s/epoch - 231ms/step\n",
      "Epoch 60/100\n",
      "100/100 - 23s - loss: 0.0813 - acc: 0.9735 - val_loss: 0.2908 - val_acc: 0.9040 - 23s/epoch - 231ms/step\n",
      "Epoch 61/100\n",
      "100/100 - 23s - loss: 0.0732 - acc: 0.9785 - val_loss: 0.2921 - val_acc: 0.9070 - 23s/epoch - 234ms/step\n",
      "Epoch 62/100\n",
      "100/100 - 24s - loss: 0.0794 - acc: 0.9695 - val_loss: 0.3031 - val_acc: 0.8930 - 24s/epoch - 241ms/step\n",
      "Epoch 63/100\n",
      "100/100 - 22s - loss: 0.0728 - acc: 0.9780 - val_loss: 0.2933 - val_acc: 0.9040 - 22s/epoch - 222ms/step\n",
      "Epoch 64/100\n",
      "100/100 - 23s - loss: 0.0854 - acc: 0.9690 - val_loss: 0.2933 - val_acc: 0.9040 - 23s/epoch - 231ms/step\n",
      "Epoch 65/100\n",
      "100/100 - 23s - loss: 0.0734 - acc: 0.9745 - val_loss: 0.2940 - val_acc: 0.9020 - 23s/epoch - 233ms/step\n",
      "Epoch 66/100\n",
      "100/100 - 23s - loss: 0.0725 - acc: 0.9750 - val_loss: 0.2949 - val_acc: 0.9000 - 23s/epoch - 232ms/step\n",
      "Epoch 67/100\n",
      "100/100 - 24s - loss: 0.0770 - acc: 0.9705 - val_loss: 0.2925 - val_acc: 0.9050 - 24s/epoch - 238ms/step\n",
      "Epoch 68/100\n",
      "100/100 - 23s - loss: 0.0829 - acc: 0.9735 - val_loss: 0.2927 - val_acc: 0.9030 - 23s/epoch - 231ms/step\n",
      "Epoch 69/100\n",
      "100/100 - 23s - loss: 0.0717 - acc: 0.9770 - val_loss: 0.2984 - val_acc: 0.8960 - 23s/epoch - 234ms/step\n",
      "Epoch 70/100\n",
      "100/100 - 23s - loss: 0.0670 - acc: 0.9800 - val_loss: 0.3042 - val_acc: 0.8950 - 23s/epoch - 233ms/step\n"
     ]
    },
    {
     "name": "stdout",
     "output_type": "stream",
     "text": [
      "Epoch 71/100\n",
      "100/100 - 23s - loss: 0.0827 - acc: 0.9695 - val_loss: 0.2944 - val_acc: 0.9020 - 23s/epoch - 234ms/step\n",
      "Epoch 72/100\n",
      "100/100 - 24s - loss: 0.0783 - acc: 0.9740 - val_loss: 0.2973 - val_acc: 0.8970 - 24s/epoch - 236ms/step\n",
      "Epoch 73/100\n",
      "100/100 - 24s - loss: 0.0713 - acc: 0.9735 - val_loss: 0.2930 - val_acc: 0.9050 - 24s/epoch - 237ms/step\n",
      "Epoch 74/100\n",
      "100/100 - 24s - loss: 0.0699 - acc: 0.9760 - val_loss: 0.2957 - val_acc: 0.9060 - 24s/epoch - 236ms/step\n",
      "Epoch 75/100\n",
      "100/100 - 24s - loss: 0.0708 - acc: 0.9785 - val_loss: 0.2979 - val_acc: 0.9000 - 24s/epoch - 236ms/step\n",
      "Epoch 76/100\n",
      "100/100 - 24s - loss: 0.0767 - acc: 0.9730 - val_loss: 0.2960 - val_acc: 0.9020 - 24s/epoch - 236ms/step\n",
      "Epoch 77/100\n",
      "100/100 - 24s - loss: 0.0760 - acc: 0.9725 - val_loss: 0.3032 - val_acc: 0.8940 - 24s/epoch - 236ms/step\n",
      "Epoch 78/100\n",
      "100/100 - 24s - loss: 0.0696 - acc: 0.9765 - val_loss: 0.2983 - val_acc: 0.9020 - 24s/epoch - 235ms/step\n",
      "Epoch 79/100\n",
      "100/100 - 23s - loss: 0.0728 - acc: 0.9750 - val_loss: 0.3009 - val_acc: 0.9010 - 23s/epoch - 231ms/step\n",
      "Epoch 80/100\n",
      "100/100 - 24s - loss: 0.0729 - acc: 0.9735 - val_loss: 0.2963 - val_acc: 0.9020 - 24s/epoch - 236ms/step\n",
      "Epoch 81/100\n",
      "100/100 - 24s - loss: 0.0752 - acc: 0.9740 - val_loss: 0.2936 - val_acc: 0.9030 - 24s/epoch - 236ms/step\n",
      "Epoch 82/100\n",
      "100/100 - 24s - loss: 0.0748 - acc: 0.9735 - val_loss: 0.3126 - val_acc: 0.8940 - 24s/epoch - 235ms/step\n",
      "Epoch 83/100\n",
      "100/100 - 24s - loss: 0.0690 - acc: 0.9770 - val_loss: 0.2994 - val_acc: 0.8970 - 24s/epoch - 236ms/step\n",
      "Epoch 84/100\n",
      "100/100 - 24s - loss: 0.0762 - acc: 0.9740 - val_loss: 0.2975 - val_acc: 0.8980 - 24s/epoch - 236ms/step\n",
      "Epoch 85/100\n",
      "100/100 - 24s - loss: 0.0721 - acc: 0.9735 - val_loss: 0.2950 - val_acc: 0.9020 - 24s/epoch - 236ms/step\n",
      "Epoch 86/100\n",
      "100/100 - 24s - loss: 0.0757 - acc: 0.9750 - val_loss: 0.2945 - val_acc: 0.9020 - 24s/epoch - 237ms/step\n",
      "Epoch 87/100\n",
      "100/100 - 24s - loss: 0.0752 - acc: 0.9725 - val_loss: 0.2958 - val_acc: 0.9000 - 24s/epoch - 237ms/step\n",
      "Epoch 88/100\n",
      "100/100 - 23s - loss: 0.0704 - acc: 0.9775 - val_loss: 0.2960 - val_acc: 0.9000 - 23s/epoch - 235ms/step\n",
      "Epoch 89/100\n",
      "100/100 - 24s - loss: 0.0708 - acc: 0.9730 - val_loss: 0.2955 - val_acc: 0.9010 - 24s/epoch - 242ms/step\n",
      "Epoch 90/100\n",
      "100/100 - 24s - loss: 0.0694 - acc: 0.9790 - val_loss: 0.2966 - val_acc: 0.9010 - 24s/epoch - 245ms/step\n",
      "Epoch 91/100\n",
      "100/100 - 24s - loss: 0.0754 - acc: 0.9750 - val_loss: 0.2975 - val_acc: 0.9040 - 24s/epoch - 238ms/step\n",
      "Epoch 92/100\n",
      "100/100 - 24s - loss: 0.0668 - acc: 0.9745 - val_loss: 0.2970 - val_acc: 0.9010 - 24s/epoch - 238ms/step\n",
      "Epoch 93/100\n",
      "100/100 - 24s - loss: 0.0716 - acc: 0.9745 - val_loss: 0.2980 - val_acc: 0.9050 - 24s/epoch - 237ms/step\n",
      "Epoch 94/100\n",
      "100/100 - 24s - loss: 0.0726 - acc: 0.9760 - val_loss: 0.2976 - val_acc: 0.9050 - 24s/epoch - 235ms/step\n",
      "Epoch 95/100\n",
      "100/100 - 23s - loss: 0.0734 - acc: 0.9755 - val_loss: 0.2965 - val_acc: 0.9070 - 23s/epoch - 231ms/step\n",
      "Epoch 96/100\n",
      "100/100 - 23s - loss: 0.0671 - acc: 0.9795 - val_loss: 0.2978 - val_acc: 0.9060 - 23s/epoch - 231ms/step\n",
      "Epoch 97/100\n",
      "100/100 - 23s - loss: 0.0742 - acc: 0.9730 - val_loss: 0.2961 - val_acc: 0.9050 - 23s/epoch - 232ms/step\n",
      "Epoch 98/100\n",
      "100/100 - 23s - loss: 0.0808 - acc: 0.9740 - val_loss: 0.3000 - val_acc: 0.8970 - 23s/epoch - 234ms/step\n",
      "Epoch 99/100\n",
      "100/100 - 23s - loss: 0.0722 - acc: 0.9710 - val_loss: 0.2976 - val_acc: 0.9040 - 23s/epoch - 231ms/step\n",
      "Epoch 100/100\n",
      "100/100 - 24s - loss: 0.0685 - acc: 0.9775 - val_loss: 0.2975 - val_acc: 0.9050 - 24s/epoch - 235ms/step\n"
     ]
    }
   ],
   "source": [
    "history = model.fit_generator(train_generator,\n",
    "                              steps_per_epoch=100,\n",
    "                              epochs=100,\n",
    "                              validation_data=validation_generator,\n",
    "                              validation_steps=50,\n",
    "                              verbose=2)"
   ]
  },
  {
   "cell_type": "markdown",
   "id": "695676b8",
   "metadata": {},
   "source": [
    "모델 훈련 후 저장"
   ]
  },
  {
   "cell_type": "code",
   "execution_count": 30,
   "id": "3b32a22f",
   "metadata": {},
   "outputs": [],
   "source": [
    "model.save('cats_and_dogs_small_4.h5')"
   ]
  },
  {
   "cell_type": "markdown",
   "id": "33bfcc30",
   "metadata": {},
   "source": [
    "결과 그래프 그리기:"
   ]
  },
  {
   "cell_type": "code",
   "execution_count": 31,
   "id": "7a5be8ff",
   "metadata": {},
   "outputs": [
    {
     "data": {
      "image/png": "[encoded data removed]",
      "text/plain": [
       "<Figure size 432x288 with 1 Axes>"
      ]
     },
     "metadata": {
      "needs_background": "light"
     },
     "output_type": "display_data"
    },
    {
     "data": {
      "image/png": "[encoded data removed]",
      "text/plain": [
       "<Figure size 432x288 with 1 Axes>"
      ]
     },
     "metadata": {
      "needs_background": "light"
     },
     "output_type": "display_data"
    }
   ],
   "source": [
    "acc = history.history['acc']\n",
    "val_acc = history.history['val_acc']\n",
    "loss = history.history['loss']\n",
    "val_loss = history.history['val_loss']\n",
    "\n",
    "epochs = range(len(acc))\n",
    "\n",
    "plt.plot(epochs, acc, 'bo', label='Training acc')\n",
    "plt.plot(epochs, val_acc, 'b', label='Validation acc')\n",
    "plt.title('Training and validation accuracy')\n",
    "plt.legend()\n",
    "\n",
    "plt.figure()\n",
    "\n",
    "plt.plot(epochs, loss, 'bo', label='Training loss')\n",
    "plt.plot(epochs, val_loss, 'b', label='Validation loss')\n",
    "plt.title('Training and validation loss')\n",
    "plt.legend()\n",
    "\n",
    "plt.show()"
   ]
  },
  {
   "cell_type": "markdown",
   "id": "0eebbd50",
   "metadata": {},
   "source": [
    "지수 이동 평균으로 그래프 부드럽게:"
   ]
  },
  {
   "cell_type": "code",
   "execution_count": 32,
   "id": "aa7eaa48",
   "metadata": {
    "scrolled": true
   },
   "outputs": [
    {
     "data": {
      "image/png": "[encoded data removed]",
      "text/plain": [
       "<Figure size 432x288 with 1 Axes>"
      ]
     },
     "metadata": {
      "needs_background": "light"
     },
     "output_type": "display_data"
    },
    {
     "data": {
      "image/png": "[encoded data removed]",
      "text/plain": [
       "<Figure size 432x288 with 1 Axes>"
      ]
     },
     "metadata": {
      "needs_background": "light"
     },
     "output_type": "display_data"
    }
   ],
   "source": [
    "def smooth_curve(points, factor=0.8):\n",
    "    smoothed_points = []\n",
    "    for point in points:\n",
    "        if smoothed_points:\n",
    "            previous = smoothed_points[-1]\n",
    "            smoothed_points.append(previous * factor + point * (1 - factor))\n",
    "        else:\n",
    "            smoothed_points.append(point)\n",
    "    return smoothed_points\n",
    "\n",
    "plt.plot(epochs,\n",
    "         smooth_curve(acc), 'bo', label='Smoothed training acc')\n",
    "plt.plot(epochs,\n",
    "         smooth_curve(val_acc), 'b', label='Smoothed validation acc')\n",
    "plt.title('Training and validation accuracy')\n",
    "plt.legend()\n",
    "\n",
    "plt.figure()\n",
    "\n",
    "plt.plot(epochs,\n",
    "         smooth_curve(loss), 'bo', label='Smoothed training loss')\n",
    "plt.plot(epochs,\n",
    "         smooth_curve(val_loss), 'b', label='Smoothed validation loss')\n",
    "plt.title('Training and validation loss')\n",
    "plt.legend()\n",
    "\n",
    "plt.show()"
   ]
  },
  {
   "cell_type": "markdown",
   "id": "ebe5373f",
   "metadata": {},
   "source": [
    "#### loss 곡선은 악화되었는데 어떻게 정확도가 향상되었지?\n",
    "그래프는 개별적인 손실 값의 평균  \n",
    "정확도에 영향 미치는 것은 **손실 값의 분포!!**(정확도는 모델이 예측한 클래스 확률이 어떤 임계값을 넘었는지에 대한 결과)\\\n",
    "=> 모델이 더 향상되더라도 평균 손실에 반영되지 않을 수 있다."
   ]
  },
  {
   "cell_type": "markdown",
   "id": "01968948",
   "metadata": {},
   "source": [
    "### 테스트 데이터로 모델 평가하기"
   ]
  },
  {
   "cell_type": "code",
   "execution_count": 33,
   "id": "5ae6a0c1",
   "metadata": {},
   "outputs": [
    {
     "name": "stdout",
     "output_type": "stream",
     "text": [
      "Found 1000 images belonging to 2 classes.\n"
     ]
    },
    {
     "name": "stderr",
     "output_type": "stream",
     "text": [
      "/var/folders/9_/z_nr8_hd32x51b1zx2flsn080000gn/T/ipykernel_18712/2632914869.py:7: UserWarning: `Model.evaluate_generator` is deprecated and will be removed in a future version. Please use `Model.evaluate`, which supports generators.\n",
      "  test_loss, test_acc = model.evaluate_generator(test_generator, steps=50)\n"
     ]
    },
    {
     "name": "stdout",
     "output_type": "stream",
     "text": [
      "test acc: 0.9110000729560852\n"
     ]
    }
   ],
   "source": [
    "test_generator = test_datagen.flow_from_directory(\n",
    "        test_dir,\n",
    "        target_size=(150, 150),\n",
    "        batch_size=20,\n",
    "        class_mode='binary')\n",
    "\n",
    "test_loss, test_acc = model.evaluate_generator(test_generator, steps=50)\n",
    "print('test acc:', test_acc)"
   ]
  },
  {
   "cell_type": "markdown",
   "id": "28ff4d0f",
   "metadata": {},
   "source": [
    "---\n",
    "## 정리\n",
    "1. Convnet은 컴퓨터 비전 작업에 가장 뛰어난 머신 러닝 모델,, 아주 작은 데이터셋도 괜찮은 성능 보인다.\n",
    "2. **작은 데이터셋은 과대적합**이 큰 문제! -> **데이터 증식**으로 억제하자\n",
    "3. **특성 추출**로 새로운 데이터셋에 **기존 convnet 재사용** 가능!\n",
    "4. 특성 추출을 보완하기 위해 **미세조정** 사용(미세조정: 기존 모델에서 전에 학습한 표현의 일부를 새로운 문제에 적응시키는 방법)"
   ]
  },
  {
   "cell_type": "code",
   "execution_count": null,
   "id": "0a2db0fd",
   "metadata": {},
   "outputs": [],
   "source": []
  }
 ],
 "metadata": {
  "kernelspec": {
   "display_name": "Python 3 (ipykernel)",
   "language": "python",
   "name": "python3"
  },
  "language_info": {
   "codemirror_mode": {
    "name": "ipython",
    "version": 3
   },
   "file_extension": ".py",
   "mimetype": "text/x-python",
   "name": "python",
   "nbconvert_exporter": "python",
   "pygments_lexer": "ipython3",
   "version": "3.8.12"
  }
 },
 "nbformat": 4,
 "nbformat_minor": 5
}
