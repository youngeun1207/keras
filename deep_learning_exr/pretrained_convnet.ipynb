{
 "cells": [
  {
   "cell_type": "code",
   "execution_count": 9,
   "id": "f7b436cb",
   "metadata": {},
   "outputs": [
    {
     "name": "stdout",
     "output_type": "stream",
     "text": [
      "Model: \"vgg16\"\n",
      "_________________________________________________________________\n",
      " Layer (type)                Output Shape              Param #   \n",
      "=================================================================\n",
      " input_3 (InputLayer)        [(None, 150, 150, 3)]     0         \n",
      "                                                                 \n",
      " block1_conv1 (Conv2D)       (None, 150, 150, 64)      1792      \n",
      "                                                                 \n",
      " block1_conv2 (Conv2D)       (None, 150, 150, 64)      36928     \n",
      "                                                                 \n",
      " block1_pool (MaxPooling2D)  (None, 75, 75, 64)        0         \n",
      "                                                                 \n",
      " block2_conv1 (Conv2D)       (None, 75, 75, 128)       73856     \n",
      "                                                                 \n",
      " block2_conv2 (Conv2D)       (None, 75, 75, 128)       147584    \n",
      "                                                                 \n",
      " block2_pool (MaxPooling2D)  (None, 37, 37, 128)       0         \n",
      "                                                                 \n",
      " block3_conv1 (Conv2D)       (None, 37, 37, 256)       295168    \n",
      "                                                                 \n",
      " block3_conv2 (Conv2D)       (None, 37, 37, 256)       590080    \n",
      "                                                                 \n",
      " block3_conv3 (Conv2D)       (None, 37, 37, 256)       590080    \n",
      "                                                                 \n",
      " block3_pool (MaxPooling2D)  (None, 18, 18, 256)       0         \n",
      "                                                                 \n",
      " block4_conv1 (Conv2D)       (None, 18, 18, 512)       1180160   \n",
      "                                                                 \n",
      " block4_conv2 (Conv2D)       (None, 18, 18, 512)       2359808   \n",
      "                                                                 \n",
      " block4_conv3 (Conv2D)       (None, 18, 18, 512)       2359808   \n",
      "                                                                 \n",
      " block4_pool (MaxPooling2D)  (None, 9, 9, 512)         0         \n",
      "                                                                 \n",
      " block5_conv1 (Conv2D)       (None, 9, 9, 512)         2359808   \n",
      "                                                                 \n",
      " block5_conv2 (Conv2D)       (None, 9, 9, 512)         2359808   \n",
      "                                                                 \n",
      " block5_conv3 (Conv2D)       (None, 9, 9, 512)         2359808   \n",
      "                                                                 \n",
      " block5_pool (MaxPooling2D)  (None, 4, 4, 512)         0         \n",
      "                                                                 \n",
      "=================================================================\n",
      "Total params: 14,714,688\n",
      "Trainable params: 14,714,688\n",
      "Non-trainable params: 0\n",
      "_________________________________________________________________\n"
     ]
    }
   ],
   "source": [
    "# VGG16 합성곱 기반 층 만들기\n",
    "from tensorflow.keras.applications import VGG16\n",
    "\n",
    "conv_base = VGG16(weights='imagenet', #모델 초기화할 가중치 체크포인트 지정\n",
    "                 include_top= False, # 최상위 완전연결분류기 포함 여부\n",
    "                 input_shape=(150, 150, 3)) # 네트워크에 주입할 이미지 텐서 크기\n",
    "\n",
    "conv_base.summary()"
   ]
  },
  {
   "cell_type": "code",
   "execution_count": 10,
   "id": "698695fd",
   "metadata": {},
   "outputs": [
    {
     "name": "stdout",
     "output_type": "stream",
     "text": [
      "Found 2000 images belonging to 2 classes.\n"
     ]
    },
    {
     "name": "stderr",
     "output_type": "stream",
     "text": [
      "2022-03-22 13:34:14.099112: W tensorflow/core/platform/profile_utils/cpu_utils.cc:128] Failed to get CPU frequency: 0 Hz\n",
      "2022-03-22 13:34:14.151841: I tensorflow/core/grappler/optimizers/custom_graph_optimizer_registry.cc:113] Plugin optimizer for device_type GPU is enabled.\n"
     ]
    },
    {
     "name": "stdout",
     "output_type": "stream",
     "text": [
      "Found 1000 images belonging to 2 classes.\n",
      "Found 1000 images belonging to 2 classes.\n"
     ]
    }
   ],
   "source": [
    "# 1. 새로운 데이터셋에서 합성곱 기반 층 실행 후 출력을 numpy 배열로 디스크에 저장 -> 독립된 완전 연결 분류기에 입력\n",
    "# 빠르고 비용 적음 / 데이터 증식 사용 불가\n",
    "\n",
    "# 사전 훈련된 합성곱 기반 층을 사용한 특성 추출: ImageDataGenerator를 사용해 이미지와 레이블을 넘파이 배열로 추출\n",
    "import os\n",
    "import numpy as np\n",
    "from keras.preprocessing.image import ImageDataGenerator\n",
    "\n",
    "base_dir = '../datasets/cats_and_dogs_small'\n",
    "train_dir = os.path.join(base_dir, 'train')\n",
    "validation_dir = os.path.join(base_dir, 'validation')\n",
    "test_dir = os.path.join(base_dir, 'test')\n",
    "\n",
    "datagen = ImageDataGenerator(rescale=1./255)\n",
    "batch_size = 20\n",
    "\n",
    "def extract_features(directory, sample_count):\n",
    "    features = np.zeros(shape=(sample_count, 4, 4, 512))\n",
    "    labels = np.zeros(shape=(sample_count))\n",
    "    generator = datagen.flow_from_directory(\n",
    "        directory,\n",
    "        target_size=(150, 150),\n",
    "        batch_size=batch_size,\n",
    "        class_mode='binary')\n",
    "    i = 0\n",
    "    for inputs_batch, labels_batch in generator:\n",
    "        features_batch = conv_base.predict(inputs_batch) # conv_base 모델의 predict 메소드 호출해 이미지의 특성 추출\n",
    "        features[i * batch_size : (i + 1) * batch_size] = features_batch\n",
    "        labels[i * batch_size : (i + 1) * batch_size] = labels_batch\n",
    "        i += 1\n",
    "        if i * batch_size >= sample_count:\n",
    "            break # 제너레이터는 루프 안에서 무한하게 데이터를 만들어내므로 모든 이미지를 한 번씩 처리하고 나면 중지\n",
    "    return features, labels\n",
    "\n",
    "train_features, train_labels = extract_features(train_dir, 2000)\n",
    "validation_features, validation_labels = extract_features(validation_dir, 1000)\n",
    "test_features, test_labels = extract_features(test_dir, 1000)"
   ]
  },
  {
   "cell_type": "code",
   "execution_count": 11,
   "id": "add3dbf7",
   "metadata": {},
   "outputs": [],
   "source": [
    "# 추출된 특성의 크기: (samples, 4, 4, 512)\n",
    "# 완전 연결 분류기에 주입하기 위해 (samples, 8192) 크기로 펼치기\n",
    "train_features = np.reshape(train_features, (2000, 4 * 4 * 512))\n",
    "validation_features = np.reshape(validation_features, (1000, 4 * 4 * 512))\n",
    "test_features = np.reshape(test_features, (1000, 4 * 4 * 512))"
   ]
  },
  {
   "cell_type": "code",
   "execution_count": 13,
   "id": "605ef2cd",
   "metadata": {},
   "outputs": [
    {
     "name": "stdout",
     "output_type": "stream",
     "text": [
      "Epoch 1/30\n"
     ]
    },
    {
     "name": "stderr",
     "output_type": "stream",
     "text": [
      "/Users/youngeun/miniforge3/envs/venv/lib/python3.8/site-packages/keras/optimizer_v2/rmsprop.py:130: UserWarning: The `lr` argument is deprecated, use `learning_rate` instead.\n",
      "  super(RMSprop, self).__init__(name, **kwargs)\n"
     ]
    },
    {
     "name": "stdout",
     "output_type": "stream",
     "text": [
      "\r",
      "  1/100 [..............................] - ETA: 31s - loss: 0.8680 - acc: 0.4000"
     ]
    },
    {
     "name": "stderr",
     "output_type": "stream",
     "text": [
      "2022-03-22 13:41:21.368798: I tensorflow/core/grappler/optimizers/custom_graph_optimizer_registry.cc:113] Plugin optimizer for device_type GPU is enabled.\n"
     ]
    },
    {
     "name": "stdout",
     "output_type": "stream",
     "text": [
      "100/100 [==============================] - 1s 12ms/step - loss: 0.5678 - acc: 0.7050 - val_loss: 0.4615 - val_acc: 0.8250\n",
      "Epoch 2/30\n",
      "  1/100 [..............................] - ETA: 0s - loss: 0.5323 - acc: 0.7000"
     ]
    },
    {
     "name": "stderr",
     "output_type": "stream",
     "text": [
      "2022-03-22 13:41:22.528837: I tensorflow/core/grappler/optimizers/custom_graph_optimizer_registry.cc:113] Plugin optimizer for device_type GPU is enabled.\n"
     ]
    },
    {
     "name": "stdout",
     "output_type": "stream",
     "text": [
      "100/100 [==============================] - 1s 9ms/step - loss: 0.4009 - acc: 0.8340 - val_loss: 0.3684 - val_acc: 0.8630\n",
      "Epoch 3/30\n",
      "100/100 [==============================] - 1s 9ms/step - loss: 0.3326 - acc: 0.8745 - val_loss: 0.3249 - val_acc: 0.8810\n",
      "Epoch 4/30\n",
      "100/100 [==============================] - 1s 9ms/step - loss: 0.2922 - acc: 0.8875 - val_loss: 0.2996 - val_acc: 0.8890\n",
      "Epoch 5/30\n",
      "100/100 [==============================] - 1s 9ms/step - loss: 0.2681 - acc: 0.9020 - val_loss: 0.2928 - val_acc: 0.8840\n",
      "Epoch 6/30\n",
      "100/100 [==============================] - 1s 9ms/step - loss: 0.2404 - acc: 0.9180 - val_loss: 0.2720 - val_acc: 0.8940\n",
      "Epoch 7/30\n",
      "100/100 [==============================] - 1s 9ms/step - loss: 0.2314 - acc: 0.9155 - val_loss: 0.2660 - val_acc: 0.8970\n",
      "Epoch 8/30\n",
      "100/100 [==============================] - 1s 9ms/step - loss: 0.2134 - acc: 0.9225 - val_loss: 0.2712 - val_acc: 0.8860\n",
      "Epoch 9/30\n",
      "100/100 [==============================] - 1s 9ms/step - loss: 0.2007 - acc: 0.9265 - val_loss: 0.2526 - val_acc: 0.9000\n",
      "Epoch 10/30\n",
      "100/100 [==============================] - 1s 9ms/step - loss: 0.1886 - acc: 0.9310 - val_loss: 0.2677 - val_acc: 0.8820\n",
      "Epoch 11/30\n",
      "100/100 [==============================] - 1s 9ms/step - loss: 0.1840 - acc: 0.9310 - val_loss: 0.2516 - val_acc: 0.9040\n",
      "Epoch 12/30\n",
      "100/100 [==============================] - 1s 9ms/step - loss: 0.1749 - acc: 0.9380 - val_loss: 0.2480 - val_acc: 0.9050\n",
      "Epoch 13/30\n",
      "100/100 [==============================] - 1s 9ms/step - loss: 0.1586 - acc: 0.9430 - val_loss: 0.2406 - val_acc: 0.9070\n",
      "Epoch 14/30\n",
      "100/100 [==============================] - 1s 9ms/step - loss: 0.1574 - acc: 0.9430 - val_loss: 0.2393 - val_acc: 0.9040\n",
      "Epoch 15/30\n",
      "100/100 [==============================] - 1s 9ms/step - loss: 0.1500 - acc: 0.9505 - val_loss: 0.2402 - val_acc: 0.9040\n",
      "Epoch 16/30\n",
      "100/100 [==============================] - 1s 9ms/step - loss: 0.1457 - acc: 0.9515 - val_loss: 0.2379 - val_acc: 0.9050\n",
      "Epoch 17/30\n",
      "100/100 [==============================] - 1s 9ms/step - loss: 0.1363 - acc: 0.9550 - val_loss: 0.2413 - val_acc: 0.9020\n",
      "Epoch 18/30\n",
      "100/100 [==============================] - 1s 9ms/step - loss: 0.1292 - acc: 0.9600 - val_loss: 0.2390 - val_acc: 0.9020\n",
      "Epoch 19/30\n",
      "100/100 [==============================] - 1s 9ms/step - loss: 0.1237 - acc: 0.9595 - val_loss: 0.2404 - val_acc: 0.9030\n",
      "Epoch 20/30\n",
      "100/100 [==============================] - 1s 9ms/step - loss: 0.1189 - acc: 0.9610 - val_loss: 0.2486 - val_acc: 0.8970\n",
      "Epoch 21/30\n",
      "100/100 [==============================] - 1s 9ms/step - loss: 0.1184 - acc: 0.9580 - val_loss: 0.2414 - val_acc: 0.9010\n",
      "Epoch 22/30\n",
      "100/100 [==============================] - 1s 9ms/step - loss: 0.1115 - acc: 0.9640 - val_loss: 0.2459 - val_acc: 0.9010\n",
      "Epoch 23/30\n",
      "100/100 [==============================] - 1s 9ms/step - loss: 0.1059 - acc: 0.9665 - val_loss: 0.2455 - val_acc: 0.9020\n",
      "Epoch 24/30\n",
      "100/100 [==============================] - 1s 9ms/step - loss: 0.1032 - acc: 0.9695 - val_loss: 0.2464 - val_acc: 0.9020\n",
      "Epoch 25/30\n",
      "100/100 [==============================] - 1s 9ms/step - loss: 0.0975 - acc: 0.9715 - val_loss: 0.2568 - val_acc: 0.8940\n",
      "Epoch 26/30\n",
      "100/100 [==============================] - 1s 9ms/step - loss: 0.0948 - acc: 0.9695 - val_loss: 0.2391 - val_acc: 0.9020\n",
      "Epoch 27/30\n",
      "100/100 [==============================] - 1s 9ms/step - loss: 0.0917 - acc: 0.9750 - val_loss: 0.2560 - val_acc: 0.8950\n",
      "Epoch 28/30\n",
      "100/100 [==============================] - 1s 9ms/step - loss: 0.0886 - acc: 0.9710 - val_loss: 0.2468 - val_acc: 0.9040\n",
      "Epoch 29/30\n",
      "100/100 [==============================] - 1s 9ms/step - loss: 0.0842 - acc: 0.9755 - val_loss: 0.2477 - val_acc: 0.9030\n",
      "Epoch 30/30\n",
      "100/100 [==============================] - 1s 9ms/step - loss: 0.0819 - acc: 0.9780 - val_loss: 0.2506 - val_acc: 0.9010\n"
     ]
    }
   ],
   "source": [
    "# 완전 연결 분류기를 정의하고 저장된 데이터와 레이블을 사용해 훈련\n",
    "from keras import models\n",
    "from keras import layers\n",
    "from tensorflow.keras import optimizers\n",
    "\n",
    "model = models.Sequential()\n",
    "model.add(layers.Dense(256, activation='relu', input_dim=4 * 4 * 512))\n",
    "model.add(layers.Dropout(0.5)) # 드롭아웃 사용\n",
    "model.add(layers.Dense(1, activation='sigmoid'))\n",
    "\n",
    "model.compile(optimizer=optimizers.RMSprop(lr=2e-5),\n",
    "              loss='binary_crossentropy', # Dog vs Cat -> 이진분류\n",
    "              metrics=['acc'])\n",
    "\n",
    "history = model.fit(train_features, train_labels,\n",
    "                    epochs=30,\n",
    "                    batch_size=20,\n",
    "                    validation_data=(validation_features, validation_labels))"
   ]
  },
  {
   "cell_type": "code",
   "execution_count": 14,
   "id": "a7ec05c0",
   "metadata": {},
   "outputs": [
    {
     "data": {
      "image/png": "[encoded data removed]",
      "text/plain": [
       "<Figure size 432x288 with 1 Axes>"
      ]
     },
     "metadata": {
      "needs_background": "light"
     },
     "output_type": "display_data"
    },
    {
     "data": {
      "image/png": "[encoded data removed]",
      "text/plain": [
       "<Figure size 432x288 with 1 Axes>"
      ]
     },
     "metadata": {
      "needs_background": "light"
     },
     "output_type": "display_data"
    }
   ],
   "source": [
    "import matplotlib.pyplot as plt\n",
    "\n",
    "acc = history.history['acc']\n",
    "val_acc = history.history['val_acc']\n",
    "loss = history.history['loss']\n",
    "val_loss = history.history['val_loss']\n",
    "\n",
    "epochs = range(len(acc))\n",
    "\n",
    "plt.plot(epochs, acc, 'bo', label='Training acc')\n",
    "plt.plot(epochs, val_acc, 'b', label='Validation acc')\n",
    "plt.title('Training and validation accuracy')\n",
    "plt.legend()\n",
    "\n",
    "plt.figure()\n",
    "\n",
    "plt.plot(epochs, loss, 'bo', label='Training loss')\n",
    "plt.plot(epochs, val_loss, 'b', label='Validation loss')\n",
    "plt.title('Training and validation loss')\n",
    "plt.legend()\n",
    "\n",
    "plt.show()"
   ]
  },
  {
   "cell_type": "code",
   "execution_count": 16,
   "id": "b3577411",
   "metadata": {},
   "outputs": [
    {
     "name": "stdout",
     "output_type": "stream",
     "text": [
      "Model: \"sequential_3\"\n",
      "_________________________________________________________________\n",
      " Layer (type)                Output Shape              Param #   \n",
      "=================================================================\n",
      " vgg16 (Functional)          (None, 4, 4, 512)         14714688  \n",
      "                                                                 \n",
      " flatten_1 (Flatten)         (None, 8192)              0         \n",
      "                                                                 \n",
      " dense_6 (Dense)             (None, 256)               2097408   \n",
      "                                                                 \n",
      " dense_7 (Dense)             (None, 1)                 257       \n",
      "                                                                 \n",
      "=================================================================\n",
      "Total params: 16,812,353\n",
      "Trainable params: 16,812,353\n",
      "Non-trainable params: 0\n",
      "_________________________________________________________________\n"
     ]
    }
   ],
   "source": [
    "# conv_base 모델을 확장하고 입력 데이터를 사용해 엔드 투 엔드로 실행\n",
    "# 매우 느림 / 데이터 증식 사용 가능!\n",
    "\n",
    "from keras import models\n",
    "from keras import layers\n",
    "\n",
    "model = models.Sequential()\n",
    "model.add(conv_base)\n",
    "# 합성곱 기반 층 위에 완전 연결 분류기 추가\n",
    "model.add(layers.Flatten())\n",
    "model.add(layers.Dense(256, activation='relu'))\n",
    "model.add(layers.Dense(1, activation='sigmoid'))\n",
    "\n",
    "model.summary()"
   ]
  },
  {
   "cell_type": "code",
   "execution_count": 17,
   "id": "3c5b93ff",
   "metadata": {},
   "outputs": [
    {
     "name": "stdout",
     "output_type": "stream",
     "text": [
      "conv_base를 동결하기 전 훈련되는 가중치의 수: 30\n",
      "conv_base를 동결한 후 훈련되는 가중치의 수: 4\n"
     ]
    }
   ],
   "source": [
    "# 모델 컴파일 & 훈련 전에 합성곱 기반층 동결\n",
    "# 동결: 훈련하는 동안 가중치가 업데이트되지 않도록 막기(합성곱 기반층에 의해 사전에 학습된 표현이 훈련하는 동안 수정되지 않도록)\n",
    "print('conv_base를 동결하기 전 훈련되는 가중치의 수:', \n",
    "      len(model.trainable_weights))\n",
    "\n",
    "# 동결 -> 두 개의 Dense 층의 가중치만 훈련\n",
    "conv_base.trainable = False\n",
    "\n",
    "print('conv_base를 동결한 후 훈련되는 가중치의 수:', \n",
    "      len(model.trainable_weights))"
   ]
  },
  {
   "cell_type": "code",
   "execution_count": 18,
   "id": "38e2a775",
   "metadata": {},
   "outputs": [
    {
     "name": "stdout",
     "output_type": "stream",
     "text": [
      "Found 2000 images belonging to 2 classes.\n",
      "Found 1000 images belonging to 2 classes.\n",
      "Epoch 1/30\n"
     ]
    },
    {
     "name": "stderr",
     "output_type": "stream",
     "text": [
      "/Users/youngeun/miniforge3/envs/venv/lib/python3.8/site-packages/keras/optimizer_v2/rmsprop.py:130: UserWarning: The `lr` argument is deprecated, use `learning_rate` instead.\n",
      "  super(RMSprop, self).__init__(name, **kwargs)\n",
      "/var/folders/9_/z_nr8_hd32x51b1zx2flsn080000gn/T/ipykernel_17294/1696218862.py:34: UserWarning: `Model.fit_generator` is deprecated and will be removed in a future version. Please use `Model.fit`, which supports generators.\n",
      "  history = model.fit_generator(\n",
      "2022-03-22 14:00:46.982171: I tensorflow/core/grappler/optimizers/custom_graph_optimizer_registry.cc:113] Plugin optimizer for device_type GPU is enabled.\n",
      "2022-03-22 14:01:03.080008: I tensorflow/core/grappler/optimizers/custom_graph_optimizer_registry.cc:113] Plugin optimizer for device_type GPU is enabled.\n"
     ]
    },
    {
     "name": "stdout",
     "output_type": "stream",
     "text": [
      "100/100 - 24s - loss: 0.5585 - acc: 0.7335 - val_loss: 0.4371 - val_acc: 0.8270 - 24s/epoch - 241ms/step\n",
      "Epoch 2/30\n",
      "100/100 - 24s - loss: 0.4161 - acc: 0.8265 - val_loss: 0.3507 - val_acc: 0.8720 - 24s/epoch - 236ms/step\n",
      "Epoch 3/30\n",
      "100/100 - 23s - loss: 0.3655 - acc: 0.8430 - val_loss: 0.3098 - val_acc: 0.8880 - 23s/epoch - 234ms/step\n",
      "Epoch 4/30\n",
      "100/100 - 23s - loss: 0.3302 - acc: 0.8690 - val_loss: 0.2879 - val_acc: 0.8880 - 23s/epoch - 235ms/step\n",
      "Epoch 5/30\n",
      "100/100 - 23s - loss: 0.3061 - acc: 0.8700 - val_loss: 0.2906 - val_acc: 0.8870 - 23s/epoch - 234ms/step\n",
      "Epoch 6/30\n",
      "100/100 - 23s - loss: 0.2898 - acc: 0.8800 - val_loss: 0.2676 - val_acc: 0.8930 - 23s/epoch - 232ms/step\n",
      "Epoch 7/30\n",
      "100/100 - 23s - loss: 0.2835 - acc: 0.8820 - val_loss: 0.2611 - val_acc: 0.8950 - 23s/epoch - 234ms/step\n",
      "Epoch 8/30\n",
      "100/100 - 23s - loss: 0.2652 - acc: 0.8895 - val_loss: 0.2516 - val_acc: 0.9030 - 23s/epoch - 234ms/step\n",
      "Epoch 9/30\n",
      "100/100 - 24s - loss: 0.2569 - acc: 0.9010 - val_loss: 0.2714 - val_acc: 0.8940 - 24s/epoch - 235ms/step\n",
      "Epoch 10/30\n",
      "100/100 - 24s - loss: 0.2513 - acc: 0.9045 - val_loss: 0.2528 - val_acc: 0.9050 - 24s/epoch - 235ms/step\n",
      "Epoch 11/30\n",
      "100/100 - 23s - loss: 0.2465 - acc: 0.8985 - val_loss: 0.2455 - val_acc: 0.9030 - 23s/epoch - 234ms/step\n",
      "Epoch 12/30\n",
      "100/100 - 24s - loss: 0.2464 - acc: 0.9015 - val_loss: 0.2422 - val_acc: 0.9060 - 24s/epoch - 238ms/step\n",
      "Epoch 13/30\n",
      "100/100 - 24s - loss: 0.2298 - acc: 0.9105 - val_loss: 0.2390 - val_acc: 0.9090 - 24s/epoch - 236ms/step\n",
      "Epoch 14/30\n",
      "100/100 - 24s - loss: 0.2330 - acc: 0.9060 - val_loss: 0.2375 - val_acc: 0.9080 - 24s/epoch - 239ms/step\n",
      "Epoch 15/30\n",
      "100/100 - 24s - loss: 0.2204 - acc: 0.9140 - val_loss: 0.2348 - val_acc: 0.9140 - 24s/epoch - 243ms/step\n",
      "Epoch 16/30\n",
      "100/100 - 24s - loss: 0.2242 - acc: 0.9065 - val_loss: 0.2366 - val_acc: 0.9110 - 24s/epoch - 239ms/step\n",
      "Epoch 17/30\n",
      "100/100 - 24s - loss: 0.2240 - acc: 0.9085 - val_loss: 0.2458 - val_acc: 0.9010 - 24s/epoch - 238ms/step\n",
      "Epoch 18/30\n",
      "100/100 - 24s - loss: 0.2153 - acc: 0.9140 - val_loss: 0.2352 - val_acc: 0.9100 - 24s/epoch - 235ms/step\n",
      "Epoch 19/30\n",
      "100/100 - 23s - loss: 0.1991 - acc: 0.9200 - val_loss: 0.2350 - val_acc: 0.9150 - 23s/epoch - 234ms/step\n",
      "Epoch 20/30\n",
      "100/100 - 23s - loss: 0.2130 - acc: 0.9105 - val_loss: 0.2334 - val_acc: 0.9100 - 23s/epoch - 234ms/step\n",
      "Epoch 21/30\n",
      "100/100 - 23s - loss: 0.2125 - acc: 0.9125 - val_loss: 0.2433 - val_acc: 0.9040 - 23s/epoch - 234ms/step\n",
      "Epoch 22/30\n",
      "100/100 - 23s - loss: 0.2085 - acc: 0.9195 - val_loss: 0.2330 - val_acc: 0.9090 - 23s/epoch - 235ms/step\n",
      "Epoch 23/30\n",
      "100/100 - 23s - loss: 0.2090 - acc: 0.9195 - val_loss: 0.2418 - val_acc: 0.9050 - 23s/epoch - 232ms/step\n",
      "Epoch 24/30\n",
      "100/100 - 23s - loss: 0.2016 - acc: 0.9195 - val_loss: 0.2340 - val_acc: 0.9070 - 23s/epoch - 235ms/step\n",
      "Epoch 25/30\n",
      "100/100 - 23s - loss: 0.1974 - acc: 0.9240 - val_loss: 0.2328 - val_acc: 0.9070 - 23s/epoch - 234ms/step\n",
      "Epoch 26/30\n",
      "100/100 - 23s - loss: 0.1914 - acc: 0.9245 - val_loss: 0.2341 - val_acc: 0.9120 - 23s/epoch - 234ms/step\n",
      "Epoch 27/30\n",
      "100/100 - 23s - loss: 0.1893 - acc: 0.9245 - val_loss: 0.2493 - val_acc: 0.9010 - 23s/epoch - 233ms/step\n",
      "Epoch 28/30\n",
      "100/100 - 23s - loss: 0.1889 - acc: 0.9280 - val_loss: 0.2357 - val_acc: 0.9070 - 23s/epoch - 233ms/step\n",
      "Epoch 29/30\n",
      "100/100 - 23s - loss: 0.1836 - acc: 0.9295 - val_loss: 0.2343 - val_acc: 0.9060 - 23s/epoch - 233ms/step\n",
      "Epoch 30/30\n",
      "100/100 - 23s - loss: 0.1879 - acc: 0.9235 - val_loss: 0.2340 - val_acc: 0.9080 - 23s/epoch - 233ms/step\n"
     ]
    }
   ],
   "source": [
    "# 동결된 합성곱 기반 층과 함께 모델 엔드-투-엔드로 훈련\n",
    "from keras.preprocessing.image import ImageDataGenerator\n",
    "\n",
    "# 데이터 증식 사용 가능!!\n",
    "train_datagen = ImageDataGenerator(\n",
    "      rescale=1./255,\n",
    "      rotation_range=20,\n",
    "      width_shift_range=0.1,\n",
    "      height_shift_range=0.1,\n",
    "      shear_range=0.1,\n",
    "      zoom_range=0.1,\n",
    "      horizontal_flip=True,\n",
    "      fill_mode='nearest')\n",
    "\n",
    "# 검증 데이터는 증식 X\n",
    "test_datagen = ImageDataGenerator(rescale=1./255)\n",
    "\n",
    "train_generator = train_datagen.flow_from_directory(\n",
    "        train_dir, # 타깃 디렉토리\n",
    "        target_size=(150, 150), # 모든 이미지의 크기를 150 × 150로 변경\n",
    "        batch_size=20,\n",
    "        class_mode='binary')# binary_crossentropy 손실을 사용하므로 이진 레이블 필요\n",
    "\n",
    "validation_generator = test_datagen.flow_from_directory(\n",
    "        validation_dir,\n",
    "        target_size=(150, 150),\n",
    "        batch_size=20,\n",
    "        class_mode='binary')\n",
    "\n",
    "model.compile(loss='binary_crossentropy',\n",
    "              optimizer=optimizers.RMSprop(lr=2e-5),\n",
    "              metrics=['acc'])\n",
    "\n",
    "history = model.fit_generator(\n",
    "      train_generator,\n",
    "      steps_per_epoch=100,\n",
    "      epochs=30,\n",
    "      validation_data=validation_generator,\n",
    "      validation_steps=50,\n",
    "      verbose=2)"
   ]
  },
  {
   "cell_type": "code",
   "execution_count": 19,
   "id": "cbdb588e",
   "metadata": {},
   "outputs": [],
   "source": [
    "# 모델 저장\n",
    "model.save('cats_and_dogs_small_3.h5')"
   ]
  },
  {
   "cell_type": "code",
   "execution_count": 20,
   "id": "7bff57a4",
   "metadata": {},
   "outputs": [
    {
     "data": {
      "image/png": "[encoded data removed]",
      "text/plain": [
       "<Figure size 432x288 with 1 Axes>"
      ]
     },
     "metadata": {
      "needs_background": "light"
     },
     "output_type": "display_data"
    },
    {
     "data": {
      "image/png": "[encoded data removed]",
      "text/plain": [
       "<Figure size 432x288 with 1 Axes>"
      ]
     },
     "metadata": {
      "needs_background": "light"
     },
     "output_type": "display_data"
    }
   ],
   "source": [
    "acc = history.history['acc']\n",
    "val_acc = history.history['val_acc']\n",
    "loss = history.history['loss']\n",
    "val_loss = history.history['val_loss']\n",
    "\n",
    "epochs = range(len(acc))\n",
    "\n",
    "plt.plot(epochs, acc, 'bo', label='Training acc')\n",
    "plt.plot(epochs, val_acc, 'b', label='Validation acc')\n",
    "plt.title('Training and validation accuracy')\n",
    "plt.legend()\n",
    "\n",
    "plt.figure()\n",
    "\n",
    "plt.plot(epochs, loss, 'bo', label='Training loss')\n",
    "plt.plot(epochs, val_loss, 'b', label='Validation loss')\n",
    "plt.title('Training and validation loss')\n",
    "plt.legend()\n",
    "\n",
    "plt.show()"
   ]
  },
  {
   "cell_type": "code",
   "execution_count": null,
   "id": "6d2fccb1",
   "metadata": {},
   "outputs": [],
   "source": []
  }
 ],
 "metadata": {
  "kernelspec": {
   "display_name": "Python 3 (ipykernel)",
   "language": "python",
   "name": "python3"
  },
  "language_info": {
   "codemirror_mode": {
    "name": "ipython",
    "version": 3
   },
   "file_extension": ".py",
   "mimetype": "text/x-python",
   "name": "python",
   "nbconvert_exporter": "python",
   "pygments_lexer": "ipython3",
   "version": "3.8.12"
  }
 },
 "nbformat": 4,
 "nbformat_minor": 5
}
