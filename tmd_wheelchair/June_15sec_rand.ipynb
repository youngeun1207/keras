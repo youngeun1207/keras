{
  "nbformat": 4,
  "nbformat_minor": 0,
  "metadata": {
    "colab": {
      "name": "June_15sec_rand",
      "provenance": [],
      "collapsed_sections": [],
      "mount_file_id": "1os4Zz_tsxKPjJCv2wGc0LlKQwcut3L4K",
      "authorship_tag": "ABX9TyNBAPvyhbBf0mVF87nOBhQ6",
      "include_colab_link": true
    },
    "kernelspec": {
      "name": "python3",
      "display_name": "Python 3"
    },
    "language_info": {
      "name": "python"
    },
    "accelerator": "GPU"
  },
  "cells": [
    {
      "cell_type": "markdown",
      "metadata": {
        "id": "view-in-github",
        "colab_type": "text"
      },
      "source": [
        "<a href=\"https://colab.research.google.com/github/youngeun1207/keras/blob/main/tmd_wheelchair/June_15sec_rand.ipynb\" target=\"_parent\"><img src=\"https://colab.research.google.com/assets/colab-badge.svg\" alt=\"Open In Colab\"/></a>"
      ]
    },
    {
      "cell_type": "code",
      "source": [
        "from google.colab import drive\n",
        "drive.mount('/content/drive')"
      ],
      "metadata": {
        "colab": {
          "base_uri": "https://localhost:8080/"
        },
        "id": "3uBHsL9xncWi",
        "outputId": "8cddb9de-4c88-49d5-919c-7ab140ff7fd1",
        "collapsed": true
      },
      "execution_count": 1,
      "outputs": [
        {
          "output_type": "stream",
          "name": "stdout",
          "text": [
            "Mounted at /content/drive\n"
          ]
        }
      ]
    },
    {
      "cell_type": "code",
      "source": [
        "import pandas as pd\n",
        "import numpy as np"
      ],
      "metadata": {
        "id": "eAKLNxfm_iKp"
      },
      "execution_count": 2,
      "outputs": []
    },
    {
      "cell_type": "code",
      "source": [
        "train_data = np.load('/content/drive/MyDrive/TMD_data/train_15s_data.npy')\n",
        "train_label = np.load('/content/drive/MyDrive/TMD_data/train_15s_label.npy')\n",
        "\n",
        "val_data = np.load('/content/drive/MyDrive/TMD_data/valid_15s_data.npy')\n",
        "val_label= np.load('/content/drive/MyDrive/TMD_data/valid_15s_label.npy')"
      ],
      "metadata": {
        "id": "fxDNCOReLkhA"
      },
      "execution_count": 3,
      "outputs": []
    },
    {
      "cell_type": "code",
      "source": [
        "data = np.concatenate([train_data, val_data])\n",
        "label = np.concatenate([train_label, val_label])\n",
        "del train_data\n",
        "del val_data\n",
        "del train_label\n",
        "del val_label\n",
        "\n",
        "np.save(\"/content/drive/MyDrive/full_data_15sec\", data)\n",
        "np.save(\"/content/drive/MyDrive/full_label_15sec\", label)"
      ],
      "metadata": {
        "id": "N6iDLcnmm3nT"
      },
      "execution_count": 4,
      "outputs": []
    },
    {
      "cell_type": "code",
      "source": [
        "data = np.load('/content/drive/MyDrive/full_data_15sec.npy')\n",
        "label = np.load('/content/drive/MyDrive/full_label_15sec.npy')"
      ],
      "metadata": {
        "id": "Bv18F3W6nQpI"
      },
      "execution_count": null,
      "outputs": []
    },
    {
      "cell_type": "code",
      "source": [
        "# random sampling\n",
        "from sklearn.model_selection import train_test_split\n",
        "\n",
        "train_data, val_data, train_label, val_label = train_test_split(data, label, test_size=0.2, shuffle=True, stratify=label, random_state=34)\n",
        "\n",
        "del data\n",
        "del label"
      ],
      "metadata": {
        "id": "o1491E4jnYPE"
      },
      "execution_count": 5,
      "outputs": []
    },
    {
      "cell_type": "code",
      "source": [
        "print(train_data.shape)\n",
        "print(train_label.shape)\n",
        "print(val_data.shape)\n",
        "print(val_label.shape)"
      ],
      "metadata": {
        "colab": {
          "base_uri": "https://localhost:8080/"
        },
        "id": "G_eN1ET-xkgw",
        "outputId": "57713e8d-4127-4901-98b9-43f0f432c94b"
      },
      "execution_count": 6,
      "outputs": [
        {
          "output_type": "stream",
          "name": "stdout",
          "text": [
            "(6983, 900, 10)\n",
            "(6983, 7)\n",
            "(1746, 900, 10)\n",
            "(1746, 7)\n"
          ]
        }
      ]
    },
    {
      "cell_type": "code",
      "source": [
        "# CRNN with 3층 GRU\n",
        "# crnn_gru_3layers\n",
        "import tensorflow as tf\n",
        "from keras import regularizers\n",
        "from keras.backend import dropout\n",
        "from keras.models import Sequential\n",
        "from keras import layers\n",
        "from tensorflow.keras.optimizers import RMSprop\n",
        "\n",
        "model_crnn = Sequential()\n",
        "model_crnn.add(layers.Conv1D(64, 5, activation='relu',input_shape=((train_data.shape[1:]))))\n",
        "model_crnn.add(layers.MaxPooling1D(5))\n",
        "model_crnn.add(layers.Conv1D(128, 5, activation='relu'))\n",
        "model_crnn.add(layers.MaxPooling1D(5))\n",
        "model_crnn.add(layers.Dropout(0.5))\n",
        "model_crnn.add(layers.GRU(128, return_sequences = True))\n",
        "model_crnn.add(layers.GRU(64, dropout=0.3, return_sequences = True))\n",
        "model_crnn.add(layers.GRU(32, dropout=0.3))\n",
        "model_crnn.add(layers.Dense(7, activation='softmax'))\n",
        "\n",
        "model_crnn.summary()\n",
        "\n",
        "model_crnn.compile(optimizer='rmsprop',\n",
        "             loss= 'categorical_crossentropy',\n",
        "             metrics= ['accuracy'])\n",
        "\n",
        "history = model_crnn.fit(train_data,\n",
        "                         train_label,\n",
        "                         epochs=1000,\n",
        "                         batch_size=2048,\n",
        "                         validation_data = (val_data, val_label),\n",
        "                         verbose=0)"
      ],
      "metadata": {
        "id": "gwi2U-AhBT4I",
        "colab": {
          "base_uri": "https://localhost:8080/"
        },
        "outputId": "b868853d-8f39-44b4-e78c-c969e1adfca3"
      },
      "execution_count": 9,
      "outputs": [
        {
          "output_type": "stream",
          "name": "stdout",
          "text": [
            "Model: \"sequential_1\"\n",
            "_________________________________________________________________\n",
            " Layer (type)                Output Shape              Param #   \n",
            "=================================================================\n",
            " conv1d_2 (Conv1D)           (None, 896, 64)           3264      \n",
            "                                                                 \n",
            " max_pooling1d_2 (MaxPooling  (None, 179, 64)          0         \n",
            " 1D)                                                             \n",
            "                                                                 \n",
            " conv1d_3 (Conv1D)           (None, 175, 128)          41088     \n",
            "                                                                 \n",
            " max_pooling1d_3 (MaxPooling  (None, 35, 128)          0         \n",
            " 1D)                                                             \n",
            "                                                                 \n",
            " dropout_1 (Dropout)         (None, 35, 128)           0         \n",
            "                                                                 \n",
            " gru_3 (GRU)                 (None, 35, 128)           99072     \n",
            "                                                                 \n",
            " gru_4 (GRU)                 (None, 35, 64)            37248     \n",
            "                                                                 \n",
            " gru_5 (GRU)                 (None, 32)                9408      \n",
            "                                                                 \n",
            " dense_1 (Dense)             (None, 7)                 231       \n",
            "                                                                 \n",
            "=================================================================\n",
            "Total params: 190,311\n",
            "Trainable params: 190,311\n",
            "Non-trainable params: 0\n",
            "_________________________________________________________________\n"
          ]
        }
      ]
    },
    {
      "cell_type": "code",
      "source": [
        "model_crnn.save('/content/drive/MyDrive/TmdJune/15sec_rand/CRNN_GRU_3layers.h5')\n",
        "model_crnn.evaluate(val_data, val_label)\n",
        "\n",
        "# CRNN with 3층 GRU\n",
        "# accuracy: 0.9066\n",
        "import matplotlib.pyplot as plt\n",
        "\n",
        "acc = history.history['accuracy']\n",
        "val_acc = history.history['val_accuracy']\n",
        "\n",
        "epochs = range(1, len(acc)+1)\n",
        "\n",
        "plt.plot(epochs, acc, 'r', label='Training acc')\n",
        "plt.plot(epochs, val_acc, 'b', label='Validation acc')\n",
        "plt.title('Training and validation acc')\n",
        "plt.xlabel('Epochs')\n",
        "plt.ylabel('Acc')\n",
        "plt.legend()\n",
        "\n",
        "plt.show()"
      ],
      "metadata": {
        "colab": {
          "base_uri": "https://localhost:8080/",
          "height": 314
        },
        "id": "c4hq_Yxc_Lg7",
        "outputId": "7d5681dd-7cde-4782-e8b2-d781497a10b0"
      },
      "execution_count": 10,
      "outputs": [
        {
          "output_type": "stream",
          "name": "stdout",
          "text": [
            "55/55 [==============================] - 0s 6ms/step - loss: 0.4789 - accuracy: 0.9066\n"
          ]
        },
        {
          "output_type": "display_data",
          "data": {
            "text/plain": [
              "<Figure size 432x288 with 1 Axes>"
            ],
            "image/png": "[encoded data removed]"
          },
          "metadata": {
            "needs_background": "light"
          }
        }
      ]
    },
    {
      "cell_type": "code",
      "source": [
        "# CRNN cnn층 크게 \n",
        "# crnn_gru_2layers\n",
        "from keras import regularizers\n",
        "from keras.backend import dropout\n",
        "from keras.models import Sequential\n",
        "from keras import layers\n",
        "from tensorflow.keras.optimizers import RMSprop\n",
        "\n",
        "model_crnn = Sequential()\n",
        "model_crnn.add(layers.Conv1D(32, 5, activation='relu', input_shape=((train_data.shape[1:]))))\n",
        "model_crnn.add(layers.MaxPooling1D(5))\n",
        "model_crnn.add(layers.Conv1D(64, 5, activation='relu'))\n",
        "model_crnn.add(layers.MaxPooling1D(5))\n",
        "model_crnn.add(layers.Conv1D(128, 5, activation='relu'))\n",
        "model_crnn.add(layers.MaxPooling1D(5))\n",
        "model_crnn.add(layers.Dropout(0.5))\n",
        "model_crnn.add(layers.GRU(128, dropout=0.5, return_sequences = True))\n",
        "model_crnn.add(layers.GRU(64, dropout=0.5))\n",
        "model_crnn.add(layers.Dense(7, activation='softmax'))\n",
        "\n",
        "model_crnn.summary()\n",
        "\n",
        "model_crnn.compile(optimizer='rmsprop',\n",
        "                   loss= 'categorical_crossentropy',\n",
        "                   metrics= ['accuracy'])\n",
        "\n",
        "history = model_crnn.fit(train_data,\n",
        "                         train_label,\n",
        "                         epochs=1000,\n",
        "                         batch_size=2048,\n",
        "                         validation_data = (val_data, val_label),\n",
        "                         verbose=0)"
      ],
      "metadata": {
        "id": "WPgfJufaHj00",
        "colab": {
          "base_uri": "https://localhost:8080/"
        },
        "outputId": "c62c8f7f-c4f5-43ea-97d7-fbe7b5a94876"
      },
      "execution_count": 11,
      "outputs": [
        {
          "output_type": "stream",
          "name": "stdout",
          "text": [
            "Model: \"sequential_2\"\n",
            "_________________________________________________________________\n",
            " Layer (type)                Output Shape              Param #   \n",
            "=================================================================\n",
            " conv1d_4 (Conv1D)           (None, 896, 32)           1632      \n",
            "                                                                 \n",
            " max_pooling1d_4 (MaxPooling  (None, 179, 32)          0         \n",
            " 1D)                                                             \n",
            "                                                                 \n",
            " conv1d_5 (Conv1D)           (None, 175, 64)           10304     \n",
            "                                                                 \n",
            " max_pooling1d_5 (MaxPooling  (None, 35, 64)           0         \n",
            " 1D)                                                             \n",
            "                                                                 \n",
            " conv1d_6 (Conv1D)           (None, 31, 128)           41088     \n",
            "                                                                 \n",
            " max_pooling1d_6 (MaxPooling  (None, 6, 128)           0         \n",
            " 1D)                                                             \n",
            "                                                                 \n",
            " dropout_2 (Dropout)         (None, 6, 128)            0         \n",
            "                                                                 \n",
            " gru_6 (GRU)                 (None, 6, 128)            99072     \n",
            "                                                                 \n",
            " gru_7 (GRU)                 (None, 64)                37248     \n",
            "                                                                 \n",
            " dense_2 (Dense)             (None, 7)                 455       \n",
            "                                                                 \n",
            "=================================================================\n",
            "Total params: 189,799\n",
            "Trainable params: 189,799\n",
            "Non-trainable params: 0\n",
            "_________________________________________________________________\n"
          ]
        }
      ]
    },
    {
      "cell_type": "code",
      "source": [
        "model_crnn.save('/content/drive/MyDrive/TmdJune/15sec_rand/CRNN_GRU_2layers.h5')\n",
        "model_crnn.evaluate(val_data, val_label)\n",
        "\n",
        "# crnn_gru_2layers\n",
        "# accuracy: 0.9221\n",
        "import matplotlib.pyplot as plt\n",
        "\n",
        "acc = history.history['accuracy']\n",
        "val_acc = history.history['val_accuracy']\n",
        "\n",
        "epochs = range(1, len(acc)+1)\n",
        "\n",
        "plt.plot(epochs, acc, 'r', label='Training acc')\n",
        "plt.plot(epochs, val_acc, 'b', label='Validation acc')\n",
        "plt.title('Training and validation acc')\n",
        "plt.xlabel('Epochs')\n",
        "plt.ylabel('Acc')\n",
        "plt.legend()\n",
        "\n",
        "plt.show()"
      ],
      "metadata": {
        "colab": {
          "base_uri": "https://localhost:8080/",
          "height": 314
        },
        "id": "NmN4uXy5HOTv",
        "outputId": "b920e73a-caae-4884-f944-dd9b38f01a91"
      },
      "execution_count": 12,
      "outputs": [
        {
          "output_type": "stream",
          "name": "stdout",
          "text": [
            "55/55 [==============================] - 0s 6ms/step - loss: 0.3739 - accuracy: 0.9221\n"
          ]
        },
        {
          "output_type": "display_data",
          "data": {
            "text/plain": [
              "<Figure size 432x288 with 1 Axes>"
            ],
            "image/png": "[encoded data removed]"
          },
          "metadata": {
            "needs_background": "light"
          }
        }
      ]
    },
    {
      "cell_type": "code",
      "source": [
        "# CRNN LSTM lr 감소\n",
        "# crnn_lstm_3layers\n",
        "import tensorflow as tf\n",
        "from keras import regularizers\n",
        "from keras.backend import dropout\n",
        "from keras.models import Sequential\n",
        "from keras import layers\n",
        "from tensorflow.keras.optimizers import RMSprop\n",
        "\n",
        "model_crnn = Sequential()\n",
        "model_crnn.add(layers.Conv1D(64, 5, activation='relu',\n",
        "                             input_shape=((train_data.shape[1:]))))\n",
        "model_crnn.add(layers.MaxPooling1D(5))\n",
        "model_crnn.add(layers.Conv1D(128, 5, activation='relu'))\n",
        "model_crnn.add(layers.MaxPooling1D(5))\n",
        "model_crnn.add(layers.Dropout(0.5))\n",
        "model_crnn.add(layers.LSTM(128, dropout=0.5, return_sequences = True))\n",
        "model_crnn.add(layers.LSTM(128, dropout=0.5, return_sequences = True))\n",
        "model_crnn.add(layers.LSTM(64, dropout=0.5))\n",
        "model_crnn.add(layers.Dense(7, activation='softmax'))\n",
        "\n",
        "model_crnn.summary()\n",
        "\n",
        "rmsprop = tf.keras.optimizers.RMSprop(lr=0.0008)\n",
        "\n",
        "model_crnn.compile(optimizer=rmsprop,\n",
        "                   loss= 'categorical_crossentropy',\n",
        "                   metrics= ['accuracy'])\n",
        "\n",
        "history = model_crnn.fit(train_data,\n",
        "                    train_label,\n",
        "                    epochs=1000,\n",
        "                    batch_size=2048,\n",
        "                    validation_data = (val_data, val_label),\n",
        "                    verbose=0)"
      ],
      "metadata": {
        "id": "5lIDj7STuxW6",
        "colab": {
          "base_uri": "https://localhost:8080/"
        },
        "outputId": "f8fdd9b9-63d7-439a-87e4-29f589ce9051"
      },
      "execution_count": 13,
      "outputs": [
        {
          "output_type": "stream",
          "name": "stdout",
          "text": [
            "Model: \"sequential_3\"\n",
            "_________________________________________________________________\n",
            " Layer (type)                Output Shape              Param #   \n",
            "=================================================================\n",
            " conv1d_7 (Conv1D)           (None, 896, 64)           3264      \n",
            "                                                                 \n",
            " max_pooling1d_7 (MaxPooling  (None, 179, 64)          0         \n",
            " 1D)                                                             \n",
            "                                                                 \n",
            " conv1d_8 (Conv1D)           (None, 175, 128)          41088     \n",
            "                                                                 \n",
            " max_pooling1d_8 (MaxPooling  (None, 35, 128)          0         \n",
            " 1D)                                                             \n",
            "                                                                 \n",
            " dropout_3 (Dropout)         (None, 35, 128)           0         \n",
            "                                                                 \n",
            " lstm (LSTM)                 (None, 35, 128)           131584    \n",
            "                                                                 \n",
            " lstm_1 (LSTM)               (None, 35, 128)           131584    \n",
            "                                                                 \n",
            " lstm_2 (LSTM)               (None, 64)                49408     \n",
            "                                                                 \n",
            " dense_3 (Dense)             (None, 7)                 455       \n",
            "                                                                 \n",
            "=================================================================\n",
            "Total params: 357,383\n",
            "Trainable params: 357,383\n",
            "Non-trainable params: 0\n",
            "_________________________________________________________________\n"
          ]
        },
        {
          "output_type": "stream",
          "name": "stderr",
          "text": [
            "/usr/local/lib/python3.7/dist-packages/keras/optimizer_v2/rmsprop.py:130: UserWarning: The `lr` argument is deprecated, use `learning_rate` instead.\n",
            "  super(RMSprop, self).__init__(name, **kwargs)\n"
          ]
        }
      ]
    },
    {
      "cell_type": "code",
      "source": [
        "model_crnn.save('/content/drive/MyDrive/TmdJune/15sec_rand/CRNN_LSTM_3layers.h5')\n",
        "model_crnn.evaluate(val_data, val_label)\n",
        "\n",
        "# crnn_lstm_3layers\n",
        "# accuracy: 0.9336\n",
        "import matplotlib.pyplot as plt\n",
        "\n",
        "acc = history.history['accuracy']\n",
        "val_acc = history.history['val_accuracy']\n",
        "\n",
        "epochs = range(1, len(acc)+1)\n",
        "\n",
        "plt.plot(epochs, acc, 'r', label='Training acc')\n",
        "plt.plot(epochs, val_acc, 'b', label='Validation acc')\n",
        "plt.title('Training and validation acc')\n",
        "plt.xlabel('Epochs')\n",
        "plt.ylabel('Acc')\n",
        "plt.legend()\n",
        "\n",
        "plt.show()"
      ],
      "metadata": {
        "id": "h-TXNbP8rUMi",
        "colab": {
          "base_uri": "https://localhost:8080/",
          "height": 314
        },
        "outputId": "76e00c2d-573b-419c-f8ae-c80dc7312387"
      },
      "execution_count": 14,
      "outputs": [
        {
          "output_type": "stream",
          "name": "stdout",
          "text": [
            "55/55 [==============================] - 0s 6ms/step - loss: 0.3352 - accuracy: 0.9336\n"
          ]
        },
        {
          "output_type": "display_data",
          "data": {
            "text/plain": [
              "<Figure size 432x288 with 1 Axes>"
            ],
            "image/png": "[encoded data removed]"
          },
          "metadata": {
            "needs_background": "light"
          }
        }
      ]
    },
    {
      "cell_type": "code",
      "source": [
        "# 3층 1D CNN\n",
        "# 1Dcnn_3layers\n",
        "from keras import regularizers\n",
        "from keras.backend import dropout\n",
        "from keras.models import Sequential\n",
        "from keras import layers\n",
        "from tensorflow.keras.optimizers import RMSprop\n",
        "\n",
        "model_cnn = Sequential()\n",
        "model_cnn.add(layers.Conv1D(32, 5, activation='relu', input_shape=((train_data.shape[1:]))))\n",
        "model_cnn.add(layers.MaxPooling1D(3))\n",
        "model_cnn.add(layers.Dropout(0.3))\n",
        "model_cnn.add(layers.Conv1D(64, 5, activation='relu'))\n",
        "model_cnn.add(layers.MaxPooling1D(3))\n",
        "model_cnn.add(layers.Dropout(0.3))\n",
        "model_cnn.add(layers.Conv1D(128, 5, activation='relu'))\n",
        "model_cnn.add(layers.Flatten())\n",
        "model_cnn.add(layers.Dense(7, activation='softmax'))\n",
        "\n",
        "model_cnn.summary()\n",
        "\n",
        "model_cnn.compile(optimizer='rmsprop',\n",
        "             loss= 'categorical_crossentropy',\n",
        "             metrics= ['accuracy'])\n",
        "\n",
        "history = model_cnn.fit(train_data,\n",
        "                        train_label,\n",
        "                        epochs=1000,\n",
        "                        batch_size=2048,\n",
        "                        verbose=0,\n",
        "                        validation_data = (val_data, val_label))"
      ],
      "metadata": {
        "id": "srnqNEWXGIhN",
        "colab": {
          "base_uri": "https://localhost:8080/"
        },
        "outputId": "c31d12a0-05aa-4634-9141-180260933f2a"
      },
      "execution_count": 15,
      "outputs": [
        {
          "output_type": "stream",
          "name": "stdout",
          "text": [
            "Model: \"sequential_4\"\n",
            "_________________________________________________________________\n",
            " Layer (type)                Output Shape              Param #   \n",
            "=================================================================\n",
            " conv1d_9 (Conv1D)           (None, 896, 32)           1632      \n",
            "                                                                 \n",
            " max_pooling1d_9 (MaxPooling  (None, 298, 32)          0         \n",
            " 1D)                                                             \n",
            "                                                                 \n",
            " dropout_4 (Dropout)         (None, 298, 32)           0         \n",
            "                                                                 \n",
            " conv1d_10 (Conv1D)          (None, 294, 64)           10304     \n",
            "                                                                 \n",
            " max_pooling1d_10 (MaxPoolin  (None, 98, 64)           0         \n",
            " g1D)                                                            \n",
            "                                                                 \n",
            " dropout_5 (Dropout)         (None, 98, 64)            0         \n",
            "                                                                 \n",
            " conv1d_11 (Conv1D)          (None, 94, 128)           41088     \n",
            "                                                                 \n",
            " flatten (Flatten)           (None, 12032)             0         \n",
            "                                                                 \n",
            " dense_4 (Dense)             (None, 7)                 84231     \n",
            "                                                                 \n",
            "=================================================================\n",
            "Total params: 137,255\n",
            "Trainable params: 137,255\n",
            "Non-trainable params: 0\n",
            "_________________________________________________________________\n"
          ]
        }
      ]
    },
    {
      "cell_type": "code",
      "source": [
        "model_cnn.save('/content/drive/MyDrive/TmdJune/15sec_rand/Conv1D.h5')\n",
        "model_cnn.evaluate(val_data, val_label)\n",
        "\n",
        "# 1Dcnn_3layers\n",
        "# accuracy: 0.8706\n",
        "import matplotlib.pyplot as plt\n",
        "\n",
        "acc = history.history['accuracy']\n",
        "val_acc = history.history['val_accuracy']\n",
        "\n",
        "epochs = range(1, len(acc)+1)\n",
        "\n",
        "plt.plot(epochs, acc, 'r', label='Training acc')\n",
        "plt.plot(epochs, val_acc, 'b', label='Validation acc')\n",
        "plt.title('Training and validation acc')\n",
        "plt.xlabel('Epochs')\n",
        "plt.ylabel('Acc')\n",
        "plt.legend()\n",
        "\n",
        "plt.show()"
      ],
      "metadata": {
        "id": "Zwa9Upr3Gahj",
        "colab": {
          "base_uri": "https://localhost:8080/",
          "height": 314
        },
        "outputId": "e1547641-a4b9-4906-adfe-fab3ade98ca4"
      },
      "execution_count": 16,
      "outputs": [
        {
          "output_type": "stream",
          "name": "stdout",
          "text": [
            "55/55 [==============================] - 0s 4ms/step - loss: 1.6515 - accuracy: 0.8706\n"
          ]
        },
        {
          "output_type": "display_data",
          "data": {
            "text/plain": [
              "<Figure size 432x288 with 1 Axes>"
            ],
            "image/png": "[encoded data removed]"
          },
          "metadata": {
            "needs_background": "light"
          }
        }
      ]
    },
    {
      "cell_type": "code",
      "source": [
        "# 1D CNN 4층\n",
        "# 1Dcnn_4layers\n",
        "from keras import regularizers\n",
        "from keras.backend import dropout\n",
        "from keras.models import Sequential\n",
        "from keras import layers\n",
        "from tensorflow.keras.optimizers import RMSprop\n",
        "\n",
        "model_cnn = Sequential()\n",
        "model_cnn.add(layers.Conv1D(32, 5, activation='relu', input_shape=((train_data.shape[1:]))))\n",
        "model_cnn.add(layers.MaxPooling1D(3))\n",
        "model_cnn.add(layers.Dropout(0.3))\n",
        "model_cnn.add(layers.Conv1D(64, 5, activation='relu'))\n",
        "model_cnn.add(layers.MaxPooling1D(3))\n",
        "model_cnn.add(layers.Dropout(0.3))\n",
        "model_cnn.add(layers.Conv1D(64, 5, activation='relu'))\n",
        "model_cnn.add(layers.MaxPooling1D(3))\n",
        "model_cnn.add(layers.Dropout(0.3))\n",
        "model_cnn.add(layers.Conv1D(128, 5, activation='relu'))\n",
        "model_cnn.add(layers.Flatten())\n",
        "model_cnn.add(layers.Dense(7, activation='softmax'))\n",
        "\n",
        "model_cnn.summary()\n",
        "\n",
        "model_cnn.compile(optimizer='rmsprop',\n",
        "             loss= 'categorical_crossentropy',\n",
        "             metrics= ['accuracy'])\n",
        "\n",
        "history = model_cnn.fit(train_data,\n",
        "                        train_label,\n",
        "                        epochs=1000,\n",
        "                        batch_size=2048,\n",
        "                        verbose=0,\n",
        "                        validation_data = (val_data, val_label))"
      ],
      "metadata": {
        "id": "jaE96c7lsT3n",
        "colab": {
          "base_uri": "https://localhost:8080/"
        },
        "outputId": "64d1c4cb-a49d-4eba-c21c-6c0d4aa2ac93"
      },
      "execution_count": 17,
      "outputs": [
        {
          "output_type": "stream",
          "name": "stdout",
          "text": [
            "Model: \"sequential_5\"\n",
            "_________________________________________________________________\n",
            " Layer (type)                Output Shape              Param #   \n",
            "=================================================================\n",
            " conv1d_12 (Conv1D)          (None, 896, 32)           1632      \n",
            "                                                                 \n",
            " max_pooling1d_11 (MaxPoolin  (None, 298, 32)          0         \n",
            " g1D)                                                            \n",
            "                                                                 \n",
            " dropout_6 (Dropout)         (None, 298, 32)           0         \n",
            "                                                                 \n",
            " conv1d_13 (Conv1D)          (None, 294, 64)           10304     \n",
            "                                                                 \n",
            " max_pooling1d_12 (MaxPoolin  (None, 98, 64)           0         \n",
            " g1D)                                                            \n",
            "                                                                 \n",
            " dropout_7 (Dropout)         (None, 98, 64)            0         \n",
            "                                                                 \n",
            " conv1d_14 (Conv1D)          (None, 94, 64)            20544     \n",
            "                                                                 \n",
            " max_pooling1d_13 (MaxPoolin  (None, 31, 64)           0         \n",
            " g1D)                                                            \n",
            "                                                                 \n",
            " dropout_8 (Dropout)         (None, 31, 64)            0         \n",
            "                                                                 \n",
            " conv1d_15 (Conv1D)          (None, 27, 128)           41088     \n",
            "                                                                 \n",
            " flatten_1 (Flatten)         (None, 3456)              0         \n",
            "                                                                 \n",
            " dense_5 (Dense)             (None, 7)                 24199     \n",
            "                                                                 \n",
            "=================================================================\n",
            "Total params: 97,767\n",
            "Trainable params: 97,767\n",
            "Non-trainable params: 0\n",
            "_________________________________________________________________\n"
          ]
        }
      ]
    },
    {
      "cell_type": "code",
      "source": [
        "model_cnn.save('/content/drive/MyDrive/TmdJune/15sec_rand/Conv1D_5layers.h5')\n",
        "model_cnn.evaluate(val_data, val_label)\n",
        "\n",
        "# 1Dcnn_4layers\n",
        "# accuracy: 0.9164\n",
        "import matplotlib.pyplot as plt\n",
        "\n",
        "acc = history.history['accuracy']\n",
        "val_acc = history.history['val_accuracy']\n",
        "\n",
        "epochs = range(1, len(acc)+1)\n",
        "\n",
        "plt.plot(epochs, acc, 'r', label='Training acc')\n",
        "plt.plot(epochs, val_acc, 'b', label='Validation acc')\n",
        "plt.title('Training and validation acc')\n",
        "plt.xlabel('Epochs')\n",
        "plt.ylabel('Acc')\n",
        "plt.legend()\n",
        "\n",
        "plt.show()"
      ],
      "metadata": {
        "colab": {
          "base_uri": "https://localhost:8080/",
          "height": 314
        },
        "id": "RI2lCTVp1FwC",
        "outputId": "30cf8810-beb1-470a-d6e6-b13d1c4ec572"
      },
      "execution_count": 18,
      "outputs": [
        {
          "output_type": "stream",
          "name": "stdout",
          "text": [
            "55/55 [==============================] - 0s 4ms/step - loss: 0.6062 - accuracy: 0.9164\n"
          ]
        },
        {
          "output_type": "display_data",
          "data": {
            "text/plain": [
              "<Figure size 432x288 with 1 Axes>"
            ],
            "image/png": "[encoded data removed]"
          },
          "metadata": {
            "needs_background": "light"
          }
        }
      ]
    },
    {
      "cell_type": "code",
      "source": [
        "# CRNN with 5층 GRU\n",
        "# crnn_gru_5layers\n",
        "import tensorflow as tf\n",
        "from keras import regularizers\n",
        "from keras.backend import dropout\n",
        "from keras.models import Sequential\n",
        "from keras import layers\n",
        "from tensorflow.keras.optimizers import RMSprop\n",
        "\n",
        "model_crnn = Sequential()\n",
        "model_crnn.add(layers.Conv1D(64, 5, activation='relu',input_shape=((train_data.shape[1:]))))\n",
        "model_crnn.add(layers.MaxPooling1D(5))\n",
        "model_crnn.add(layers.Conv1D(64, 5, activation='relu'))\n",
        "model_crnn.add(layers.MaxPooling1D(5))\n",
        "model_crnn.add(layers.Conv1D(128, 5, activation='relu'))\n",
        "model_crnn.add(layers.Conv1D(128, 5, activation='relu'))\n",
        "model_crnn.add(layers.MaxPooling1D(5))\n",
        "model_crnn.add(layers.Dropout(0.5))\n",
        "\n",
        "model_crnn.add(layers.GRU(128, return_sequences = True))\n",
        "model_crnn.add(layers.GRU(128, dropout=0.3, return_sequences = True))\n",
        "\n",
        "model_crnn.add(layers.GRU(64, dropout=0.3, return_sequences = True))\n",
        "model_crnn.add(layers.GRU(64, dropout=0.3, return_sequences = True))\n",
        "\n",
        "model_crnn.add(layers.GRU(32, dropout=0.3))\n",
        "model_crnn.add(layers.Dense(7, activation='softmax'))\n",
        "\n",
        "model_crnn.summary()\n",
        "\n",
        "model_crnn.compile(optimizer='rmsprop',\n",
        "             loss= 'categorical_crossentropy',\n",
        "             metrics= ['accuracy'])\n",
        "\n",
        "history = model_crnn.fit(train_data,\n",
        "                         train_label,\n",
        "                         epochs=500,\n",
        "                         batch_size=2048,\n",
        "                         validation_data = (val_data, val_label),\n",
        "                         verbose=0)"
      ],
      "metadata": {
        "id": "O5lOlSUe1uoT",
        "colab": {
          "base_uri": "https://localhost:8080/"
        },
        "outputId": "b6c24490-9e07-42e2-aee7-27c7b9516911"
      },
      "execution_count": 19,
      "outputs": [
        {
          "output_type": "stream",
          "name": "stdout",
          "text": [
            "Model: \"sequential_6\"\n",
            "_________________________________________________________________\n",
            " Layer (type)                Output Shape              Param #   \n",
            "=================================================================\n",
            " conv1d_16 (Conv1D)          (None, 896, 64)           3264      \n",
            "                                                                 \n",
            " max_pooling1d_14 (MaxPoolin  (None, 179, 64)          0         \n",
            " g1D)                                                            \n",
            "                                                                 \n",
            " conv1d_17 (Conv1D)          (None, 175, 64)           20544     \n",
            "                                                                 \n",
            " max_pooling1d_15 (MaxPoolin  (None, 35, 64)           0         \n",
            " g1D)                                                            \n",
            "                                                                 \n",
            " conv1d_18 (Conv1D)          (None, 31, 128)           41088     \n",
            "                                                                 \n",
            " conv1d_19 (Conv1D)          (None, 27, 128)           82048     \n",
            "                                                                 \n",
            " max_pooling1d_16 (MaxPoolin  (None, 5, 128)           0         \n",
            " g1D)                                                            \n",
            "                                                                 \n",
            " dropout_9 (Dropout)         (None, 5, 128)            0         \n",
            "                                                                 \n",
            " gru_8 (GRU)                 (None, 5, 128)            99072     \n",
            "                                                                 \n",
            " gru_9 (GRU)                 (None, 5, 128)            99072     \n",
            "                                                                 \n",
            " gru_10 (GRU)                (None, 5, 64)             37248     \n",
            "                                                                 \n",
            " gru_11 (GRU)                (None, 5, 64)             24960     \n",
            "                                                                 \n",
            " gru_12 (GRU)                (None, 32)                9408      \n",
            "                                                                 \n",
            " dense_6 (Dense)             (None, 7)                 231       \n",
            "                                                                 \n",
            "=================================================================\n",
            "Total params: 416,935\n",
            "Trainable params: 416,935\n",
            "Non-trainable params: 0\n",
            "_________________________________________________________________\n"
          ]
        }
      ]
    },
    {
      "cell_type": "code",
      "source": [
        "model_crnn.save('/content/drive/MyDrive/TmdJune/15sec_rand/crnn_GRU_5layers.h5')\n",
        "model_crnn.evaluate(val_data, val_label)\n",
        "\n",
        "# crnn_gru_5layers\n",
        "# accuracy: 0.9107\n",
        "import matplotlib.pyplot as plt\n",
        "\n",
        "acc = history.history['accuracy']\n",
        "val_acc = history.history['val_accuracy']\n",
        "\n",
        "epochs = range(1, len(acc)+1)\n",
        "\n",
        "plt.plot(epochs, acc, 'r', label='Training acc')\n",
        "plt.plot(epochs, val_acc, 'b', label='Validation acc')\n",
        "plt.title('Training and validation acc')\n",
        "plt.xlabel('Epochs')\n",
        "plt.ylabel('Acc')\n",
        "plt.legend()\n",
        "\n",
        "plt.show()"
      ],
      "metadata": {
        "colab": {
          "base_uri": "https://localhost:8080/",
          "height": 314
        },
        "id": "9J0XkEIt373_",
        "outputId": "842d7cc1-15a6-47df-8ea0-41250de4f7a5"
      },
      "execution_count": 20,
      "outputs": [
        {
          "output_type": "stream",
          "name": "stdout",
          "text": [
            "55/55 [==============================] - 1s 8ms/step - loss: 0.3979 - accuracy: 0.9107\n"
          ]
        },
        {
          "output_type": "display_data",
          "data": {
            "text/plain": [
              "<Figure size 432x288 with 1 Axes>"
            ],
            "image/png": "[encoded data removed]"
          },
          "metadata": {
            "needs_background": "light"
          }
        }
      ]
    }
  ]
}