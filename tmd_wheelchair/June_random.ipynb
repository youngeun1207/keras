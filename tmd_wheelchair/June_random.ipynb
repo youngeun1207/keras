{
  "nbformat": 4,
  "nbformat_minor": 0,
  "metadata": {
    "colab": {
      "name": "June_random",
      "provenance": [],
      "collapsed_sections": [],
      "mount_file_id": "1os4Zz_tsxKPjJCv2wGc0LlKQwcut3L4K",
      "authorship_tag": "ABX9TyOxqhsJ+C6/C+X9HHfNIPik",
      "include_colab_link": true
    },
    "kernelspec": {
      "name": "python3",
      "display_name": "Python 3"
    },
    "language_info": {
      "name": "python"
    },
    "accelerator": "GPU"
  },
  "cells": [
    {
      "cell_type": "markdown",
      "metadata": {
        "id": "view-in-github",
        "colab_type": "text"
      },
      "source": [
        "<a href=\"https://colab.research.google.com/github/youngeun1207/keras/blob/main/tmd_wheelchair/June_random.ipynb\" target=\"_parent\"><img src=\"https://colab.research.google.com/assets/colab-badge.svg\" alt=\"Open In Colab\"/></a>"
      ]
    },
    {
      "cell_type": "code",
      "source": [
        "from google.colab import drive\n",
        "drive.mount('/content/drive')"
      ],
      "metadata": {
        "colab": {
          "base_uri": "https://localhost:8080/"
        },
        "id": "3uBHsL9xncWi",
        "outputId": "5896318e-16c1-4449-c1d8-6de3001c0f08"
      },
      "execution_count": null,
      "outputs": [
        {
          "output_type": "stream",
          "name": "stdout",
          "text": [
            "Mounted at /content/drive\n"
          ]
        }
      ]
    },
    {
      "cell_type": "code",
      "source": [
        "import pandas as pd\n",
        "import numpy as np"
      ],
      "metadata": {
        "id": "eAKLNxfm_iKp"
      },
      "execution_count": null,
      "outputs": []
    },
    {
      "cell_type": "code",
      "source": [
        "train_data = np.load('/content/drive/MyDrive/TMD_data/train_5s_data.npy')\n",
        "train_label = np.load('/content/drive/MyDrive/TMD_data/train_5s_label.npy')\n",
        "\n",
        "val_data = np.load('/content/drive/MyDrive/TMD_data/valid_5s_data.npy')\n",
        "val_label= np.load('/content/drive/MyDrive/TMD_data/valid_5s_label.npy')"
      ],
      "metadata": {
        "id": "fxDNCOReLkhA"
      },
      "execution_count": null,
      "outputs": []
    },
    {
      "cell_type": "code",
      "source": [
        "data = np.concatenate([train_data, val_data])\n",
        "label = np.concatenate([train_label, val_label])\n",
        "del train_data\n",
        "del val_data\n",
        "del train_label\n",
        "del val_label\n",
        "\n",
        "np.save(\"/content/drive/MyDrive/full_data_5sec\", data)\n",
        "np.save(\"/content/drive/MyDrive/full_label_5sec\", label)"
      ],
      "metadata": {
        "id": "N6iDLcnmm3nT"
      },
      "execution_count": null,
      "outputs": []
    },
    {
      "cell_type": "code",
      "source": [
        "data = np.load('/content/drive/MyDrive/full_data_5sec.npy')\n",
        "label = np.load('/content/drive/MyDrive/full_label_5sec.npy')"
      ],
      "metadata": {
        "id": "Bv18F3W6nQpI"
      },
      "execution_count": null,
      "outputs": []
    },
    {
      "cell_type": "code",
      "source": [
        "# random sampling\n",
        "from sklearn.model_selection import train_test_split\n",
        "\n",
        "train_data, val_data, train_label, val_label = train_test_split(data, label, test_size=0.2, shuffle=True, stratify=label, random_state=34)\n",
        "\n",
        "del data\n",
        "del label"
      ],
      "metadata": {
        "id": "o1491E4jnYPE"
      },
      "execution_count": null,
      "outputs": []
    },
    {
      "cell_type": "code",
      "source": [
        "print(train_data.shape)\n",
        "print(train_label.shape)\n",
        "print(val_data.shape)\n",
        "print(val_label.shape)"
      ],
      "metadata": {
        "colab": {
          "base_uri": "https://localhost:8080/"
        },
        "id": "G_eN1ET-xkgw",
        "outputId": "fef0d30c-b6d1-4b4c-b92c-9aa3bdfc3924"
      },
      "execution_count": null,
      "outputs": [
        {
          "output_type": "stream",
          "name": "stdout",
          "text": [
            "(21274, 300, 10)\n",
            "(21274, 7)\n",
            "(5319, 300, 10)\n",
            "(5319, 7)\n"
          ]
        }
      ]
    },
    {
      "cell_type": "code",
      "source": [
        "# CRNN GRU\n",
        "from keras import regularizers\n",
        "from keras.backend import dropout\n",
        "from keras.models import Sequential\n",
        "from keras import layers\n",
        "from tensorflow.keras.optimizers import RMSprop\n",
        "\n",
        "model_crnn = Sequential()\n",
        "model_crnn.add(layers.Conv1D(64, 5, activation='relu', \n",
        "                             input_shape=((train_data.shape[1:]))))\n",
        "model_crnn.add(layers.MaxPooling1D(5))\n",
        "model_crnn.add(layers.Conv1D(128, 5, activation='relu'))\n",
        "model_crnn.add(layers.MaxPooling1D(5))\n",
        "model_crnn.add(layers.Dropout(0.5))\n",
        "model_crnn.add(layers.GRU(128, dropout=0.5, return_sequences = True))\n",
        "model_crnn.add(layers.GRU(64, dropout=0.5))\n",
        "model_crnn.add(layers.Dense(7, activation='softmax'))\n",
        "\n",
        "model_crnn.summary()\n",
        "\n",
        "model_crnn.compile(optimizer='rmsprop',\n",
        "             loss= 'categorical_crossentropy',\n",
        "             metrics= ['accuracy'])\n",
        "\n",
        "history = model_crnn.fit(train_data,\n",
        "                    train_label,\n",
        "                    epochs=1000,\n",
        "                    batch_size=2048,\n",
        "                    validation_data=(val_data, val_label),\n",
        "                    verbose=2)"
      ],
      "metadata": {
        "id": "WPgfJufaHj00"
      },
      "execution_count": null,
      "outputs": []
    },
    {
      "cell_type": "code",
      "source": [
        "model_crnn.save('/content/drive/MyDrive/TmdJune/5sec/CRNN_GRU_rand.h5')\n",
        "model_crnn.evaluate(val_data, val_label)\n",
        "\n",
        "# CRNN GRU\n",
        "# accuracy: 0.9381\n",
        "import matplotlib.pyplot as plt\n",
        "\n",
        "acc = history.history['accuracy']\n",
        "val_acc = history.history['val_accuracy']\n",
        "\n",
        "epochs = range(1, len(acc)+1)\n",
        "\n",
        "plt.plot(epochs, acc, 'r', label='Training acc')\n",
        "plt.plot(epochs, val_acc, 'b', label='Validation acc')\n",
        "plt.title('Training and validation acc')\n",
        "plt.xlabel('Epochs')\n",
        "plt.ylabel('Acc')\n",
        "plt.legend()\n",
        "\n",
        "plt.show()"
      ],
      "metadata": {
        "colab": {
          "base_uri": "https://localhost:8080/",
          "height": 314
        },
        "id": "NmN4uXy5HOTv",
        "outputId": "481320b4-ed26-4e81-e8da-0af3f38ca28e"
      },
      "execution_count": null,
      "outputs": [
        {
          "output_type": "stream",
          "name": "stdout",
          "text": [
            "167/167 [==============================] - 1s 4ms/step - loss: 0.3166 - accuracy: 0.9278\n"
          ]
        },
        {
          "output_type": "display_data",
          "data": {
            "text/plain": [
              "<Figure size 432x288 with 1 Axes>"
            ],
            "image/png": "[encoded data removed]"
          },
          "metadata": {
            "needs_background": "light"
          }
        }
      ]
    },
    {
      "cell_type": "code",
      "source": [
        "# CRNN LSTM lr 감소\n",
        "import tensorflow as tf\n",
        "from keras import regularizers\n",
        "from keras.backend import dropout\n",
        "from keras.models import Sequential\n",
        "from keras import layers\n",
        "from tensorflow.keras.optimizers import RMSprop\n",
        "\n",
        "model_crnn = Sequential()\n",
        "model_crnn.add(layers.Conv1D(64, 5, activation='relu',\n",
        "                             input_shape=((train_data.shape[1:]))))\n",
        "# model_crnn.add(layers.Dropout(0.3))\n",
        "model_crnn.add(layers.MaxPooling1D(5))\n",
        "model_crnn.add(layers.Conv1D(128, 5, activation='relu'))\n",
        "model_crnn.add(layers.MaxPooling1D(5))\n",
        "model_crnn.add(layers.Dropout(0.5))\n",
        "model_crnn.add(layers.LSTM(128, dropout=0.5, return_sequences = True))\n",
        "model_crnn.add(layers.LSTM(64, dropout=0.5))\n",
        "model_crnn.add(layers.Dense(7, activation='softmax'))\n",
        "\n",
        "model_crnn.summary()\n",
        "\n",
        "rmsprop = tf.keras.optimizers.RMSprop(lr=0.0009)\n",
        "\n",
        "model_crnn.compile(optimizer=rmsprop,\n",
        "                   loss= 'categorical_crossentropy',\n",
        "                   metrics= ['accuracy'])\n",
        "\n",
        "history = model_crnn.fit(train_data,\n",
        "                    train_label,\n",
        "                    epochs=1000,\n",
        "                    batch_size=2048,\n",
        "                    validation_data = (val_data, val_label),\n",
        "                    verbose=2)"
      ],
      "metadata": {
        "id": "pj-owffKUxyq"
      },
      "execution_count": null,
      "outputs": []
    },
    {
      "cell_type": "code",
      "source": [
        "model_crnn.save('/content/drive/MyDrive/TmdJune/5sec/CRNN_LSTM_rand.h5')\n",
        "model_crnn.evaluate(val_data, val_label)\n",
        "\n",
        "# CRNN with LSTM\n",
        "# accuracy: 0.9543\n",
        "import matplotlib.pyplot as plt\n",
        "\n",
        "acc = history.history['accuracy']\n",
        "val_acc = history.history['val_accuracy']\n",
        "\n",
        "epochs = range(1, len(acc)+1)\n",
        "\n",
        "plt.plot(epochs, acc, 'r', label='Training acc')\n",
        "plt.plot(epochs, val_acc, 'b', label='Validation acc')\n",
        "plt.title('Training and validation acc')\n",
        "plt.xlabel('Epochs')\n",
        "plt.ylabel('Acc')\n",
        "plt.legend()\n",
        "\n",
        "plt.show()"
      ],
      "metadata": {
        "colab": {
          "base_uri": "https://localhost:8080/",
          "height": 314
        },
        "id": "hGwM668fU5I7",
        "outputId": "dc5cc9cd-7fb1-4425-c4c5-41a121496f9e"
      },
      "execution_count": null,
      "outputs": [
        {
          "output_type": "stream",
          "name": "stdout",
          "text": [
            "167/167 [==============================] - 1s 4ms/step - loss: 0.2011 - accuracy: 0.9543\n"
          ]
        },
        {
          "output_type": "display_data",
          "data": {
            "text/plain": [
              "<Figure size 432x288 with 1 Axes>"
            ],
            "image/png": "[encoded data removed]"
          },
          "metadata": {
            "needs_background": "light"
          }
        }
      ]
    },
    {
      "cell_type": "code",
      "source": [
        "# 1D CNN\n",
        "from keras import regularizers\n",
        "from keras.backend import dropout\n",
        "from keras.models import Sequential\n",
        "from keras import layers\n",
        "from tensorflow.keras.optimizers import RMSprop\n",
        "\n",
        "model_cnn = Sequential()\n",
        "model_cnn.add(layers.Conv1D(64, 5, activation='relu',\n",
        "                            kernel_regularizer=regularizers.l2(0.001),\n",
        "                            input_shape=((train_data.shape[1:]))))\n",
        "model_cnn.add(layers.MaxPooling1D(5))\n",
        "model_cnn.add(layers.Dropout(0.5))\n",
        "model_cnn.add(layers.Conv1D(128, 5, activation='relu',\n",
        "                            kernel_regularizer=regularizers.l2(0.001)))\n",
        "model_cnn.add(layers.Flatten())\n",
        "model_cnn.add(layers.Dense(7, activation='softmax'))\n",
        "\n",
        "model_cnn.summary()\n",
        "\n",
        "model_cnn.compile(optimizer='rmsprop',\n",
        "             loss= 'categorical_crossentropy',\n",
        "             metrics= ['accuracy'])\n",
        "\n",
        "history = model_cnn.fit(train_data,\n",
        "                        train_label,\n",
        "                        epochs=1000,\n",
        "                        batch_size=2048,\n",
        "                        verbose=2,\n",
        "                        validation_data = (val_data, val_label))"
      ],
      "metadata": {
        "id": "N42hKz5lepVJ"
      },
      "execution_count": null,
      "outputs": []
    },
    {
      "cell_type": "code",
      "source": [
        "model_cnn.save('/content/drive/MyDrive/TmdJune/5sec/Conv1D_rand.h5')\n",
        "model_cnn.evaluate(val_data, val_label)\n",
        "\n",
        "# 2층 1D convnet\n",
        "# accuracy: 0.9039\n",
        "import matplotlib.pyplot as plt\n",
        "\n",
        "acc = history.history['accuracy']\n",
        "val_acc = history.history['val_accuracy']\n",
        "\n",
        "epochs = range(1, len(acc)+1)\n",
        "\n",
        "plt.plot(epochs, acc, 'r', label='Training acc')\n",
        "plt.plot(epochs, val_acc, 'b', label='Validation acc')\n",
        "plt.title('Training and validation acc')\n",
        "plt.xlabel('Epochs')\n",
        "plt.ylabel('Acc')\n",
        "plt.legend()\n",
        "\n",
        "plt.show()"
      ],
      "metadata": {
        "colab": {
          "base_uri": "https://localhost:8080/",
          "height": 314
        },
        "id": "wP1RsC_HfH5q",
        "outputId": "6b302597-ef4d-4994-9903-92ac1d6f4331"
      },
      "execution_count": null,
      "outputs": [
        {
          "output_type": "stream",
          "name": "stdout",
          "text": [
            "167/167 [==============================] - 0s 3ms/step - loss: 0.5060 - accuracy: 0.9039\n"
          ]
        },
        {
          "output_type": "display_data",
          "data": {
            "text/plain": [
              "<Figure size 432x288 with 1 Axes>"
            ],
            "image/png": "[encoded data removed]"
          },
          "metadata": {
            "needs_background": "light"
          }
        }
      ]
    },
    {
      "cell_type": "markdown",
      "source": [
        "---------"
      ],
      "metadata": {
        "id": "UO4j__jxJgfW"
      }
    }
  ]
}