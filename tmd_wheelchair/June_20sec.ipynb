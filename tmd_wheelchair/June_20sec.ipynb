{
  "nbformat": 4,
  "nbformat_minor": 0,
  "metadata": {
    "colab": {
      "name": "June_20sec",
      "provenance": [],
      "collapsed_sections": [],
      "mount_file_id": "1os4Zz_tsxKPjJCv2wGc0LlKQwcut3L4K",
      "authorship_tag": "ABX9TyMml/lBWb2v5tMvc/kbIXv7",
      "include_colab_link": true
    },
    "kernelspec": {
      "name": "python3",
      "display_name": "Python 3"
    },
    "language_info": {
      "name": "python"
    },
    "accelerator": "GPU"
  },
  "cells": [
    {
      "cell_type": "markdown",
      "metadata": {
        "id": "view-in-github",
        "colab_type": "text"
      },
      "source": [
        "<a href=\"https://colab.research.google.com/github/youngeun1207/keras/blob/main/tmd_wheelchair/June_20sec.ipynb\" target=\"_parent\"><img src=\"https://colab.research.google.com/assets/colab-badge.svg\" alt=\"Open In Colab\"/></a>"
      ]
    },
    {
      "cell_type": "code",
      "source": [
        "from google.colab import drive\n",
        "drive.mount('/content/drive')"
      ],
      "metadata": {
        "colab": {
          "base_uri": "https://localhost:8080/"
        },
        "id": "3uBHsL9xncWi",
        "outputId": "a5b4a1f7-4a80-4a25-f14b-2ac097e75636",
        "collapsed": true
      },
      "execution_count": null,
      "outputs": [
        {
          "output_type": "stream",
          "name": "stdout",
          "text": [
            "Mounted at /content/drive\n"
          ]
        }
      ]
    },
    {
      "cell_type": "code",
      "source": [
        "import pandas as pd\n",
        "import numpy as np"
      ],
      "metadata": {
        "id": "eAKLNxfm_iKp"
      },
      "execution_count": null,
      "outputs": []
    },
    {
      "cell_type": "code",
      "source": [
        "train_data = np.load('/content/drive/MyDrive/TMD_data/train_20s_data.npy')\n",
        "train_label = np.load('/content/drive/MyDrive/TMD_data/train_20s_label.npy')\n",
        "\n",
        "val_data = np.load('/content/drive/MyDrive/TMD_data/valid_20s_data.npy')\n",
        "val_label= np.load('/content/drive/MyDrive/TMD_data/valid_20s_label.npy')"
      ],
      "metadata": {
        "id": "fxDNCOReLkhA"
      },
      "execution_count": null,
      "outputs": []
    },
    {
      "cell_type": "code",
      "source": [
        "print(train_data.shape)\n",
        "print(train_label.shape)\n",
        "print(val_data.shape)\n",
        "print(val_label.shape)"
      ],
      "metadata": {
        "colab": {
          "base_uri": "https://localhost:8080/"
        },
        "id": "G_eN1ET-xkgw",
        "outputId": "5d740dab-2772-436b-ef29-5ff8f5b2e541"
      },
      "execution_count": null,
      "outputs": [
        {
          "output_type": "stream",
          "name": "stdout",
          "text": [
            "(5196, 1200, 9)\n",
            "(5196, 7)\n",
            "(1300, 1200, 9)\n",
            "(1300, 7)\n"
          ]
        }
      ]
    },
    {
      "cell_type": "code",
      "source": [
        "val_data = np.delete(val_data,0,2)\n",
        "train_data = np.delete(train_data,0,2)"
      ],
      "metadata": {
        "id": "vPQ8XcZYijDA"
      },
      "execution_count": null,
      "outputs": []
    },
    {
      "cell_type": "code",
      "source": [
        "# CRNN with 3층 GRU\n",
        "# crnn_gru_3layers\n",
        "import tensorflow as tf\n",
        "from keras import regularizers\n",
        "from keras.backend import dropout\n",
        "from keras.models import Sequential\n",
        "from keras import layers\n",
        "from tensorflow.keras.optimizers import RMSprop\n",
        "\n",
        "model_crnn = Sequential()\n",
        "model_crnn.add(layers.Conv1D(64, 5, activation='relu',input_shape=((train_data.shape[1:]))))\n",
        "model_crnn.add(layers.MaxPooling1D(5))\n",
        "model_crnn.add(layers.Conv1D(128, 5, activation='relu'))\n",
        "model_crnn.add(layers.MaxPooling1D(5))\n",
        "model_crnn.add(layers.Dropout(0.5))\n",
        "model_crnn.add(layers.GRU(128, return_sequences = True))\n",
        "model_crnn.add(layers.GRU(64, dropout=0.3, return_sequences = True))\n",
        "model_crnn.add(layers.GRU(32, dropout=0.3))\n",
        "model_crnn.add(layers.Dense(7, activation='softmax'))\n",
        "\n",
        "model_crnn.summary()\n",
        "\n",
        "model_crnn.compile(optimizer='rmsprop', loss='categorical_crossentropy', metrics=['accuracy'])\n",
        "\n",
        "history = model_crnn.fit(train_data,\n",
        "                         train_label,\n",
        "                         epochs=1000,\n",
        "                         batch_size=2048,\n",
        "                         validation_data = (val_data, val_label),\n",
        "                         verbose=2)"
      ],
      "metadata": {
        "id": "gwi2U-AhBT4I"
      },
      "execution_count": null,
      "outputs": []
    },
    {
      "cell_type": "code",
      "source": [
        "model_crnn.save('/content/drive/MyDrive/TmdJune/20sec/CRNN_GRU_3layers.h5')\n",
        "model_crnn.evaluate(val_data, val_label)\n",
        "\n",
        "# CRNN with 3층 GRU\n",
        "# accuracy: 0.7107\n",
        "import matplotlib.pyplot as plt\n",
        "\n",
        "acc = history.history['accuracy']\n",
        "val_acc = history.history['val_accuracy']\n",
        "\n",
        "epochs = range(1, len(acc)+1)\n",
        "\n",
        "plt.plot(epochs, acc, 'r', label='Training acc')\n",
        "plt.plot(epochs, val_acc, 'b', label='Validation acc')\n",
        "plt.title('Training and validation acc')\n",
        "plt.xlabel('Epochs')\n",
        "plt.ylabel('Acc')\n",
        "plt.legend()\n",
        "\n",
        "plt.show()"
      ],
      "metadata": {
        "id": "c4hq_Yxc_Lg7",
        "colab": {
          "base_uri": "https://localhost:8080/",
          "height": 314
        },
        "outputId": "c7497e32-b0b5-4988-9968-5269d4a651f5"
      },
      "execution_count": null,
      "outputs": [
        {
          "output_type": "stream",
          "name": "stdout",
          "text": [
            "35/35 [==============================] - 1s 8ms/step - loss: 1.5271 - accuracy: 0.7107\n"
          ]
        },
        {
          "output_type": "display_data",
          "data": {
            "text/plain": [
              "<Figure size 432x288 with 1 Axes>"
            ],
            "image/png": "[encoded data removed]"
          },
          "metadata": {
            "needs_background": "light"
          }
        }
      ]
    },
    {
      "cell_type": "code",
      "source": [
        "# CRNN cnn층 크게 \n",
        "# crnn_gru_2layers\n",
        "from keras import regularizers\n",
        "from keras.backend import dropout\n",
        "from keras.models import Sequential\n",
        "from keras import layers\n",
        "from tensorflow.keras.optimizers import RMSprop\n",
        "\n",
        "model_crnn = Sequential()\n",
        "model_crnn.add(layers.Conv1D(32, 5, activation='relu', input_shape=((train_data.shape[1:]))))\n",
        "model_crnn.add(layers.MaxPooling1D(5))\n",
        "model_crnn.add(layers.Conv1D(64, 5, activation='relu'))\n",
        "model_crnn.add(layers.MaxPooling1D(5))\n",
        "model_crnn.add(layers.Conv1D(128, 5, activation='relu'))\n",
        "model_crnn.add(layers.MaxPooling1D(5))\n",
        "model_crnn.add(layers.Dropout(0.5))\n",
        "model_crnn.add(layers.GRU(128, dropout=0.5, return_sequences = True))\n",
        "model_crnn.add(layers.GRU(64, dropout=0.5))\n",
        "model_crnn.add(layers.Dense(7, activation='softmax'))\n",
        "\n",
        "model_crnn.summary()\n",
        "\n",
        "model_crnn.compile(optimizer='rmsprop',\n",
        "                   loss= 'categorical_crossentropy',\n",
        "                   metrics= ['accuracy'])\n",
        "\n",
        "history = model_crnn.fit(train_data,\n",
        "                         train_label,\n",
        "                         epochs=1200,\n",
        "                         batch_size=2048,\n",
        "                         validation_data = (val_data, val_label),\n",
        "                         verbose=2)"
      ],
      "metadata": {
        "id": "WPgfJufaHj00"
      },
      "execution_count": null,
      "outputs": []
    },
    {
      "cell_type": "code",
      "source": [
        "model_crnn.save('/content/drive/MyDrive/TmdJune/20sec/CRNN_GRU_2layers.h5')\n",
        "model_crnn.evaluate(val_data, val_label)\n",
        "\n",
        "# crnn_gru_2layers\n",
        "# accuracy: 0.7063\n",
        "import matplotlib.pyplot as plt\n",
        "\n",
        "acc = history.history['accuracy']\n",
        "val_acc = history.history['val_accuracy']\n",
        "\n",
        "epochs = range(1, len(acc)+1)\n",
        "\n",
        "plt.plot(epochs, acc, 'r', label='Training acc')\n",
        "plt.plot(epochs, val_acc, 'b', label='Validation acc')\n",
        "plt.title('Training and validation acc')\n",
        "plt.xlabel('Epochs')\n",
        "plt.ylabel('Acc')\n",
        "plt.legend()\n",
        "\n",
        "plt.show()"
      ],
      "metadata": {
        "id": "NmN4uXy5HOTv",
        "colab": {
          "base_uri": "https://localhost:8080/",
          "height": 314
        },
        "outputId": "0b20bb38-3a6f-496a-e6df-79fa48ce36fb"
      },
      "execution_count": null,
      "outputs": [
        {
          "output_type": "stream",
          "name": "stdout",
          "text": [
            "35/35 [==============================] - 1s 5ms/step - loss: 1.7050 - accuracy: 0.6857\n"
          ]
        },
        {
          "output_type": "display_data",
          "data": {
            "text/plain": [
              "<Figure size 432x288 with 1 Axes>"
            ],
            "image/png": "[encoded data removed]"
          },
          "metadata": {
            "needs_background": "light"
          }
        }
      ]
    },
    {
      "cell_type": "code",
      "source": [
        "# CRNN LSTM lr 감소\n",
        "# crnn_lstm_3layers\n",
        "import tensorflow as tf\n",
        "from keras import regularizers\n",
        "from keras.backend import dropout\n",
        "from keras.models import Sequential\n",
        "from keras import layers\n",
        "from tensorflow.keras.optimizers import RMSprop\n",
        "\n",
        "model_crnn = Sequential()\n",
        "model_crnn.add(layers.Conv1D(64, 5, activation='relu',\n",
        "                             input_shape=((train_data.shape[1:]))))\n",
        "model_crnn.add(layers.MaxPooling1D(5))\n",
        "model_crnn.add(layers.Conv1D(128, 5, activation='relu'))\n",
        "model_crnn.add(layers.MaxPooling1D(5))\n",
        "model_crnn.add(layers.Dropout(0.5))\n",
        "model_crnn.add(layers.LSTM(128, dropout=0.5, return_sequences = True))\n",
        "model_crnn.add(layers.LSTM(128, dropout=0.5, return_sequences = True))\n",
        "model_crnn.add(layers.LSTM(64, dropout=0.5))\n",
        "model_crnn.add(layers.Dense(7, activation='softmax'))\n",
        "\n",
        "model_crnn.summary()\n",
        "\n",
        "rmsprop = tf.keras.optimizers.RMSprop(lr=0.0008)\n",
        "\n",
        "model_crnn.compile(optimizer=rmsprop,\n",
        "                   loss= 'categorical_crossentropy',\n",
        "                   metrics= ['accuracy'])\n",
        "\n",
        "history = model_crnn.fit(train_data,\n",
        "                    train_label,\n",
        "                    epochs=1000,\n",
        "                    batch_size=2048,\n",
        "                    validation_data = (val_data, val_label),\n",
        "                    verbose=2)"
      ],
      "metadata": {
        "id": "5lIDj7STuxW6"
      },
      "execution_count": null,
      "outputs": []
    },
    {
      "cell_type": "code",
      "source": [
        "model_crnn.save('/content/drive/MyDrive/TmdJune/20sec/CRNN_LSTM_3layers.h5')\n",
        "model_crnn.evaluate(val_data, val_label)\n",
        "\n",
        "# crnn_lstm_3layers\n",
        "# accuracy: \n",
        "import matplotlib.pyplot as plt\n",
        "\n",
        "acc = history.history['accuracy']\n",
        "val_acc = history.history['val_accuracy']\n",
        "\n",
        "epochs = range(1, len(acc)+1)\n",
        "\n",
        "plt.plot(epochs, acc, 'r', label='Training acc')\n",
        "plt.plot(epochs, val_acc, 'b', label='Validation acc')\n",
        "plt.title('Training and validation acc')\n",
        "plt.xlabel('Epochs')\n",
        "plt.ylabel('Acc')\n",
        "plt.legend()\n",
        "\n",
        "plt.show()"
      ],
      "metadata": {
        "id": "h-TXNbP8rUMi"
      },
      "execution_count": null,
      "outputs": []
    },
    {
      "cell_type": "code",
      "source": [
        "# 3층 1D CNN\n",
        "# 1Dcnn_3layers\n",
        "from keras import regularizers\n",
        "from keras.backend import dropout\n",
        "from keras.models import Sequential\n",
        "from keras import layers\n",
        "from tensorflow.keras.optimizers import RMSprop\n",
        "\n",
        "model_cnn = Sequential()\n",
        "model_cnn.add(layers.Conv1D(32, 5, activation='relu', input_shape=((train_data.shape[1:]))))\n",
        "model_cnn.add(layers.MaxPooling1D(3))\n",
        "model_cnn.add(layers.Dropout(0.3))\n",
        "model_cnn.add(layers.Conv1D(64, 5, activation='relu'))\n",
        "model_cnn.add(layers.MaxPooling1D(3))\n",
        "model_cnn.add(layers.Dropout(0.3))\n",
        "model_cnn.add(layers.Conv1D(128, 5, activation='relu'))\n",
        "model_cnn.add(layers.Flatten())\n",
        "model_cnn.add(layers.Dense(7, activation='softmax'))\n",
        "\n",
        "model_cnn.summary()\n",
        "\n",
        "model_cnn.compile(optimizer='rmsprop',\n",
        "             loss= 'categorical_crossentropy',\n",
        "             metrics= ['accuracy'])\n",
        "\n",
        "history = model_cnn.fit(train_data,\n",
        "                        train_label,\n",
        "                        epochs=1000,\n",
        "                        batch_size=2048,\n",
        "                        verbose=2,\n",
        "                        validation_data = (val_data, val_label))"
      ],
      "metadata": {
        "id": "srnqNEWXGIhN"
      },
      "execution_count": null,
      "outputs": []
    },
    {
      "cell_type": "code",
      "source": [
        "model_cnn.save('/content/drive/MyDrive/TmdJune/20sec/Conv1D.h5')\n",
        "model_cnn.evaluate(val_data, val_label)\n",
        "\n",
        "# 1Dcnn_3layers\n",
        "# accuracy: \n",
        "import matplotlib.pyplot as plt\n",
        "\n",
        "acc = history.history['accuracy']\n",
        "val_acc = history.history['val_accuracy']\n",
        "\n",
        "epochs = range(1, len(acc)+1)\n",
        "\n",
        "plt.plot(epochs, acc, 'r', label='Training acc')\n",
        "plt.plot(epochs, val_acc, 'b', label='Validation acc')\n",
        "plt.title('Training and validation acc')\n",
        "plt.xlabel('Epochs')\n",
        "plt.ylabel('Acc')\n",
        "plt.legend()\n",
        "\n",
        "plt.show()"
      ],
      "metadata": {
        "id": "Zwa9Upr3Gahj"
      },
      "execution_count": null,
      "outputs": []
    },
    {
      "cell_type": "code",
      "source": [
        "# 1D CNN 4층\n",
        "# 1Dcnn_4layers\n",
        "from keras import regularizers\n",
        "from keras.backend import dropout\n",
        "from keras.models import Sequential\n",
        "from keras import layers\n",
        "from tensorflow.keras.optimizers import RMSprop\n",
        "\n",
        "model_cnn = Sequential()\n",
        "model_cnn.add(layers.Conv1D(32, 5, activation='relu', input_shape=((train_data.shape[1:]))))\n",
        "model_cnn.add(layers.MaxPooling1D(3))\n",
        "model_cnn.add(layers.Dropout(0.3))\n",
        "model_cnn.add(layers.Conv1D(64, 5, activation='relu'))\n",
        "model_cnn.add(layers.MaxPooling1D(3))\n",
        "model_cnn.add(layers.Dropout(0.3))\n",
        "model_cnn.add(layers.Conv1D(64, 5, activation='relu'))\n",
        "model_cnn.add(layers.MaxPooling1D(3))\n",
        "model_cnn.add(layers.Dropout(0.3))\n",
        "model_cnn.add(layers.Conv1D(128, 5, activation='relu'))\n",
        "model_cnn.add(layers.Flatten())\n",
        "model_cnn.add(layers.Dense(7, activation='softmax'))\n",
        "\n",
        "model_cnn.summary()\n",
        "\n",
        "model_cnn.compile(optimizer='rmsprop',\n",
        "             loss= 'categorical_crossentropy',\n",
        "             metrics= ['accuracy'])\n",
        "\n",
        "history = model_cnn.fit(train_data,\n",
        "                        train_label,\n",
        "                        epochs=1000,\n",
        "                        batch_size=2048,\n",
        "                        verbose=2,\n",
        "                        validation_data = (val_data, val_label))"
      ],
      "metadata": {
        "id": "jaE96c7lsT3n"
      },
      "execution_count": null,
      "outputs": []
    },
    {
      "cell_type": "code",
      "source": [
        "model_cnn.save('/content/drive/MyDrive/TmdJune/20sec/Conv1D_5layers.h5')\n",
        "model_cnn.evaluate(val_data, val_label)\n",
        "\n",
        "# 1Dcnn_4layers\n",
        "# accuracy: 0.6518\n",
        "import matplotlib.pyplot as plt\n",
        "\n",
        "acc = history.history['accuracy']\n",
        "val_acc = history.history['val_accuracy']\n",
        "\n",
        "epochs = range(1, len(acc)+1)\n",
        "\n",
        "plt.plot(epochs, acc, 'r', label='Training acc')\n",
        "plt.plot(epochs, val_acc, 'b', label='Validation acc')\n",
        "plt.title('Training and validation acc')\n",
        "plt.xlabel('Epochs')\n",
        "plt.ylabel('Acc')\n",
        "plt.legend()\n",
        "\n",
        "plt.show()"
      ],
      "metadata": {
        "id": "RI2lCTVp1FwC"
      },
      "execution_count": null,
      "outputs": []
    },
    {
      "cell_type": "code",
      "source": [
        "# CRNN with 5층 GRU\n",
        "# crnn_gru_5layers\n",
        "import tensorflow as tf\n",
        "from keras import regularizers\n",
        "from keras.backend import dropout\n",
        "from keras.models import Sequential\n",
        "from keras import layers\n",
        "from tensorflow.keras.optimizers import RMSprop\n",
        "\n",
        "model_crnn = Sequential()\n",
        "model_crnn.add(layers.Conv1D(64, 5, activation='relu',input_shape=((train_data.shape[1:]))))\n",
        "model_crnn.add(layers.MaxPooling1D(5))\n",
        "model_crnn.add(layers.Conv1D(64, 5, activation='relu'))\n",
        "model_crnn.add(layers.MaxPooling1D(5))\n",
        "model_crnn.add(layers.Conv1D(128, 5, activation='relu'))\n",
        "model_crnn.add(layers.Conv1D(128, 5, activation='relu'))\n",
        "model_crnn.add(layers.MaxPooling1D(5))\n",
        "model_crnn.add(layers.Dropout(0.5))\n",
        "\n",
        "model_crnn.add(layers.GRU(128, return_sequences = True))\n",
        "model_crnn.add(layers.GRU(128, dropout=0.3, return_sequences = True))\n",
        "\n",
        "model_crnn.add(layers.GRU(64, dropout=0.3, return_sequences = True))\n",
        "model_crnn.add(layers.GRU(64, dropout=0.3, return_sequences = True))\n",
        "\n",
        "model_crnn.add(layers.GRU(32, dropout=0.3))\n",
        "model_crnn.add(layers.Dense(7, activation='softmax'))\n",
        "\n",
        "model_crnn.summary()\n",
        "\n",
        "model_crnn.compile(optimizer='rmsprop',\n",
        "             loss= 'categorical_crossentropy',\n",
        "             metrics= ['accuracy'])\n",
        "\n",
        "history = model_crnn.fit(train_data,\n",
        "                         train_label,\n",
        "                         epochs=500,\n",
        "                         batch_size=2048,\n",
        "                         validation_data = (val_data, val_label),\n",
        "                         verbose=2)"
      ],
      "metadata": {
        "id": "O5lOlSUe1uoT"
      },
      "execution_count": null,
      "outputs": []
    },
    {
      "cell_type": "code",
      "source": [
        "model_crnn.save('/content/drive/MyDrive/TmdJune/20sec/crnn_GRU_5layers.h5')\n",
        "model_crnn.evaluate(val_data, val_label)\n",
        "\n",
        "# crnn_gru_5layers\n",
        "# accuracy: \n",
        "import matplotlib.pyplot as plt\n",
        "\n",
        "acc = history.history['accuracy']\n",
        "val_acc = history.history['val_accuracy']\n",
        "\n",
        "epochs = range(1, len(acc)+1)\n",
        "\n",
        "plt.plot(epochs, acc, 'r', label='Training acc')\n",
        "plt.plot(epochs, val_acc, 'b', label='Validation acc')\n",
        "plt.title('Training and validation acc')\n",
        "plt.xlabel('Epochs')\n",
        "plt.ylabel('Acc')\n",
        "plt.legend()\n",
        "\n",
        "plt.show()"
      ],
      "metadata": {
        "id": "9J0XkEIt373_",
        "colab": {
          "base_uri": "https://localhost:8080/",
          "height": 314
        },
        "outputId": "0001a499-28a0-469d-be99-39379d0b2c7c"
      },
      "execution_count": null,
      "outputs": [
        {
          "output_type": "stream",
          "name": "stdout",
          "text": [
            "35/35 [==============================] - 2s 7ms/step - loss: 1.7972 - accuracy: 0.6536\n"
          ]
        },
        {
          "output_type": "display_data",
          "data": {
            "text/plain": [
              "<Figure size 432x288 with 1 Axes>"
            ],
            "image/png": "[encoded data removed]"
          },
          "metadata": {
            "needs_background": "light"
          }
        }
      ]
    },
    {
      "cell_type": "code",
      "source": [
        "# crnn_gru_best\n",
        "from keras import regularizers\n",
        "from keras.backend import dropout\n",
        "from keras.models import Sequential\n",
        "from keras import layers\n",
        "from tensorflow.keras.optimizers import RMSprop\n",
        "\n",
        "model_crnn = Sequential()\n",
        "model_crnn.add(layers.Conv1D(32, 5, activation='relu', input_shape=((train_data.shape[1:]))))\n",
        "model_crnn.add(layers.MaxPooling1D(5))\n",
        "model_crnn.add(layers.Conv1D(32, 5, activation='relu'))\n",
        "model_crnn.add(layers.MaxPooling1D(5))\n",
        "model_crnn.add(layers.Conv1D(64, 5, activation='relu'))\n",
        "model_crnn.add(layers.MaxPooling1D(5))\n",
        "model_crnn.add(layers.Conv1D(128, 5, activation='relu'))\n",
        "\n",
        "model_crnn.add(layers.Dropout(0.5))\n",
        "model_crnn.add(layers.GRU(128, dropout=0.5, return_sequences = True))\n",
        "model_crnn.add(layers.GRU(64, dropout=0.5, return_sequences = True))\n",
        "model_crnn.add(layers.GRU(32, dropout=0.5))\n",
        "model_crnn.add(layers.Dense(7, activation='softmax'))\n",
        "\n",
        "model_crnn.summary()\n",
        "\n",
        "model_crnn.compile(optimizer='rmsprop',\n",
        "                   loss= 'categorical_crossentropy',\n",
        "                   metrics= ['accuracy'])\n",
        "\n",
        "history = model_crnn.fit(train_data,\n",
        "                         train_label,\n",
        "                         epochs=1000,\n",
        "                         batch_size=2048,\n",
        "                         validation_data = (val_data, val_label),\n",
        "                         verbose=2)"
      ],
      "metadata": {
        "id": "7IszRByrc4aJ"
      },
      "execution_count": null,
      "outputs": []
    },
    {
      "cell_type": "code",
      "source": [
        "model_crnn.evaluate(val_data, val_label)\n",
        "\n",
        "# crnn_gru_best\n",
        "# accuracy: 0.7357\n",
        "import matplotlib.pyplot as plt\n",
        "\n",
        "acc = history.history['accuracy']\n",
        "val_acc = history.history['val_accuracy']\n",
        "\n",
        "epochs = range(1, len(acc)+1)\n",
        "\n",
        "plt.plot(epochs, acc, 'r', label='Training acc')\n",
        "plt.plot(epochs, val_acc, 'b', label='Validation acc')\n",
        "plt.title('Training and validation acc')\n",
        "plt.xlabel('Epochs')\n",
        "plt.ylabel('Acc')\n",
        "plt.legend()\n",
        "\n",
        "plt.show()"
      ],
      "metadata": {
        "id": "jnxDElUDdgFv",
        "colab": {
          "base_uri": "https://localhost:8080/",
          "height": 314
        },
        "outputId": "5040cc6d-a86a-4fc8-c6fb-38c2b26cd225"
      },
      "execution_count": null,
      "outputs": [
        {
          "output_type": "stream",
          "name": "stdout",
          "text": [
            "35/35 [==============================] - 1s 5ms/step - loss: 1.7087 - accuracy: 0.7357\n"
          ]
        },
        {
          "output_type": "display_data",
          "data": {
            "text/plain": [
              "<Figure size 432x288 with 1 Axes>"
            ],
            "image/png": "[encoded data removed]"
          },
          "metadata": {
            "needs_background": "light"
          }
        }
      ]
    },
    {
      "cell_type": "code",
      "source": [
        "model_crnn.save('/content/drive/MyDrive/TmdJune/20sec/crnn_GRU_best.h5')"
      ],
      "metadata": {
        "id": "ahBQn9sEecdt"
      },
      "execution_count": null,
      "outputs": []
    },
    {
      "cell_type": "code",
      "source": [
        ""
      ],
      "metadata": {
        "id": "uP0HU-YN6I34"
      },
      "execution_count": null,
      "outputs": []
    }
  ]
}