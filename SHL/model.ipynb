{
  "nbformat": 4,
  "nbformat_minor": 0,
  "metadata": {
    "colab": {
      "name": "model.ipynb",
      "provenance": [],
      "collapsed_sections": [],
      "mount_file_id": "13UoZSNpzkE5zJlJDUPv7JrELmq1NEh7T",
      "authorship_tag": "ABX9TyNGBPBcIKleBFKxfayMBklY",
      "include_colab_link": true
    },
    "kernelspec": {
      "name": "python3",
      "display_name": "Python 3"
    },
    "language_info": {
      "name": "python"
    },
    "accelerator": "GPU"
  },
  "cells": [
    {
      "cell_type": "markdown",
      "metadata": {
        "id": "view-in-github",
        "colab_type": "text"
      },
      "source": [
        "<a href=\"https://colab.research.google.com/github/youngeun1207/keras/blob/main/SHL/model.ipynb\" target=\"_parent\"><img src=\"https://colab.research.google.com/assets/colab-badge.svg\" alt=\"Open In Colab\"/></a>"
      ]
    },
    {
      "cell_type": "code",
      "execution_count": 1,
      "metadata": {
        "id": "sHp0SZ-Hk0Lu"
      },
      "outputs": [],
      "source": [
        "import numpy as np\n",
        "train_data = np.load('/content/drive/MyDrive/SHLdatasets/train_data_5sec2.npy')\n",
        "train_label = np.load('/content/drive/MyDrive/SHLdatasets/train_label_5sec2.npy')\n",
        "\n",
        "val_data = np.load('/content/drive/MyDrive/SHLdatasets/val_data_5sec2.npy')\n",
        "val_label= np.load('/content/drive/MyDrive/SHLdatasets/val_label_5sec2.npy')"
      ]
    },
    {
      "cell_type": "code",
      "source": [
        "print(train_data.shape)\n",
        "print(train_label.shape)\n",
        "print(val_data.shape)\n",
        "print(val_label.shape)"
      ],
      "metadata": {
        "id": "c7Tig-lqlGyo",
        "colab": {
          "base_uri": "https://localhost:8080/"
        },
        "outputId": "aeb41ffc-697c-43e4-8562-506a29144f3f"
      },
      "execution_count": 2,
      "outputs": [
        {
          "output_type": "stream",
          "name": "stdout",
          "text": [
            "(39640, 500, 17)\n",
            "(39640, 9)\n",
            "(20454, 500, 17)\n",
            "(20454, 9)\n"
          ]
        }
      ]
    },
    {
      "cell_type": "code",
      "source": [
        "train_data = np.nan_to_num(train_data)\n",
        "val_data = np.nan_to_num(val_data)"
      ],
      "metadata": {
        "id": "JnfEKV9hlPPy"
      },
      "execution_count": 2,
      "outputs": []
    },
    {
      "cell_type": "code",
      "source": [
        "from keras import regularizers\n",
        "# from keras.backend import dropout\n",
        "from keras.models import Sequential\n",
        "from keras import layers\n",
        "from tensorflow.keras.optimizers import RMSprop\n",
        "\n",
        "model = Sequential()\n",
        "model.add(layers.LSTM(32, input_shape=(500, 17), return_sequences=True))\n",
        "model.add(layers.LSTM(32))\n",
        "# ,kernel_regularizer=regularizers.l2(0.001) , recurrent_dropout = 0.5, return_sequences=True\n",
        "model.add(layers.Dense(9, activation='softmax'))\n",
        "\n",
        "model.compile(optimizer='rmsprop',\n",
        "             loss= 'categorical_crossentropy',\n",
        "             metrics= ['accuracy'])\n",
        "model.summary()\n",
        "\n",
        "history = model.fit(train_data,\n",
        "                     train_label,\n",
        "                     epochs=20,\n",
        "                     batch_size=256,\n",
        "                     validation_data = (val_data, val_label))"
      ],
      "metadata": {
        "id": "gDmzdsLKlK43"
      },
      "execution_count": null,
      "outputs": []
    },
    {
      "cell_type": "code",
      "source": [
        "# 집가서 돌려보기...\n",
        "from keras import regularizers\n",
        "from keras.backend import dropout\n",
        "from keras.models import Sequential\n",
        "from keras import layers\n",
        "from tensorflow.keras.optimizers import RMSprop\n",
        "\n",
        "model = Sequential()\n",
        "# 64가 마지노선인듯...\n",
        "model.add(layers.LSTM(64, input_shape=(500, 16), \n",
        "                      recurrent_dropout = 0.5, \n",
        "                      dropout = 0.1,\n",
        "                      kernel_regularizer=regularizers.l2(0.001)))\n",
        "model.add(layers.Dense(9, activation='softmax'))\n",
        "\n",
        "model.compile(optimizer='rmsprop',\n",
        "             loss= 'categorical_crossentropy',\n",
        "             metrics= ['accuracy'])\n",
        "model.summary()\n",
        "\n",
        "history = model.fit(train_data[:,:,1:],\n",
        "                    train_label,\n",
        "                    epochs=25,\n",
        "                    batch_size=2048,\n",
        "                    validation_data = (val_data[:,:,1:], val_label))"
      ],
      "metadata": {
        "id": "Wrg2CROqGjHJ"
      },
      "execution_count": null,
      "outputs": []
    },
    {
      "cell_type": "code",
      "source": [
        "model.evaluate(val_data[:,:,1:], val_label)"
      ],
      "metadata": {
        "colab": {
          "base_uri": "https://localhost:8080/"
        },
        "id": "AnbFGEH0a9SC",
        "outputId": "43222423-192b-4a7f-c388-7a9d8b588e1d"
      },
      "execution_count": 8,
      "outputs": [
        {
          "output_type": "stream",
          "name": "stdout",
          "text": [
            "640/640 [==============================] - 6s 9ms/step - loss: 2.5428 - accuracy: 0.2806\n"
          ]
        },
        {
          "output_type": "execute_result",
          "data": {
            "text/plain": [
              "[2.542794942855835, 0.2806296944618225]"
            ]
          },
          "metadata": {},
          "execution_count": 8
        }
      ]
    },
    {
      "cell_type": "code",
      "source": [
        "# l2규제(0.001) + dropout(0.1), acc = 0.31\n",
        "import matplotlib.pyplot as plt\n",
        "\n",
        "acc = history.history['accuracy']\n",
        "val_acc = history.history['val_accuracy']\n",
        "\n",
        "epochs = range(1, len(acc)+1)\n",
        "\n",
        "plt.plot(epochs, acc, 'b', label='Training acc')\n",
        "plt.plot(epochs, val_acc, 'bo', label='Validation acc')\n",
        "plt.title('Training and validation acc')\n",
        "plt.xlabel('Epochs')\n",
        "plt.ylabel('Acc')\n",
        "plt.legend()\n",
        "\n",
        "plt.show()"
      ],
      "metadata": {
        "id": "FuoLE2zKlReP",
        "colab": {
          "base_uri": "https://localhost:8080/",
          "height": 295
        },
        "outputId": "633f871c-b954-4e9b-a5b6-b9b332c415f0"
      },
      "execution_count": 7,
      "outputs": [
        {
          "output_type": "display_data",
          "data": {
            "text/plain": [
              "<Figure size 432x288 with 1 Axes>"
            ],
            "image/png": "[encoded data removed]"
          },
          "metadata": {
            "needs_background": "light"
          }
        }
      ]
    },
    {
      "cell_type": "code",
      "source": [
        "# l2규제(0.001), acc = 0.34\n",
        "import matplotlib.pyplot as plt\n",
        "\n",
        "acc = history.history['accuracy']\n",
        "val_acc = history.history['val_accuracy']\n",
        "\n",
        "epochs = range(1, len(acc)+1)\n",
        "\n",
        "plt.plot(epochs, acc, 'b', label='Training acc')\n",
        "plt.plot(epochs, val_acc, 'bo', label='Validation acc')\n",
        "plt.title('Training and validation acc')\n",
        "plt.xlabel('Epochs')\n",
        "plt.ylabel('Acc')\n",
        "plt.legend()\n",
        "\n",
        "plt.show()"
      ],
      "metadata": {
        "colab": {
          "base_uri": "https://localhost:8080/",
          "height": 295
        },
        "outputId": "a5819975-08bf-4108-a08d-cd8676286c26",
        "id": "IZg0_YgFEusV"
      },
      "execution_count": 10,
      "outputs": [
        {
          "output_type": "display_data",
          "data": {
            "text/plain": [
              "<Figure size 432x288 with 1 Axes>"
            ],
            "image/png": "[encoded data removed]"
          },
          "metadata": {
            "needs_background": "light"
          }
        }
      ]
    },
    {
      "cell_type": "code",
      "source": [
        ""
      ],
      "metadata": {
        "id": "d3qX2h4YEvl_"
      },
      "execution_count": null,
      "outputs": []
    }
  ]
}