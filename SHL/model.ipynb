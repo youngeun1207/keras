{
  "nbformat": 4,
  "nbformat_minor": 0,
  "metadata": {
    "colab": {
      "name": "model.ipynb",
      "provenance": [],
      "collapsed_sections": [],
      "mount_file_id": "13UoZSNpzkE5zJlJDUPv7JrELmq1NEh7T",
      "authorship_tag": "ABX9TyOOnabNB4eaPXKOJkPina+u",
      "include_colab_link": true
    },
    "kernelspec": {
      "name": "python3",
      "display_name": "Python 3"
    },
    "language_info": {
      "name": "python"
    },
    "accelerator": "GPU"
  },
  "cells": [
    {
      "cell_type": "markdown",
      "metadata": {
        "id": "view-in-github",
        "colab_type": "text"
      },
      "source": [
        "<a href=\"https://colab.research.google.com/github/youngeun1207/keras/blob/main/SHL/model.ipynb\" target=\"_parent\"><img src=\"https://colab.research.google.com/assets/colab-badge.svg\" alt=\"Open In Colab\"/></a>"
      ]
    },
    {
      "cell_type": "code",
      "execution_count": 1,
      "metadata": {
        "id": "sHp0SZ-Hk0Lu"
      },
      "outputs": [],
      "source": [
        "import numpy as np\n",
        "train_data = np.load('/content/drive/MyDrive/SHLdatasets/train_data_5sec.npy')\n",
        "train_label = np.load('/content/drive/MyDrive/SHLdatasets/train_label_5sec.npy')\n",
        "\n",
        "val_data = np.load('/content/drive/MyDrive/SHLdatasets/val_data_5sec.npy')\n",
        "val_label= np.load('/content/drive/MyDrive/SHLdatasets/val_label_5sec.npy')"
      ]
    },
    {
      "cell_type": "code",
      "source": [
        "print(train_data.shape)\n",
        "print(train_label.shape)\n",
        "print(val_data.shape)\n",
        "print(val_label.shape)"
      ],
      "metadata": {
        "id": "c7Tig-lqlGyo",
        "colab": {
          "base_uri": "https://localhost:8080/"
        },
        "outputId": "6903d40a-95f5-4bbf-85e2-b86ecf8a01b5"
      },
      "execution_count": 2,
      "outputs": [
        {
          "output_type": "stream",
          "name": "stdout",
          "text": [
            "(42559, 500, 17)\n",
            "(42559, 9)\n",
            "(17535, 500, 17)\n",
            "(17535, 9)\n"
          ]
        }
      ]
    },
    {
      "cell_type": "code",
      "source": [
        ""
      ],
      "metadata": {
        "colab": {
          "base_uri": "https://localhost:8080/"
        },
        "id": "CnAV9POJd7Tx",
        "outputId": "48de7323-e9d4-4916-c470-38bf98984f81"
      },
      "execution_count": 21,
      "outputs": [
        {
          "output_type": "stream",
          "name": "stdout",
          "text": [
            "[-0.6266284  -1.8022208   1.92599286  0.06325357 -0.20337966 -0.09326301\n",
            " -0.00430304  1.37128901 -0.94727814 -0.29262427  0.          0.\n",
            "  0.         -0.28621907 -0.16696666 -0.02682953 -0.05032465]\n",
            "[0. 0. 0. 0. 0. 1. 0. 0. 0.]\n"
          ]
        }
      ]
    },
    {
      "cell_type": "code",
      "source": [
        "train_data = np.nan_to_num(train_data)\n",
        "val_data = np.nan_to_num(val_data)"
      ],
      "metadata": {
        "id": "JnfEKV9hlPPy"
      },
      "execution_count": 3,
      "outputs": []
    },
    {
      "cell_type": "code",
      "source": [
        "from keras import regularizers\n",
        "# from keras.backend import dropout\n",
        "from keras.models import Sequential\n",
        "from keras import layers\n",
        "from tensorflow.keras.optimizers import RMSprop\n",
        "\n",
        "model = Sequential()\n",
        "model.add(layers.LSTM(16, input_shape=(500, 17), return_sequences=True))\n",
        "model.add(layers.LSTM(16))\n",
        "# ,kernel_regularizer=regularizers.l2(0.001) , recurrent_dropout = 0.5, return_sequences=True\n",
        "model.add(layers.Dense(9, activation='softmax'))\n",
        "\n",
        "model.compile(optimizer='rmsprop',\n",
        "             loss= 'categorical_crossentropy',\n",
        "             metrics= ['accuracy'])\n",
        "model.summary()\n",
        "\n",
        "history = model.fit(train_data,\n",
        "                     train_label,\n",
        "                     epochs=20,\n",
        "                     batch_size=256,\n",
        "                     validation_data = (val_data, val_label))"
      ],
      "metadata": {
        "id": "gDmzdsLKlK43",
        "colab": {
          "base_uri": "https://localhost:8080/"
        },
        "outputId": "c1e12b91-2cb5-4709-e757-a33dfe3e97fd"
      },
      "execution_count": 4,
      "outputs": [
        {
          "output_type": "stream",
          "name": "stdout",
          "text": [
            "Model: \"sequential\"\n",
            "_________________________________________________________________\n",
            " Layer (type)                Output Shape              Param #   \n",
            "=================================================================\n",
            " lstm (LSTM)                 (None, 500, 16)           2176      \n",
            "                                                                 \n",
            " lstm_1 (LSTM)               (None, 16)                2112      \n",
            "                                                                 \n",
            " dense (Dense)               (None, 9)                 153       \n",
            "                                                                 \n",
            "=================================================================\n",
            "Total params: 4,441\n",
            "Trainable params: 4,441\n",
            "Non-trainable params: 0\n",
            "_________________________________________________________________\n",
            "Epoch 1/20\n",
            "84/84 [==============================] - 33s 308ms/step - loss: 1.7441 - accuracy: 0.3930 - val_loss: 2.1558 - val_accuracy: 0.1655\n",
            "Epoch 2/20\n",
            "84/84 [==============================] - 23s 277ms/step - loss: 1.3840 - accuracy: 0.5247 - val_loss: 2.1326 - val_accuracy: 0.1438\n",
            "Epoch 3/20\n",
            "84/84 [==============================] - 24s 281ms/step - loss: 1.2977 - accuracy: 0.5559 - val_loss: 2.1966 - val_accuracy: 0.1490\n",
            "Epoch 4/20\n",
            "84/84 [==============================] - 23s 277ms/step - loss: 1.2170 - accuracy: 0.5829 - val_loss: 2.1580 - val_accuracy: 0.1701\n",
            "Epoch 5/20\n",
            "84/84 [==============================] - 26s 312ms/step - loss: 1.1564 - accuracy: 0.5986 - val_loss: 2.2718 - val_accuracy: 0.1600\n",
            "Epoch 6/20\n",
            "84/84 [==============================] - 24s 289ms/step - loss: 1.1194 - accuracy: 0.6049 - val_loss: 2.2598 - val_accuracy: 0.2085\n",
            "Epoch 7/20\n",
            "84/84 [==============================] - 23s 279ms/step - loss: 1.0582 - accuracy: 0.6234 - val_loss: 2.2119 - val_accuracy: 0.2127\n",
            "Epoch 8/20\n",
            "84/84 [==============================] - 24s 283ms/step - loss: 1.0367 - accuracy: 0.6289 - val_loss: 2.3541 - val_accuracy: 0.2794\n",
            "Epoch 9/20\n",
            "84/84 [==============================] - 26s 306ms/step - loss: 1.0068 - accuracy: 0.6425 - val_loss: 2.4292 - val_accuracy: 0.1946\n",
            "Epoch 10/20\n",
            "84/84 [==============================] - 23s 273ms/step - loss: 0.9828 - accuracy: 0.6483 - val_loss: 2.4565 - val_accuracy: 0.2019\n",
            "Epoch 11/20\n",
            "84/84 [==============================] - 23s 279ms/step - loss: 0.9650 - accuracy: 0.6546 - val_loss: 2.3813 - val_accuracy: 0.2688\n",
            "Epoch 12/20\n",
            "84/84 [==============================] - 23s 278ms/step - loss: 0.9702 - accuracy: 0.6456 - val_loss: 2.3876 - val_accuracy: 0.1970\n",
            "Epoch 13/20\n",
            "84/84 [==============================] - 23s 280ms/step - loss: 0.9460 - accuracy: 0.6569 - val_loss: 2.3312 - val_accuracy: 0.2133\n",
            "Epoch 14/20\n",
            "84/84 [==============================] - 26s 307ms/step - loss: 0.9348 - accuracy: 0.6636 - val_loss: 2.3541 - val_accuracy: 0.2006\n",
            "Epoch 15/20\n",
            "84/84 [==============================] - 24s 293ms/step - loss: 0.9056 - accuracy: 0.6767 - val_loss: 2.4649 - val_accuracy: 0.2025\n",
            "Epoch 16/20\n",
            "84/84 [==============================] - 23s 280ms/step - loss: 0.9039 - accuracy: 0.6717 - val_loss: 2.3445 - val_accuracy: 0.2188\n",
            "Epoch 17/20\n",
            "84/84 [==============================] - 24s 290ms/step - loss: 0.8926 - accuracy: 0.6781 - val_loss: 2.6033 - val_accuracy: 0.1940\n",
            "Epoch 18/20\n",
            "84/84 [==============================] - 24s 287ms/step - loss: 0.8753 - accuracy: 0.6840 - val_loss: 2.5585 - val_accuracy: 0.2047\n",
            "Epoch 19/20\n",
            "84/84 [==============================] - 22s 267ms/step - loss: 0.8725 - accuracy: 0.6864 - val_loss: 2.6406 - val_accuracy: 0.1948\n",
            "Epoch 20/20\n",
            "84/84 [==============================] - 24s 284ms/step - loss: 0.8529 - accuracy: 0.6935 - val_loss: 2.6815 - val_accuracy: 0.1896\n"
          ]
        }
      ]
    },
    {
      "cell_type": "code",
      "source": [
        "import matplotlib.pyplot as plt\n",
        "\n",
        "acc = history.history['accuracy']\n",
        "val_acc = history.history['val_accuracy']\n",
        "\n",
        "epochs = range(1, len(acc)+1)\n",
        "\n",
        "plt.plot(epochs, acc, 'bo', label='Training acc')\n",
        "plt.plot(epochs, val_acc, 'b', label='Validation acc')\n",
        "plt.title('Training and validation acc')\n",
        "plt.xlabel('Epochs')\n",
        "plt.ylabel('Acc')\n",
        "plt.legend()\n",
        "\n",
        "plt.show()"
      ],
      "metadata": {
        "id": "FuoLE2zKlReP",
        "colab": {
          "base_uri": "https://localhost:8080/",
          "height": 295
        },
        "outputId": "dac5567c-1657-41f1-aecb-3152d5c48f32"
      },
      "execution_count": 5,
      "outputs": [
        {
          "output_type": "display_data",
          "data": {
            "text/plain": [
              "<Figure size 432x288 with 1 Axes>"
            ],
            "image/png": "[encoded data removed]"
          },
          "metadata": {
            "needs_background": "light"
          }
        }
      ]
    },
    {
      "cell_type": "code",
      "source": [
        "model.evaluate(val_data, val_label)"
      ],
      "metadata": {
        "colab": {
          "base_uri": "https://localhost:8080/"
        },
        "id": "AnbFGEH0a9SC",
        "outputId": "70fbe7ec-bb23-4b8b-8e9b-e9c9ecf4e4a2"
      },
      "execution_count": 15,
      "outputs": [
        {
          "output_type": "stream",
          "name": "stdout",
          "text": [
            "548/548 [==============================] - 66s 121ms/step - loss: 2.6815 - accuracy: 0.1896\n"
          ]
        },
        {
          "output_type": "execute_result",
          "data": {
            "text/plain": [
              "[2.681549310684204, 0.1896207630634308]"
            ]
          },
          "metadata": {},
          "execution_count": 15
        }
      ]
    }
  ]
}