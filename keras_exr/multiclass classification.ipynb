{
 "cells": [
  {
   "cell_type": "code",
   "execution_count": 1,
   "id": "d8c638aa",
   "metadata": {},
   "outputs": [],
   "source": [
    "import keras\n",
    "from keras.datasets import reuters\n",
    "\n",
    "(train_data, train_labels), (test_data, test_labels) = reuters.load_data(num_words=10000)"
   ]
  },
  {
   "cell_type": "code",
   "execution_count": 2,
   "id": "4a41d0ee",
   "metadata": {},
   "outputs": [
    {
     "data": {
      "text/plain": [
       "8982"
      ]
     },
     "execution_count": 2,
     "metadata": {},
     "output_type": "execute_result"
    }
   ],
   "source": [
    "len(train_data)"
   ]
  },
  {
   "cell_type": "code",
   "execution_count": 3,
   "id": "829841c9",
   "metadata": {},
   "outputs": [
    {
     "data": {
      "text/plain": [
       "2246"
      ]
     },
     "execution_count": 3,
     "metadata": {},
     "output_type": "execute_result"
    }
   ],
   "source": [
    "len(test_data)"
   ]
  },
  {
   "cell_type": "code",
   "execution_count": 4,
   "id": "da9de3d6",
   "metadata": {},
   "outputs": [
    {
     "data": {
      "text/plain": [
       "3"
      ]
     },
     "execution_count": 4,
     "metadata": {},
     "output_type": "execute_result"
    }
   ],
   "source": [
    "#데이터셋 텍스트로 디코딩\n",
    "word_index = reuters.get_word_index()\n",
    "reverse_word_index = dict([(value, key) for (key, value) in word_index.items()])\n",
    "decoded_newswire = ' '.join([reverse_word_index.get(i-3, '?') for i in train_data[0]])\n",
    "\n",
    "train_labels[10]"
   ]
  },
  {
   "cell_type": "code",
   "execution_count": 5,
   "id": "2feed251",
   "metadata": {},
   "outputs": [],
   "source": [
    "# 데이터 인코딩\n",
    "import numpy as np\n",
    "\n",
    "def vectorize_sequences(sequences, dimension=10000):\n",
    "    results = np.zeros((len(sequences), dimension))\n",
    "    for i, sequence in enumerate(sequences):\n",
    "        results[i, sequence] = 1.\n",
    "    return results\n",
    "\n",
    "x_train = vectorize_sequences(train_data) # 훈련 데이터 벡터 변환\n",
    "x_test = vectorize_sequences(test_data) # 테스트 데이터 벡터 변환"
   ]
  },
  {
   "cell_type": "code",
   "execution_count": 6,
   "id": "1c8e3060",
   "metadata": {},
   "outputs": [],
   "source": [
    "# 레이블 -> 벡터 : 원-핫 인코딩(범주형 인코딩)\n",
    "from keras.utils.np_utils import to_categorical\n",
    "\n",
    "one_hot_train_labels = to_categorical(train_labels)\n",
    "one_hot_test_labels = to_categorical(test_labels)"
   ]
  },
  {
   "cell_type": "code",
   "execution_count": 7,
   "id": "7c80e9ca",
   "metadata": {},
   "outputs": [
    {
     "name": "stdout",
     "output_type": "stream",
     "text": [
      "Metal device set to: Apple M1\n"
     ]
    },
    {
     "name": "stderr",
     "output_type": "stream",
     "text": [
      "2022-03-14 14:42:39.998385: I tensorflow/core/common_runtime/pluggable_device/pluggable_device_factory.cc:305] Could not identify NUMA node of platform GPU ID 0, defaulting to 0. Your kernel may not have been built with NUMA support.\n",
      "2022-03-14 14:42:39.998468: I tensorflow/core/common_runtime/pluggable_device/pluggable_device_factory.cc:271] Created TensorFlow device (/job:localhost/replica:0/task:0/device:GPU:0 with 0 MB memory) -> physical PluggableDevice (device: 0, name: METAL, pci bus id: <undefined>)\n"
     ]
    }
   ],
   "source": [
    "# 모델 정의\n",
    "from keras import models\n",
    "from keras import layers\n",
    "\n",
    "model = models.Sequential()\n",
    "# 출력이 46클래스로 나뉘니까 유닛 갯수를 좀 더 크게 (64차원으로)\n",
    "model.add(layers.Dense(64, activation='relu', input_shape=(10000,)))\n",
    "model.add(layers.Dense(64, activation='relu'))\n",
    "# softmax -> class[i]에 속할 확률 출력\n",
    "model.add(layers.Dense(46, activation='softmax')) # 출력 클래스 갯수 46개"
   ]
  },
  {
   "cell_type": "code",
   "execution_count": 8,
   "id": "7ffacaa8",
   "metadata": {},
   "outputs": [],
   "source": [
    "# 모델 컴파일\n",
    "model.compile(optimizer='rmsprop',\n",
    "             loss= 'categorical_crossentropy', # 두 확률분포 사이의 거리 측정 -> 거리 최소화 => 진짜 레이블에 가까운 출력 내도록\n",
    "             metrics= ['accuracy'])"
   ]
  },
  {
   "cell_type": "code",
   "execution_count": 9,
   "id": "6e4e7117",
   "metadata": {},
   "outputs": [],
   "source": [
    "# 검증 세트 준비\n",
    "x_val = x_train[:1000]\n",
    "partial_x_train = x_train[1000:]\n",
    "\n",
    "y_val = one_hot_train_labels[:1000]\n",
    "partial_y_train = one_hot_train_labels[1000:]"
   ]
  },
  {
   "cell_type": "code",
   "execution_count": 10,
   "id": "78529549",
   "metadata": {},
   "outputs": [
    {
     "name": "stdout",
     "output_type": "stream",
     "text": [
      "Epoch 1/20\n"
     ]
    },
    {
     "name": "stderr",
     "output_type": "stream",
     "text": [
      "2022-03-14 14:42:40.296940: W tensorflow/core/platform/profile_utils/cpu_utils.cc:128] Failed to get CPU frequency: 0 Hz\n"
     ]
    },
    {
     "name": "stdout",
     "output_type": "stream",
     "text": [
      " 6/16 [==========>...................] - ETA: 0s - loss: 3.2849 - accuracy: 0.4479"
     ]
    },
    {
     "name": "stderr",
     "output_type": "stream",
     "text": [
      "2022-03-14 14:42:40.537455: I tensorflow/core/grappler/optimizers/custom_graph_optimizer_registry.cc:113] Plugin optimizer for device_type GPU is enabled.\n"
     ]
    },
    {
     "name": "stdout",
     "output_type": "stream",
     "text": [
      "16/16 [==============================] - 1s 21ms/step - loss: 2.5746 - accuracy: 0.5390 - val_loss: 1.6878 - val_accuracy: 0.6340\n",
      "Epoch 2/20\n",
      "11/16 [===================>..........] - ETA: 0s - loss: 1.4325 - accuracy: 0.7005"
     ]
    },
    {
     "name": "stderr",
     "output_type": "stream",
     "text": [
      "2022-03-14 14:42:40.937258: I tensorflow/core/grappler/optimizers/custom_graph_optimizer_registry.cc:113] Plugin optimizer for device_type GPU is enabled.\n"
     ]
    },
    {
     "name": "stdout",
     "output_type": "stream",
     "text": [
      "16/16 [==============================] - 0s 12ms/step - loss: 1.3764 - accuracy: 0.7091 - val_loss: 1.2624 - val_accuracy: 0.7200\n",
      "Epoch 3/20\n",
      "16/16 [==============================] - 0s 12ms/step - loss: 1.0163 - accuracy: 0.7821 - val_loss: 1.1126 - val_accuracy: 0.7670\n",
      "Epoch 4/20\n",
      "16/16 [==============================] - 0s 12ms/step - loss: 0.7968 - accuracy: 0.8285 - val_loss: 1.0115 - val_accuracy: 0.7820\n",
      "Epoch 5/20\n",
      "16/16 [==============================] - 0s 12ms/step - loss: 0.6295 - accuracy: 0.8643 - val_loss: 0.9489 - val_accuracy: 0.8080\n",
      "Epoch 6/20\n",
      "16/16 [==============================] - 0s 12ms/step - loss: 0.4983 - accuracy: 0.8959 - val_loss: 0.9205 - val_accuracy: 0.8050\n",
      "Epoch 7/20\n",
      "16/16 [==============================] - 0s 12ms/step - loss: 0.3970 - accuracy: 0.9162 - val_loss: 0.9146 - val_accuracy: 0.8010\n",
      "Epoch 8/20\n",
      "16/16 [==============================] - 0s 12ms/step - loss: 0.3250 - accuracy: 0.9286 - val_loss: 0.8932 - val_accuracy: 0.8210\n",
      "Epoch 9/20\n",
      "16/16 [==============================] - 0s 12ms/step - loss: 0.2652 - accuracy: 0.9391 - val_loss: 0.9014 - val_accuracy: 0.8170\n",
      "Epoch 10/20\n",
      "16/16 [==============================] - 0s 12ms/step - loss: 0.2261 - accuracy: 0.9463 - val_loss: 0.8905 - val_accuracy: 0.8210\n",
      "Epoch 11/20\n",
      "16/16 [==============================] - 0s 12ms/step - loss: 0.1968 - accuracy: 0.9491 - val_loss: 0.9383 - val_accuracy: 0.8140\n",
      "Epoch 12/20\n",
      "16/16 [==============================] - 0s 12ms/step - loss: 0.1729 - accuracy: 0.9530 - val_loss: 0.9462 - val_accuracy: 0.8060\n",
      "Epoch 13/20\n",
      "16/16 [==============================] - 0s 12ms/step - loss: 0.1604 - accuracy: 0.9543 - val_loss: 0.9852 - val_accuracy: 0.8070\n",
      "Epoch 14/20\n",
      "16/16 [==============================] - 0s 12ms/step - loss: 0.1463 - accuracy: 0.9538 - val_loss: 0.9857 - val_accuracy: 0.8070\n",
      "Epoch 15/20\n",
      "16/16 [==============================] - 0s 12ms/step - loss: 0.1324 - accuracy: 0.9565 - val_loss: 0.9882 - val_accuracy: 0.8140\n",
      "Epoch 16/20\n",
      "16/16 [==============================] - 0s 12ms/step - loss: 0.1272 - accuracy: 0.9560 - val_loss: 1.0228 - val_accuracy: 0.8010\n",
      "Epoch 17/20\n",
      "16/16 [==============================] - 0s 12ms/step - loss: 0.1217 - accuracy: 0.9575 - val_loss: 1.0536 - val_accuracy: 0.7950\n",
      "Epoch 18/20\n",
      "16/16 [==============================] - 0s 12ms/step - loss: 0.1167 - accuracy: 0.9553 - val_loss: 1.0749 - val_accuracy: 0.7960\n",
      "Epoch 19/20\n",
      "16/16 [==============================] - 0s 12ms/step - loss: 0.1160 - accuracy: 0.9573 - val_loss: 1.0579 - val_accuracy: 0.8040\n",
      "Epoch 20/20\n",
      "16/16 [==============================] - 0s 12ms/step - loss: 0.1111 - accuracy: 0.9577 - val_loss: 1.0751 - val_accuracy: 0.8070\n"
     ]
    }
   ],
   "source": [
    "# 모델 훈련\n",
    "history = model.fit(partial_x_train,\n",
    "                   partial_y_train,\n",
    "                   epochs=20,\n",
    "                   batch_size=512,\n",
    "                   validation_data=(x_val, y_val))"
   ]
  },
  {
   "cell_type": "code",
   "execution_count": 11,
   "id": "4fd04bf6",
   "metadata": {},
   "outputs": [
    {
     "data": {
      "image/png": "[encoded data removed]",
      "text/plain": [
       "<Figure size 432x288 with 1 Axes>"
      ]
     },
     "metadata": {
      "needs_background": "light"
     },
     "output_type": "display_data"
    }
   ],
   "source": [
    "import matplotlib.pyplot as plt\n",
    "\n",
    "loss = history.history['loss']\n",
    "val_loss = history.history['val_loss']\n",
    "\n",
    "epochs = range(1, len(loss)+1)\n",
    "\n",
    "plt.plot(epochs, loss, 'bo', label='Training loss')\n",
    "plt.plot(epochs, val_loss, 'b', label='Validation loss')\n",
    "plt.title('Training and validation loss')\n",
    "plt.xlabel('Epochs')\n",
    "plt.ylabel('Loss')\n",
    "plt.legend()\n",
    "\n",
    "plt.show()"
   ]
  },
  {
   "cell_type": "code",
   "execution_count": 16,
   "id": "8b1f0791",
   "metadata": {},
   "outputs": [
    {
     "data": {
      "image/png": "[encoded data removed]",
      "text/plain": [
       "<Figure size 432x288 with 1 Axes>"
      ]
     },
     "metadata": {
      "needs_background": "light"
     },
     "output_type": "display_data"
    }
   ],
   "source": [
    "plt.clf()\n",
    "acc = history.history['accuracy']\n",
    "val_acc = history.history['val_accuracy']\n",
    "\n",
    "plt.plot(epochs, acc, 'ro', label='Training acc')\n",
    "plt.plot(epochs, val_acc, 'r', label='Validation acc')\n",
    "plt.title('Training and validation accuracy')\n",
    "plt.xlabel('Epochs')\n",
    "plt.ylabel('Accuracy')\n",
    "plt.legend()\n",
    "\n",
    "plt.show()"
   ]
  },
  {
   "cell_type": "code",
   "execution_count": 17,
   "id": "907f9e3f",
   "metadata": {},
   "outputs": [
    {
     "name": "stdout",
     "output_type": "stream",
     "text": [
      "Epoch 1/9\n",
      " 6/16 [==========>...................] - ETA: 0s - loss: 3.2756 - accuracy: 0.4346"
     ]
    },
    {
     "name": "stderr",
     "output_type": "stream",
     "text": [
      "2022-03-14 14:49:56.856455: I tensorflow/core/grappler/optimizers/custom_graph_optimizer_registry.cc:113] Plugin optimizer for device_type GPU is enabled.\n"
     ]
    },
    {
     "name": "stdout",
     "output_type": "stream",
     "text": [
      "16/16 [==============================] - 1s 21ms/step - loss: 2.5407 - accuracy: 0.5421 - val_loss: 1.6784 - val_accuracy: 0.6500\n",
      "Epoch 2/9\n",
      "12/16 [=====================>........] - ETA: 0s - loss: 1.4320 - accuracy: 0.6984"
     ]
    },
    {
     "name": "stderr",
     "output_type": "stream",
     "text": [
      "2022-03-14 14:49:57.242150: I tensorflow/core/grappler/optimizers/custom_graph_optimizer_registry.cc:113] Plugin optimizer for device_type GPU is enabled.\n"
     ]
    },
    {
     "name": "stdout",
     "output_type": "stream",
     "text": [
      "16/16 [==============================] - 0s 12ms/step - loss: 1.3680 - accuracy: 0.7107 - val_loss: 1.2799 - val_accuracy: 0.6930\n",
      "Epoch 3/9\n",
      "16/16 [==============================] - 0s 12ms/step - loss: 1.0144 - accuracy: 0.7841 - val_loss: 1.1030 - val_accuracy: 0.7700\n",
      "Epoch 4/9\n",
      "16/16 [==============================] - 0s 12ms/step - loss: 0.8043 - accuracy: 0.8285 - val_loss: 1.0097 - val_accuracy: 0.7850\n",
      "Epoch 5/9\n",
      "16/16 [==============================] - 0s 13ms/step - loss: 0.6327 - accuracy: 0.8648 - val_loss: 0.9767 - val_accuracy: 0.7950\n",
      "Epoch 6/9\n",
      "16/16 [==============================] - 0s 12ms/step - loss: 0.5033 - accuracy: 0.8951 - val_loss: 0.9403 - val_accuracy: 0.7910\n",
      "Epoch 7/9\n",
      "16/16 [==============================] - 0s 12ms/step - loss: 0.4097 - accuracy: 0.9148 - val_loss: 0.8942 - val_accuracy: 0.8090\n",
      "Epoch 8/9\n",
      "16/16 [==============================] - 0s 12ms/step - loss: 0.3287 - accuracy: 0.9278 - val_loss: 0.8817 - val_accuracy: 0.8140\n",
      "Epoch 9/9\n",
      "16/16 [==============================] - 0s 12ms/step - loss: 0.2705 - accuracy: 0.9392 - val_loss: 0.9023 - val_accuracy: 0.8110\n",
      "71/71 [==============================] - 1s 8ms/step - loss: 0.9932 - accuracy: 0.7845\n"
     ]
    }
   ],
   "source": [
    "# 처음부터 다시 훈련..\n",
    "model = models.Sequential()\n",
    "model.add(layers.Dense(64, activation='relu', input_shape=(10000,)))\n",
    "model.add(layers.Dense(64, activation='relu'))\n",
    "model.add(layers.Dense(46, activation='softmax')) \n",
    "\n",
    "model.compile(optimizer='rmsprop',\n",
    "             loss= 'categorical_crossentropy',\n",
    "             metrics= ['accuracy'])\n",
    "\n",
    "model.fit(partial_x_train,\n",
    "          partial_y_train,\n",
    "          epochs=9, # 9번 이후 과대적합 시작 -> 9번 에포크로 줄이기\n",
    "          batch_size=512,\n",
    "          validation_data=(x_val, y_val))\n",
    "\n",
    "results = model.evaluate(x_test, one_hot_test_labels)"
   ]
  },
  {
   "cell_type": "code",
   "execution_count": 18,
   "id": "50331723",
   "metadata": {},
   "outputs": [
    {
     "data": {
      "text/plain": [
       "[0.9931504726409912, 0.7845057845115662]"
      ]
     },
     "execution_count": 18,
     "metadata": {},
     "output_type": "execute_result"
    }
   ],
   "source": [
    "results"
   ]
  },
  {
   "cell_type": "code",
   "execution_count": 20,
   "id": "873286fe",
   "metadata": {},
   "outputs": [
    {
     "name": "stdout",
     "output_type": "stream",
     "text": [
      "(46,)\n",
      "0.99999994\n",
      "3\n"
     ]
    }
   ],
   "source": [
    "predictions= model.predict(x_test)\n",
    "\n",
    "print(predictions[0].shape)\n",
    "print(np.sum(predictions[0]))\n",
    "print(np.argmax(predictions[0]))"
   ]
  },
  {
   "cell_type": "code",
   "execution_count": 23,
   "id": "75c1b108",
   "metadata": {},
   "outputs": [
    {
     "name": "stdout",
     "output_type": "stream",
     "text": [
      "Epoch 1/20\n",
      " 6/16 [==========>...................] - ETA: 0s - loss: 3.7388 - accuracy: 0.0339"
     ]
    },
    {
     "name": "stderr",
     "output_type": "stream",
     "text": [
      "2022-03-14 15:05:26.229109: I tensorflow/core/grappler/optimizers/custom_graph_optimizer_registry.cc:113] Plugin optimizer for device_type GPU is enabled.\n"
     ]
    },
    {
     "name": "stdout",
     "output_type": "stream",
     "text": [
      "16/16 [==============================] - 1s 20ms/step - loss: 3.6051 - accuracy: 0.0294 - val_loss: 3.4164 - val_accuracy: 0.0610\n",
      "Epoch 2/20\n",
      "11/16 [===================>..........] - ETA: 0s - loss: 3.2733 - accuracy: 0.1919"
     ]
    },
    {
     "name": "stderr",
     "output_type": "stream",
     "text": [
      "2022-03-14 15:05:26.604818: I tensorflow/core/grappler/optimizers/custom_graph_optimizer_registry.cc:113] Plugin optimizer for device_type GPU is enabled.\n"
     ]
    },
    {
     "name": "stdout",
     "output_type": "stream",
     "text": [
      "16/16 [==============================] - 0s 12ms/step - loss: 3.2239 - accuracy: 0.2200 - val_loss: 3.0900 - val_accuracy: 0.2810\n",
      "Epoch 3/20\n",
      "16/16 [==============================] - 0s 12ms/step - loss: 2.8771 - accuracy: 0.3084 - val_loss: 2.8148 - val_accuracy: 0.2870\n",
      "Epoch 4/20\n",
      "16/16 [==============================] - 0s 12ms/step - loss: 2.5926 - accuracy: 0.3188 - val_loss: 2.6051 - val_accuracy: 0.2940\n",
      "Epoch 5/20\n",
      "16/16 [==============================] - 0s 12ms/step - loss: 2.3657 - accuracy: 0.3236 - val_loss: 2.4255 - val_accuracy: 0.2900\n",
      "Epoch 6/20\n",
      "16/16 [==============================] - 0s 12ms/step - loss: 2.1433 - accuracy: 0.3290 - val_loss: 2.2260 - val_accuracy: 0.2990\n",
      "Epoch 7/20\n",
      "16/16 [==============================] - 0s 12ms/step - loss: 1.8914 - accuracy: 0.3353 - val_loss: 1.9935 - val_accuracy: 0.2980\n",
      "Epoch 8/20\n",
      "16/16 [==============================] - 0s 12ms/step - loss: 1.6136 - accuracy: 0.5106 - val_loss: 1.7477 - val_accuracy: 0.6290\n",
      "Epoch 9/20\n",
      "16/16 [==============================] - 0s 12ms/step - loss: 1.3586 - accuracy: 0.6721 - val_loss: 1.5414 - val_accuracy: 0.6380\n",
      "Epoch 10/20\n",
      "16/16 [==============================] - 0s 12ms/step - loss: 1.1835 - accuracy: 0.6888 - val_loss: 1.4439 - val_accuracy: 0.6540\n",
      "Epoch 11/20\n",
      "16/16 [==============================] - 0s 13ms/step - loss: 1.0789 - accuracy: 0.7008 - val_loss: 1.3825 - val_accuracy: 0.6540\n",
      "Epoch 12/20\n",
      "16/16 [==============================] - 0s 12ms/step - loss: 1.0044 - accuracy: 0.7145 - val_loss: 1.3688 - val_accuracy: 0.6530\n",
      "Epoch 13/20\n",
      "16/16 [==============================] - 0s 12ms/step - loss: 0.9453 - accuracy: 0.7206 - val_loss: 1.3529 - val_accuracy: 0.6610\n",
      "Epoch 14/20\n",
      "16/16 [==============================] - 0s 12ms/step - loss: 0.8910 - accuracy: 0.7385 - val_loss: 1.3298 - val_accuracy: 0.6730\n",
      "Epoch 15/20\n",
      "16/16 [==============================] - 0s 12ms/step - loss: 0.8407 - accuracy: 0.7640 - val_loss: 1.3191 - val_accuracy: 0.6800\n",
      "Epoch 16/20\n",
      "16/16 [==============================] - 0s 12ms/step - loss: 0.7951 - accuracy: 0.7859 - val_loss: 1.3289 - val_accuracy: 0.6830\n",
      "Epoch 17/20\n",
      "16/16 [==============================] - 0s 12ms/step - loss: 0.7538 - accuracy: 0.7988 - val_loss: 1.3242 - val_accuracy: 0.6920\n",
      "Epoch 18/20\n",
      "16/16 [==============================] - 0s 12ms/step - loss: 0.7182 - accuracy: 0.8061 - val_loss: 1.3048 - val_accuracy: 0.6960\n",
      "Epoch 19/20\n",
      "16/16 [==============================] - 0s 12ms/step - loss: 0.6842 - accuracy: 0.8136 - val_loss: 1.3307 - val_accuracy: 0.6990\n",
      "Epoch 20/20\n",
      "16/16 [==============================] - 0s 12ms/step - loss: 0.6557 - accuracy: 0.8216 - val_loss: 1.3330 - val_accuracy: 0.7030\n",
      "71/71 [==============================] - 0s 6ms/step - loss: 1.4146 - accuracy: 0.6919\n",
      "[1.4146379232406616, 0.6918967366218567]\n"
     ]
    }
   ],
   "source": [
    "# 병목 모델\n",
    "model = models.Sequential()\n",
    "model.add(layers.Dense(64, activation='relu', input_shape=(10000,)))\n",
    "model.add(layers.Dense(4, activation='relu')) # 작은 중간층 -> 손실된 정보 많아짐\n",
    "model.add(layers.Dense(46, activation='softmax')) \n",
    "\n",
    "model.compile(optimizer='rmsprop',\n",
    "             loss= 'categorical_crossentropy',\n",
    "             metrics= ['accuracy'])\n",
    "\n",
    "model.fit(partial_x_train,\n",
    "          partial_y_train,\n",
    "          epochs=20,\n",
    "          batch_size=512,\n",
    "          validation_data=(x_val, y_val))\n",
    "\n",
    "results = model.evaluate(x_test, one_hot_test_labels)\n",
    "print(results)"
   ]
  },
  {
   "cell_type": "code",
   "execution_count": null,
   "id": "0f995740",
   "metadata": {},
   "outputs": [],
   "source": []
  }
 ],
 "metadata": {
  "kernelspec": {
   "display_name": "Python 3 (ipykernel)",
   "language": "python",
   "name": "python3"
  },
  "language_info": {
   "codemirror_mode": {
    "name": "ipython",
    "version": 3
   },
   "file_extension": ".py",
   "mimetype": "text/x-python",
   "name": "python",
   "nbconvert_exporter": "python",
   "pygments_lexer": "ipython3",
   "version": "3.8.12"
  }
 },
 "nbformat": 4,
 "nbformat_minor": 5
}
